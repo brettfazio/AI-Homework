{
  "nbformat": 4,
  "nbformat_minor": 0,
  "metadata": {
    "colab": {
      "name": "hw4_problem3_b.ipynb",
      "provenance": [],
      "collapsed_sections": [],
      "include_colab_link": true
    },
    "kernelspec": {
      "name": "python3",
      "display_name": "Python 3"
    },
    "accelerator": "GPU"
  },
  "cells": [
    {
      "cell_type": "markdown",
      "metadata": {
        "id": "view-in-github",
        "colab_type": "text"
      },
      "source": [
        "<a href=\"https://colab.research.google.com/github/brettfazio/AI-Homework/blob/master/HW_4/hw4_problem3_b.ipynb\" target=\"_parent\"><img src=\"https://colab.research.google.com/assets/colab-badge.svg\" alt=\"Open In Colab\"/></a>"
      ]
    },
    {
      "cell_type": "markdown",
      "metadata": {
        "id": "9NDw2ZYTmq-5",
        "colab_type": "text"
      },
      "source": [
        "### This is my first adaptation of the Fine-tuning `pretrained_convnet` notebook.\n",
        "\n",
        "### Homework 4, Problem 3"
      ]
    },
    {
      "cell_type": "markdown",
      "metadata": {
        "id": "KSrgMJ5vKFzQ",
        "colab_type": "text"
      },
      "source": [
        "# Fine-tuning VGG16 "
      ]
    },
    {
      "cell_type": "markdown",
      "metadata": {
        "id": "TIW7bZaAK-Hf",
        "colab_type": "text"
      },
      "source": [
        "This is based on section 5.3 *Using a pretrained convnet* of the book *Deep learning with Python* by Francois Chollet. I have made several changes to the code. I use the data that is already provided by Google. I don't download the data from Kaggle as in the deep learning book."
      ]
    },
    {
      "cell_type": "markdown",
      "metadata": {
        "id": "nsBq__dVo2pj",
        "colab_type": "text"
      },
      "source": [
        "## Feature extraction"
      ]
    },
    {
      "cell_type": "markdown",
      "metadata": {
        "id": "0g6ETAM9o54M",
        "colab_type": "text"
      },
      "source": [
        "Feature extraction consists of using the representations learned by a previous network to extract interesting features from new samples. These features are then run through a new classifier, which is trained from scratch.\n",
        "\n",
        "We will use here the convolutional base of the VGG16 model to extract the features. We will feed these features to a densely connected classifier with dropout. We will fine-tune some layers."
      ]
    },
    {
      "cell_type": "markdown",
      "metadata": {
        "id": "BqIG8QHMLNOn",
        "colab_type": "text"
      },
      "source": [
        "## Download the data"
      ]
    },
    {
      "cell_type": "markdown",
      "metadata": {
        "id": "t3I1jd7cKV6_",
        "colab_type": "text"
      },
      "source": [
        "Download the example data, a zip. of 2,000 JPG pictures of cats and dogs and extract it locally in ```/tmp```.\n",
        "\n"
      ]
    },
    {
      "cell_type": "code",
      "metadata": {
        "id": "JWjprHEXJ5Qi",
        "colab_type": "code",
        "outputId": "71fd39f8-ec39-45d2-c915-8b013178359b",
        "colab": {
          "base_uri": "https://localhost:8080/",
          "height": 204
        }
      },
      "source": [
        "!wget --no-check-certificate \\\n",
        "    https://storage.googleapis.com/mledu-datasets/cats_and_dogs_filtered.zip \\\n",
        "    -O /tmp/cats_and_dogs_filtered.zip"
      ],
      "execution_count": 1,
      "outputs": [
        {
          "output_type": "stream",
          "text": [
            "--2020-04-17 17:14:30--  https://storage.googleapis.com/mledu-datasets/cats_and_dogs_filtered.zip\n",
            "Resolving storage.googleapis.com (storage.googleapis.com)... 172.217.194.128, 2404:6800:4003:c03::80\n",
            "Connecting to storage.googleapis.com (storage.googleapis.com)|172.217.194.128|:443... connected.\n",
            "HTTP request sent, awaiting response... 200 OK\n",
            "Length: 68606236 (65M) [application/zip]\n",
            "Saving to: ‘/tmp/cats_and_dogs_filtered.zip’\n",
            "\n",
            "/tmp/cats_and_dogs_ 100%[===================>]  65.43M  68.7MB/s    in 1.0s    \n",
            "\n",
            "2020-04-17 17:14:31 (68.7 MB/s) - ‘/tmp/cats_and_dogs_filtered.zip’ saved [68606236/68606236]\n",
            "\n"
          ],
          "name": "stdout"
        }
      ]
    },
    {
      "cell_type": "code",
      "metadata": {
        "id": "WvoHtdA-K6Rw",
        "colab_type": "code",
        "colab": {}
      },
      "source": [
        "import os\n",
        "import zipfile\n",
        "\n",
        "local_zip = '/tmp/cats_and_dogs_filtered.zip'\n",
        "zip_ref = zipfile.ZipFile(local_zip, 'r')\n",
        "zip_ref.extractall('/tmp')\n",
        "zip_ref.close()"
      ],
      "execution_count": 0,
      "outputs": []
    },
    {
      "cell_type": "markdown",
      "metadata": {
        "id": "shZiOBnJMyy_",
        "colab_type": "text"
      },
      "source": [
        "Note that the data provided by Google does not have a test set."
      ]
    },
    {
      "cell_type": "code",
      "metadata": {
        "id": "dL8ikM89LlsH",
        "colab_type": "code",
        "colab": {}
      },
      "source": [
        "base_dir = '/tmp/cats_and_dogs_filtered'\n",
        "train_dir = os.path.join(base_dir, 'train')\n",
        "validation_dir = os.path.join(base_dir, 'validation')\n",
        "\n",
        "# Directory with our training cat pictures\n",
        "train_cats_dir = os.path.join(train_dir, 'cats')\n",
        "\n",
        "# Directory with our training dog pictures\n",
        "train_dogs_dir = os.path.join(train_dir, 'dogs')\n",
        "\n",
        "# Directory with our validation cat pictures\n",
        "validation_cats_dir = os.path.join(validation_dir, 'cats')\n",
        "\n",
        "# Directory with our validation dog pictures\n",
        "validation_dogs_dir = os.path.join(validation_dir, 'dogs')"
      ],
      "execution_count": 0,
      "outputs": []
    },
    {
      "cell_type": "markdown",
      "metadata": {
        "id": "inyP8bcdXnn-",
        "colab_type": "text"
      },
      "source": [
        "## Build network with NASNet convolution base and custom densely connected layers"
      ]
    },
    {
      "cell_type": "markdown",
      "metadata": {
        "id": "kQ48W5T9rHWu",
        "colab_type": "text"
      },
      "source": [
        "### Load the convolutional base"
      ]
    },
    {
      "cell_type": "code",
      "metadata": {
        "id": "Y0FgtANCXm_H",
        "colab_type": "code",
        "colab": {
          "base_uri": "https://localhost:8080/",
          "height": 1000
        },
        "outputId": "3262c498-2a14-43d5-8dc3-a3c98a22d1f6"
      },
      "source": [
        "from keras.applications import Xception\n",
        "\n",
        "conv_base = Xception(\n",
        "    weights='imagenet', \n",
        "    include_top=False, \n",
        "    input_shape=(150, 150, 3))\n",
        "\n",
        "conv_base.summary()"
      ],
      "execution_count": 4,
      "outputs": [
        {
          "output_type": "stream",
          "text": [
            "Using TensorFlow backend.\n"
          ],
          "name": "stderr"
        },
        {
          "output_type": "stream",
          "text": [
            "Downloading data from https://github.com/fchollet/deep-learning-models/releases/download/v0.4/xception_weights_tf_dim_ordering_tf_kernels_notop.h5\n",
            "83689472/83683744 [==============================] - 8s 0us/step\n",
            "Model: \"xception\"\n",
            "__________________________________________________________________________________________________\n",
            "Layer (type)                    Output Shape         Param #     Connected to                     \n",
            "==================================================================================================\n",
            "input_1 (InputLayer)            (None, 150, 150, 3)  0                                            \n",
            "__________________________________________________________________________________________________\n",
            "block1_conv1 (Conv2D)           (None, 74, 74, 32)   864         input_1[0][0]                    \n",
            "__________________________________________________________________________________________________\n",
            "block1_conv1_bn (BatchNormaliza (None, 74, 74, 32)   128         block1_conv1[0][0]               \n",
            "__________________________________________________________________________________________________\n",
            "block1_conv1_act (Activation)   (None, 74, 74, 32)   0           block1_conv1_bn[0][0]            \n",
            "__________________________________________________________________________________________________\n",
            "block1_conv2 (Conv2D)           (None, 72, 72, 64)   18432       block1_conv1_act[0][0]           \n",
            "__________________________________________________________________________________________________\n",
            "block1_conv2_bn (BatchNormaliza (None, 72, 72, 64)   256         block1_conv2[0][0]               \n",
            "__________________________________________________________________________________________________\n",
            "block1_conv2_act (Activation)   (None, 72, 72, 64)   0           block1_conv2_bn[0][0]            \n",
            "__________________________________________________________________________________________________\n",
            "block2_sepconv1 (SeparableConv2 (None, 72, 72, 128)  8768        block1_conv2_act[0][0]           \n",
            "__________________________________________________________________________________________________\n",
            "block2_sepconv1_bn (BatchNormal (None, 72, 72, 128)  512         block2_sepconv1[0][0]            \n",
            "__________________________________________________________________________________________________\n",
            "block2_sepconv2_act (Activation (None, 72, 72, 128)  0           block2_sepconv1_bn[0][0]         \n",
            "__________________________________________________________________________________________________\n",
            "block2_sepconv2 (SeparableConv2 (None, 72, 72, 128)  17536       block2_sepconv2_act[0][0]        \n",
            "__________________________________________________________________________________________________\n",
            "block2_sepconv2_bn (BatchNormal (None, 72, 72, 128)  512         block2_sepconv2[0][0]            \n",
            "__________________________________________________________________________________________________\n",
            "conv2d_1 (Conv2D)               (None, 36, 36, 128)  8192        block1_conv2_act[0][0]           \n",
            "__________________________________________________________________________________________________\n",
            "block2_pool (MaxPooling2D)      (None, 36, 36, 128)  0           block2_sepconv2_bn[0][0]         \n",
            "__________________________________________________________________________________________________\n",
            "batch_normalization_1 (BatchNor (None, 36, 36, 128)  512         conv2d_1[0][0]                   \n",
            "__________________________________________________________________________________________________\n",
            "add_1 (Add)                     (None, 36, 36, 128)  0           block2_pool[0][0]                \n",
            "                                                                 batch_normalization_1[0][0]      \n",
            "__________________________________________________________________________________________________\n",
            "block3_sepconv1_act (Activation (None, 36, 36, 128)  0           add_1[0][0]                      \n",
            "__________________________________________________________________________________________________\n",
            "block3_sepconv1 (SeparableConv2 (None, 36, 36, 256)  33920       block3_sepconv1_act[0][0]        \n",
            "__________________________________________________________________________________________________\n",
            "block3_sepconv1_bn (BatchNormal (None, 36, 36, 256)  1024        block3_sepconv1[0][0]            \n",
            "__________________________________________________________________________________________________\n",
            "block3_sepconv2_act (Activation (None, 36, 36, 256)  0           block3_sepconv1_bn[0][0]         \n",
            "__________________________________________________________________________________________________\n",
            "block3_sepconv2 (SeparableConv2 (None, 36, 36, 256)  67840       block3_sepconv2_act[0][0]        \n",
            "__________________________________________________________________________________________________\n",
            "block3_sepconv2_bn (BatchNormal (None, 36, 36, 256)  1024        block3_sepconv2[0][0]            \n",
            "__________________________________________________________________________________________________\n",
            "conv2d_2 (Conv2D)               (None, 18, 18, 256)  32768       add_1[0][0]                      \n",
            "__________________________________________________________________________________________________\n",
            "block3_pool (MaxPooling2D)      (None, 18, 18, 256)  0           block3_sepconv2_bn[0][0]         \n",
            "__________________________________________________________________________________________________\n",
            "batch_normalization_2 (BatchNor (None, 18, 18, 256)  1024        conv2d_2[0][0]                   \n",
            "__________________________________________________________________________________________________\n",
            "add_2 (Add)                     (None, 18, 18, 256)  0           block3_pool[0][0]                \n",
            "                                                                 batch_normalization_2[0][0]      \n",
            "__________________________________________________________________________________________________\n",
            "block4_sepconv1_act (Activation (None, 18, 18, 256)  0           add_2[0][0]                      \n",
            "__________________________________________________________________________________________________\n",
            "block4_sepconv1 (SeparableConv2 (None, 18, 18, 728)  188672      block4_sepconv1_act[0][0]        \n",
            "__________________________________________________________________________________________________\n",
            "block4_sepconv1_bn (BatchNormal (None, 18, 18, 728)  2912        block4_sepconv1[0][0]            \n",
            "__________________________________________________________________________________________________\n",
            "block4_sepconv2_act (Activation (None, 18, 18, 728)  0           block4_sepconv1_bn[0][0]         \n",
            "__________________________________________________________________________________________________\n",
            "block4_sepconv2 (SeparableConv2 (None, 18, 18, 728)  536536      block4_sepconv2_act[0][0]        \n",
            "__________________________________________________________________________________________________\n",
            "block4_sepconv2_bn (BatchNormal (None, 18, 18, 728)  2912        block4_sepconv2[0][0]            \n",
            "__________________________________________________________________________________________________\n",
            "conv2d_3 (Conv2D)               (None, 9, 9, 728)    186368      add_2[0][0]                      \n",
            "__________________________________________________________________________________________________\n",
            "block4_pool (MaxPooling2D)      (None, 9, 9, 728)    0           block4_sepconv2_bn[0][0]         \n",
            "__________________________________________________________________________________________________\n",
            "batch_normalization_3 (BatchNor (None, 9, 9, 728)    2912        conv2d_3[0][0]                   \n",
            "__________________________________________________________________________________________________\n",
            "add_3 (Add)                     (None, 9, 9, 728)    0           block4_pool[0][0]                \n",
            "                                                                 batch_normalization_3[0][0]      \n",
            "__________________________________________________________________________________________________\n",
            "block5_sepconv1_act (Activation (None, 9, 9, 728)    0           add_3[0][0]                      \n",
            "__________________________________________________________________________________________________\n",
            "block5_sepconv1 (SeparableConv2 (None, 9, 9, 728)    536536      block5_sepconv1_act[0][0]        \n",
            "__________________________________________________________________________________________________\n",
            "block5_sepconv1_bn (BatchNormal (None, 9, 9, 728)    2912        block5_sepconv1[0][0]            \n",
            "__________________________________________________________________________________________________\n",
            "block5_sepconv2_act (Activation (None, 9, 9, 728)    0           block5_sepconv1_bn[0][0]         \n",
            "__________________________________________________________________________________________________\n",
            "block5_sepconv2 (SeparableConv2 (None, 9, 9, 728)    536536      block5_sepconv2_act[0][0]        \n",
            "__________________________________________________________________________________________________\n",
            "block5_sepconv2_bn (BatchNormal (None, 9, 9, 728)    2912        block5_sepconv2[0][0]            \n",
            "__________________________________________________________________________________________________\n",
            "block5_sepconv3_act (Activation (None, 9, 9, 728)    0           block5_sepconv2_bn[0][0]         \n",
            "__________________________________________________________________________________________________\n",
            "block5_sepconv3 (SeparableConv2 (None, 9, 9, 728)    536536      block5_sepconv3_act[0][0]        \n",
            "__________________________________________________________________________________________________\n",
            "block5_sepconv3_bn (BatchNormal (None, 9, 9, 728)    2912        block5_sepconv3[0][0]            \n",
            "__________________________________________________________________________________________________\n",
            "add_4 (Add)                     (None, 9, 9, 728)    0           block5_sepconv3_bn[0][0]         \n",
            "                                                                 add_3[0][0]                      \n",
            "__________________________________________________________________________________________________\n",
            "block6_sepconv1_act (Activation (None, 9, 9, 728)    0           add_4[0][0]                      \n",
            "__________________________________________________________________________________________________\n",
            "block6_sepconv1 (SeparableConv2 (None, 9, 9, 728)    536536      block6_sepconv1_act[0][0]        \n",
            "__________________________________________________________________________________________________\n",
            "block6_sepconv1_bn (BatchNormal (None, 9, 9, 728)    2912        block6_sepconv1[0][0]            \n",
            "__________________________________________________________________________________________________\n",
            "block6_sepconv2_act (Activation (None, 9, 9, 728)    0           block6_sepconv1_bn[0][0]         \n",
            "__________________________________________________________________________________________________\n",
            "block6_sepconv2 (SeparableConv2 (None, 9, 9, 728)    536536      block6_sepconv2_act[0][0]        \n",
            "__________________________________________________________________________________________________\n",
            "block6_sepconv2_bn (BatchNormal (None, 9, 9, 728)    2912        block6_sepconv2[0][0]            \n",
            "__________________________________________________________________________________________________\n",
            "block6_sepconv3_act (Activation (None, 9, 9, 728)    0           block6_sepconv2_bn[0][0]         \n",
            "__________________________________________________________________________________________________\n",
            "block6_sepconv3 (SeparableConv2 (None, 9, 9, 728)    536536      block6_sepconv3_act[0][0]        \n",
            "__________________________________________________________________________________________________\n",
            "block6_sepconv3_bn (BatchNormal (None, 9, 9, 728)    2912        block6_sepconv3[0][0]            \n",
            "__________________________________________________________________________________________________\n",
            "add_5 (Add)                     (None, 9, 9, 728)    0           block6_sepconv3_bn[0][0]         \n",
            "                                                                 add_4[0][0]                      \n",
            "__________________________________________________________________________________________________\n",
            "block7_sepconv1_act (Activation (None, 9, 9, 728)    0           add_5[0][0]                      \n",
            "__________________________________________________________________________________________________\n",
            "block7_sepconv1 (SeparableConv2 (None, 9, 9, 728)    536536      block7_sepconv1_act[0][0]        \n",
            "__________________________________________________________________________________________________\n",
            "block7_sepconv1_bn (BatchNormal (None, 9, 9, 728)    2912        block7_sepconv1[0][0]            \n",
            "__________________________________________________________________________________________________\n",
            "block7_sepconv2_act (Activation (None, 9, 9, 728)    0           block7_sepconv1_bn[0][0]         \n",
            "__________________________________________________________________________________________________\n",
            "block7_sepconv2 (SeparableConv2 (None, 9, 9, 728)    536536      block7_sepconv2_act[0][0]        \n",
            "__________________________________________________________________________________________________\n",
            "block7_sepconv2_bn (BatchNormal (None, 9, 9, 728)    2912        block7_sepconv2[0][0]            \n",
            "__________________________________________________________________________________________________\n",
            "block7_sepconv3_act (Activation (None, 9, 9, 728)    0           block7_sepconv2_bn[0][0]         \n",
            "__________________________________________________________________________________________________\n",
            "block7_sepconv3 (SeparableConv2 (None, 9, 9, 728)    536536      block7_sepconv3_act[0][0]        \n",
            "__________________________________________________________________________________________________\n",
            "block7_sepconv3_bn (BatchNormal (None, 9, 9, 728)    2912        block7_sepconv3[0][0]            \n",
            "__________________________________________________________________________________________________\n",
            "add_6 (Add)                     (None, 9, 9, 728)    0           block7_sepconv3_bn[0][0]         \n",
            "                                                                 add_5[0][0]                      \n",
            "__________________________________________________________________________________________________\n",
            "block8_sepconv1_act (Activation (None, 9, 9, 728)    0           add_6[0][0]                      \n",
            "__________________________________________________________________________________________________\n",
            "block8_sepconv1 (SeparableConv2 (None, 9, 9, 728)    536536      block8_sepconv1_act[0][0]        \n",
            "__________________________________________________________________________________________________\n",
            "block8_sepconv1_bn (BatchNormal (None, 9, 9, 728)    2912        block8_sepconv1[0][0]            \n",
            "__________________________________________________________________________________________________\n",
            "block8_sepconv2_act (Activation (None, 9, 9, 728)    0           block8_sepconv1_bn[0][0]         \n",
            "__________________________________________________________________________________________________\n",
            "block8_sepconv2 (SeparableConv2 (None, 9, 9, 728)    536536      block8_sepconv2_act[0][0]        \n",
            "__________________________________________________________________________________________________\n",
            "block8_sepconv2_bn (BatchNormal (None, 9, 9, 728)    2912        block8_sepconv2[0][0]            \n",
            "__________________________________________________________________________________________________\n",
            "block8_sepconv3_act (Activation (None, 9, 9, 728)    0           block8_sepconv2_bn[0][0]         \n",
            "__________________________________________________________________________________________________\n",
            "block8_sepconv3 (SeparableConv2 (None, 9, 9, 728)    536536      block8_sepconv3_act[0][0]        \n",
            "__________________________________________________________________________________________________\n",
            "block8_sepconv3_bn (BatchNormal (None, 9, 9, 728)    2912        block8_sepconv3[0][0]            \n",
            "__________________________________________________________________________________________________\n",
            "add_7 (Add)                     (None, 9, 9, 728)    0           block8_sepconv3_bn[0][0]         \n",
            "                                                                 add_6[0][0]                      \n",
            "__________________________________________________________________________________________________\n",
            "block9_sepconv1_act (Activation (None, 9, 9, 728)    0           add_7[0][0]                      \n",
            "__________________________________________________________________________________________________\n",
            "block9_sepconv1 (SeparableConv2 (None, 9, 9, 728)    536536      block9_sepconv1_act[0][0]        \n",
            "__________________________________________________________________________________________________\n",
            "block9_sepconv1_bn (BatchNormal (None, 9, 9, 728)    2912        block9_sepconv1[0][0]            \n",
            "__________________________________________________________________________________________________\n",
            "block9_sepconv2_act (Activation (None, 9, 9, 728)    0           block9_sepconv1_bn[0][0]         \n",
            "__________________________________________________________________________________________________\n",
            "block9_sepconv2 (SeparableConv2 (None, 9, 9, 728)    536536      block9_sepconv2_act[0][0]        \n",
            "__________________________________________________________________________________________________\n",
            "block9_sepconv2_bn (BatchNormal (None, 9, 9, 728)    2912        block9_sepconv2[0][0]            \n",
            "__________________________________________________________________________________________________\n",
            "block9_sepconv3_act (Activation (None, 9, 9, 728)    0           block9_sepconv2_bn[0][0]         \n",
            "__________________________________________________________________________________________________\n",
            "block9_sepconv3 (SeparableConv2 (None, 9, 9, 728)    536536      block9_sepconv3_act[0][0]        \n",
            "__________________________________________________________________________________________________\n",
            "block9_sepconv3_bn (BatchNormal (None, 9, 9, 728)    2912        block9_sepconv3[0][0]            \n",
            "__________________________________________________________________________________________________\n",
            "add_8 (Add)                     (None, 9, 9, 728)    0           block9_sepconv3_bn[0][0]         \n",
            "                                                                 add_7[0][0]                      \n",
            "__________________________________________________________________________________________________\n",
            "block10_sepconv1_act (Activatio (None, 9, 9, 728)    0           add_8[0][0]                      \n",
            "__________________________________________________________________________________________________\n",
            "block10_sepconv1 (SeparableConv (None, 9, 9, 728)    536536      block10_sepconv1_act[0][0]       \n",
            "__________________________________________________________________________________________________\n",
            "block10_sepconv1_bn (BatchNorma (None, 9, 9, 728)    2912        block10_sepconv1[0][0]           \n",
            "__________________________________________________________________________________________________\n",
            "block10_sepconv2_act (Activatio (None, 9, 9, 728)    0           block10_sepconv1_bn[0][0]        \n",
            "__________________________________________________________________________________________________\n",
            "block10_sepconv2 (SeparableConv (None, 9, 9, 728)    536536      block10_sepconv2_act[0][0]       \n",
            "__________________________________________________________________________________________________\n",
            "block10_sepconv2_bn (BatchNorma (None, 9, 9, 728)    2912        block10_sepconv2[0][0]           \n",
            "__________________________________________________________________________________________________\n",
            "block10_sepconv3_act (Activatio (None, 9, 9, 728)    0           block10_sepconv2_bn[0][0]        \n",
            "__________________________________________________________________________________________________\n",
            "block10_sepconv3 (SeparableConv (None, 9, 9, 728)    536536      block10_sepconv3_act[0][0]       \n",
            "__________________________________________________________________________________________________\n",
            "block10_sepconv3_bn (BatchNorma (None, 9, 9, 728)    2912        block10_sepconv3[0][0]           \n",
            "__________________________________________________________________________________________________\n",
            "add_9 (Add)                     (None, 9, 9, 728)    0           block10_sepconv3_bn[0][0]        \n",
            "                                                                 add_8[0][0]                      \n",
            "__________________________________________________________________________________________________\n",
            "block11_sepconv1_act (Activatio (None, 9, 9, 728)    0           add_9[0][0]                      \n",
            "__________________________________________________________________________________________________\n",
            "block11_sepconv1 (SeparableConv (None, 9, 9, 728)    536536      block11_sepconv1_act[0][0]       \n",
            "__________________________________________________________________________________________________\n",
            "block11_sepconv1_bn (BatchNorma (None, 9, 9, 728)    2912        block11_sepconv1[0][0]           \n",
            "__________________________________________________________________________________________________\n",
            "block11_sepconv2_act (Activatio (None, 9, 9, 728)    0           block11_sepconv1_bn[0][0]        \n",
            "__________________________________________________________________________________________________\n",
            "block11_sepconv2 (SeparableConv (None, 9, 9, 728)    536536      block11_sepconv2_act[0][0]       \n",
            "__________________________________________________________________________________________________\n",
            "block11_sepconv2_bn (BatchNorma (None, 9, 9, 728)    2912        block11_sepconv2[0][0]           \n",
            "__________________________________________________________________________________________________\n",
            "block11_sepconv3_act (Activatio (None, 9, 9, 728)    0           block11_sepconv2_bn[0][0]        \n",
            "__________________________________________________________________________________________________\n",
            "block11_sepconv3 (SeparableConv (None, 9, 9, 728)    536536      block11_sepconv3_act[0][0]       \n",
            "__________________________________________________________________________________________________\n",
            "block11_sepconv3_bn (BatchNorma (None, 9, 9, 728)    2912        block11_sepconv3[0][0]           \n",
            "__________________________________________________________________________________________________\n",
            "add_10 (Add)                    (None, 9, 9, 728)    0           block11_sepconv3_bn[0][0]        \n",
            "                                                                 add_9[0][0]                      \n",
            "__________________________________________________________________________________________________\n",
            "block12_sepconv1_act (Activatio (None, 9, 9, 728)    0           add_10[0][0]                     \n",
            "__________________________________________________________________________________________________\n",
            "block12_sepconv1 (SeparableConv (None, 9, 9, 728)    536536      block12_sepconv1_act[0][0]       \n",
            "__________________________________________________________________________________________________\n",
            "block12_sepconv1_bn (BatchNorma (None, 9, 9, 728)    2912        block12_sepconv1[0][0]           \n",
            "__________________________________________________________________________________________________\n",
            "block12_sepconv2_act (Activatio (None, 9, 9, 728)    0           block12_sepconv1_bn[0][0]        \n",
            "__________________________________________________________________________________________________\n",
            "block12_sepconv2 (SeparableConv (None, 9, 9, 728)    536536      block12_sepconv2_act[0][0]       \n",
            "__________________________________________________________________________________________________\n",
            "block12_sepconv2_bn (BatchNorma (None, 9, 9, 728)    2912        block12_sepconv2[0][0]           \n",
            "__________________________________________________________________________________________________\n",
            "block12_sepconv3_act (Activatio (None, 9, 9, 728)    0           block12_sepconv2_bn[0][0]        \n",
            "__________________________________________________________________________________________________\n",
            "block12_sepconv3 (SeparableConv (None, 9, 9, 728)    536536      block12_sepconv3_act[0][0]       \n",
            "__________________________________________________________________________________________________\n",
            "block12_sepconv3_bn (BatchNorma (None, 9, 9, 728)    2912        block12_sepconv3[0][0]           \n",
            "__________________________________________________________________________________________________\n",
            "add_11 (Add)                    (None, 9, 9, 728)    0           block12_sepconv3_bn[0][0]        \n",
            "                                                                 add_10[0][0]                     \n",
            "__________________________________________________________________________________________________\n",
            "block13_sepconv1_act (Activatio (None, 9, 9, 728)    0           add_11[0][0]                     \n",
            "__________________________________________________________________________________________________\n",
            "block13_sepconv1 (SeparableConv (None, 9, 9, 728)    536536      block13_sepconv1_act[0][0]       \n",
            "__________________________________________________________________________________________________\n",
            "block13_sepconv1_bn (BatchNorma (None, 9, 9, 728)    2912        block13_sepconv1[0][0]           \n",
            "__________________________________________________________________________________________________\n",
            "block13_sepconv2_act (Activatio (None, 9, 9, 728)    0           block13_sepconv1_bn[0][0]        \n",
            "__________________________________________________________________________________________________\n",
            "block13_sepconv2 (SeparableConv (None, 9, 9, 1024)   752024      block13_sepconv2_act[0][0]       \n",
            "__________________________________________________________________________________________________\n",
            "block13_sepconv2_bn (BatchNorma (None, 9, 9, 1024)   4096        block13_sepconv2[0][0]           \n",
            "__________________________________________________________________________________________________\n",
            "conv2d_4 (Conv2D)               (None, 5, 5, 1024)   745472      add_11[0][0]                     \n",
            "__________________________________________________________________________________________________\n",
            "block13_pool (MaxPooling2D)     (None, 5, 5, 1024)   0           block13_sepconv2_bn[0][0]        \n",
            "__________________________________________________________________________________________________\n",
            "batch_normalization_4 (BatchNor (None, 5, 5, 1024)   4096        conv2d_4[0][0]                   \n",
            "__________________________________________________________________________________________________\n",
            "add_12 (Add)                    (None, 5, 5, 1024)   0           block13_pool[0][0]               \n",
            "                                                                 batch_normalization_4[0][0]      \n",
            "__________________________________________________________________________________________________\n",
            "block14_sepconv1 (SeparableConv (None, 5, 5, 1536)   1582080     add_12[0][0]                     \n",
            "__________________________________________________________________________________________________\n",
            "block14_sepconv1_bn (BatchNorma (None, 5, 5, 1536)   6144        block14_sepconv1[0][0]           \n",
            "__________________________________________________________________________________________________\n",
            "block14_sepconv1_act (Activatio (None, 5, 5, 1536)   0           block14_sepconv1_bn[0][0]        \n",
            "__________________________________________________________________________________________________\n",
            "block14_sepconv2 (SeparableConv (None, 5, 5, 2048)   3159552     block14_sepconv1_act[0][0]       \n",
            "__________________________________________________________________________________________________\n",
            "block14_sepconv2_bn (BatchNorma (None, 5, 5, 2048)   8192        block14_sepconv2[0][0]           \n",
            "__________________________________________________________________________________________________\n",
            "block14_sepconv2_act (Activatio (None, 5, 5, 2048)   0           block14_sepconv2_bn[0][0]        \n",
            "==================================================================================================\n",
            "Total params: 20,861,480\n",
            "Trainable params: 20,806,952\n",
            "Non-trainable params: 54,528\n",
            "__________________________________________________________________________________________________\n"
          ],
          "name": "stdout"
        }
      ]
    },
    {
      "cell_type": "markdown",
      "metadata": {
        "id": "D6OBHOO9q1ou",
        "colab_type": "text"
      },
      "source": [
        "### Freeze the convolutional base"
      ]
    },
    {
      "cell_type": "code",
      "metadata": {
        "id": "UleRo4Dpq6Ld",
        "colab_type": "code",
        "colab": {}
      },
      "source": [
        "conv_base.trainable = False"
      ],
      "execution_count": 0,
      "outputs": []
    },
    {
      "cell_type": "markdown",
      "metadata": {
        "id": "Qfx6PqhPrb7Q",
        "colab_type": "text"
      },
      "source": [
        "### Concatenate the convolutional base and densely connected layers"
      ]
    },
    {
      "cell_type": "code",
      "metadata": {
        "id": "qUpmocDAO3xm",
        "colab_type": "code",
        "colab": {}
      },
      "source": [
        "from keras import layers\n",
        "from keras import models\n",
        "from keras import optimizers\n",
        "\n",
        "# Modified my classifiers here\n",
        "model = models.Sequential()\n",
        "model.add(conv_base)\n",
        "model.add(layers.Flatten())\n",
        "model.add(layers.Dense(128, activation='relu'))\n",
        "model.add(layers.Dense(128, activation='relu'))\n",
        "#model.add(layers.Dropout(0.1))\n",
        "model.add(layers.Dense(1, activation='sigmoid'))"
      ],
      "execution_count": 0,
      "outputs": []
    },
    {
      "cell_type": "code",
      "metadata": {
        "id": "Fh6gZSeAjF7c",
        "colab_type": "code",
        "outputId": "c6a005b5-7c90-4008-a4a9-286b7f3cc196",
        "colab": {
          "base_uri": "https://localhost:8080/",
          "height": 323
        }
      },
      "source": [
        "model.summary()"
      ],
      "execution_count": 7,
      "outputs": [
        {
          "output_type": "stream",
          "text": [
            "Model: \"sequential_1\"\n",
            "_________________________________________________________________\n",
            "Layer (type)                 Output Shape              Param #   \n",
            "=================================================================\n",
            "xception (Model)             (None, 5, 5, 2048)        20861480  \n",
            "_________________________________________________________________\n",
            "flatten_1 (Flatten)          (None, 51200)             0         \n",
            "_________________________________________________________________\n",
            "dense_1 (Dense)              (None, 128)               6553728   \n",
            "_________________________________________________________________\n",
            "dense_2 (Dense)              (None, 128)               16512     \n",
            "_________________________________________________________________\n",
            "dense_3 (Dense)              (None, 1)                 129       \n",
            "=================================================================\n",
            "Total params: 27,431,849\n",
            "Trainable params: 6,570,369\n",
            "Non-trainable params: 20,861,480\n",
            "_________________________________________________________________\n"
          ],
          "name": "stdout"
        }
      ]
    },
    {
      "cell_type": "markdown",
      "metadata": {
        "id": "eZjBiddhi5Qj",
        "colab_type": "text"
      },
      "source": [
        "## Train the model end to end with frozen convolutional base"
      ]
    },
    {
      "cell_type": "code",
      "metadata": {
        "id": "tfAQlC2Oi41L",
        "colab_type": "code",
        "outputId": "552bb0ca-3b3b-42db-a990-104f8b95d329",
        "colab": {
          "base_uri": "https://localhost:8080/",
          "height": 1000
        }
      },
      "source": [
        "from keras.preprocessing.image import ImageDataGenerator\n",
        "from keras import optimizers\n",
        "\n",
        "# data augmentation\n",
        "\n",
        "train_datagen = ImageDataGenerator(\n",
        "    rescale=1./255, \n",
        "    rotation_range=40,\n",
        "    width_shift_range=0.2,\n",
        "    height_shift_range=0.2,\n",
        "    shear_range=0.2,\n",
        "    zoom_range=0.2,\n",
        "    horizontal_flip=True,\n",
        "    fill_mode='nearest'\n",
        ")\n",
        "\n",
        "train_generator = train_datagen.flow_from_directory(\n",
        "    train_dir,\n",
        "    target_size=(150, 150),\n",
        "    batch_size=20,\n",
        "    class_mode='binary')\n",
        "\n",
        "validation_datagen = ImageDataGenerator(rescale=1./255)\n",
        "\n",
        "validation_generator = validation_datagen.flow_from_directory(\n",
        "    validation_dir,\n",
        "    target_size=(150, 150),\n",
        "    batch_size=20,\n",
        "    class_mode='binary')\n",
        "\n",
        "# compile model\n",
        "\n",
        "model.compile(\n",
        "    loss='binary_crossentropy', \n",
        "    optimizer=optimizers.RMSprop(lr=2e-5), \n",
        "    metrics=['acc'])\n",
        "\n",
        "# train\n",
        "\n",
        "history = model.fit_generator(\n",
        "    train_generator,\n",
        "    steps_per_epoch=100,\n",
        "    epochs=30,\n",
        "    validation_data=validation_generator,\n",
        "    validation_steps=50\n",
        ")"
      ],
      "execution_count": 8,
      "outputs": [
        {
          "output_type": "stream",
          "text": [
            "Found 2000 images belonging to 2 classes.\n",
            "Found 1000 images belonging to 2 classes.\n",
            "Epoch 1/30\n",
            "100/100 [==============================] - 30s 296ms/step - loss: 0.4689 - acc: 0.7640 - val_loss: 0.0112 - val_acc: 0.9640\n",
            "Epoch 2/30\n",
            "100/100 [==============================] - 20s 198ms/step - loss: 0.3877 - acc: 0.8190 - val_loss: 0.0243 - val_acc: 0.9600\n",
            "Epoch 3/30\n",
            "100/100 [==============================] - 20s 199ms/step - loss: 0.3572 - acc: 0.8405 - val_loss: 0.0100 - val_acc: 0.9580\n",
            "Epoch 4/30\n",
            "100/100 [==============================] - 20s 197ms/step - loss: 0.3612 - acc: 0.8285 - val_loss: 0.0329 - val_acc: 0.9680\n",
            "Epoch 5/30\n",
            "100/100 [==============================] - 20s 199ms/step - loss: 0.3377 - acc: 0.8510 - val_loss: 0.4137 - val_acc: 0.9670\n",
            "Epoch 6/30\n",
            "100/100 [==============================] - 20s 198ms/step - loss: 0.3274 - acc: 0.8535 - val_loss: 0.2108 - val_acc: 0.9680\n",
            "Epoch 7/30\n",
            "100/100 [==============================] - 20s 197ms/step - loss: 0.3103 - acc: 0.8620 - val_loss: 4.7247e-05 - val_acc: 0.9660\n",
            "Epoch 8/30\n",
            "100/100 [==============================] - 20s 200ms/step - loss: 0.3103 - acc: 0.8565 - val_loss: 5.7978e-04 - val_acc: 0.9650\n",
            "Epoch 9/30\n",
            "100/100 [==============================] - 20s 199ms/step - loss: 0.2993 - acc: 0.8655 - val_loss: 0.0232 - val_acc: 0.9670\n",
            "Epoch 10/30\n",
            "100/100 [==============================] - 20s 196ms/step - loss: 0.2907 - acc: 0.8700 - val_loss: 0.0088 - val_acc: 0.9650\n",
            "Epoch 11/30\n",
            "100/100 [==============================] - 19s 194ms/step - loss: 0.2902 - acc: 0.8750 - val_loss: 0.0929 - val_acc: 0.9650\n",
            "Epoch 12/30\n",
            "100/100 [==============================] - 19s 194ms/step - loss: 0.3068 - acc: 0.8635 - val_loss: 0.2075 - val_acc: 0.9690\n",
            "Epoch 13/30\n",
            "100/100 [==============================] - 20s 197ms/step - loss: 0.2973 - acc: 0.8750 - val_loss: 0.1557 - val_acc: 0.9700\n",
            "Epoch 14/30\n",
            "100/100 [==============================] - 20s 196ms/step - loss: 0.2842 - acc: 0.8755 - val_loss: 0.0972 - val_acc: 0.9680\n",
            "Epoch 15/30\n",
            "100/100 [==============================] - 20s 196ms/step - loss: 0.3040 - acc: 0.8670 - val_loss: 0.0045 - val_acc: 0.9700\n",
            "Epoch 16/30\n",
            "100/100 [==============================] - 20s 196ms/step - loss: 0.3078 - acc: 0.8620 - val_loss: 1.0063e-05 - val_acc: 0.9700\n",
            "Epoch 17/30\n",
            "100/100 [==============================] - 20s 197ms/step - loss: 0.2716 - acc: 0.8835 - val_loss: 0.1963 - val_acc: 0.9740\n",
            "Epoch 18/30\n",
            "100/100 [==============================] - 20s 196ms/step - loss: 0.2890 - acc: 0.8725 - val_loss: 0.0051 - val_acc: 0.9650\n",
            "Epoch 19/30\n",
            "100/100 [==============================] - 20s 195ms/step - loss: 0.2979 - acc: 0.8755 - val_loss: 0.2466 - val_acc: 0.9700\n",
            "Epoch 20/30\n",
            "100/100 [==============================] - 19s 194ms/step - loss: 0.3070 - acc: 0.8610 - val_loss: 5.1039e-04 - val_acc: 0.9710\n",
            "Epoch 21/30\n",
            "100/100 [==============================] - 20s 195ms/step - loss: 0.2933 - acc: 0.8720 - val_loss: 0.1435 - val_acc: 0.9670\n",
            "Epoch 22/30\n",
            "100/100 [==============================] - 20s 195ms/step - loss: 0.2792 - acc: 0.8785 - val_loss: 0.2926 - val_acc: 0.9720\n",
            "Epoch 23/30\n",
            "100/100 [==============================] - 19s 194ms/step - loss: 0.2570 - acc: 0.8900 - val_loss: 1.0092e-04 - val_acc: 0.9710\n",
            "Epoch 24/30\n",
            "100/100 [==============================] - 20s 197ms/step - loss: 0.2760 - acc: 0.8815 - val_loss: 0.0011 - val_acc: 0.9700\n",
            "Epoch 25/30\n",
            "100/100 [==============================] - 20s 196ms/step - loss: 0.2938 - acc: 0.8865 - val_loss: 0.3439 - val_acc: 0.9710\n",
            "Epoch 26/30\n",
            "100/100 [==============================] - 19s 194ms/step - loss: 0.2632 - acc: 0.8870 - val_loss: 0.2205 - val_acc: 0.9710\n",
            "Epoch 27/30\n",
            "100/100 [==============================] - 19s 194ms/step - loss: 0.2484 - acc: 0.8970 - val_loss: 0.2435 - val_acc: 0.9710\n",
            "Epoch 28/30\n",
            "100/100 [==============================] - 19s 195ms/step - loss: 0.2588 - acc: 0.8840 - val_loss: 0.0660 - val_acc: 0.9700\n",
            "Epoch 29/30\n",
            "100/100 [==============================] - 19s 194ms/step - loss: 0.2767 - acc: 0.8890 - val_loss: 1.2617e-05 - val_acc: 0.9710\n",
            "Epoch 30/30\n",
            "100/100 [==============================] - 19s 193ms/step - loss: 0.2665 - acc: 0.8750 - val_loss: 0.0063 - val_acc: 0.9690\n"
          ],
          "name": "stdout"
        }
      ]
    },
    {
      "cell_type": "markdown",
      "metadata": {
        "id": "xqRc_vHKc92U",
        "colab_type": "text"
      },
      "source": [
        "## Display curves of loss and accuracy during training"
      ]
    },
    {
      "cell_type": "code",
      "metadata": {
        "id": "ybWwdzz9bwuQ",
        "colab_type": "code",
        "outputId": "fd4086ba-fbfe-4f51-ca68-f5c330296125",
        "colab": {
          "base_uri": "https://localhost:8080/",
          "height": 545
        }
      },
      "source": [
        "%matplotlib inline\n",
        "\n",
        "import matplotlib.pyplot as plt\n",
        "\n",
        "acc = history.history['acc']\n",
        "val_acc = history.history['val_acc']\n",
        "\n",
        "loss = history.history['loss']\n",
        "val_loss = history.history['val_loss']\n",
        "\n",
        "epochs = range(1, len(acc) + 1)\n",
        "\n",
        "# training and validation accuracy\n",
        "\n",
        "plt.plot(epochs, acc, 'bo', label='training acc')\n",
        "plt.plot(epochs, val_acc, 'b', label='validation acc')\n",
        "plt.title('training and validation accuracy')\n",
        "plt.legend()\n",
        "\n",
        "plt.figure()\n",
        "\n",
        "# training and validation loss\n",
        "\n",
        "plt.plot(epochs, loss, 'bo', label='training loss')\n",
        "plt.plot(epochs, val_loss, 'b', label='validation loss')\n",
        "plt.title('training and validation loss')\n",
        "plt.legend()\n",
        "\n",
        "plt.show()"
      ],
      "execution_count": 9,
      "outputs": [
        {
          "output_type": "display_data",
          "data": {
            "image/png": "[encoded data removed]",
            "text/plain": [
              "<Figure size 432x288 with 1 Axes>"
            ]
          },
          "metadata": {
            "tags": [],
            "needs_background": "light"
          }
        },
        {
          "output_type": "display_data",
          "data": {
            "image/png": "[encoded data removed]",
            "text/plain": [
              "<Figure size 432x288 with 1 Axes>"
            ]
          },
          "metadata": {
            "tags": [],
            "needs_background": "light"
          }
        }
      ]
    },
    {
      "cell_type": "markdown",
      "metadata": {
        "id": "lOWsxpey8lN0",
        "colab_type": "text"
      },
      "source": [
        "## Fine-tuning"
      ]
    },
    {
      "cell_type": "code",
      "metadata": {
        "id": "PwkVMx8N8qMw",
        "colab_type": "code",
        "colab": {}
      },
      "source": [
        "# Set it to trainable so that its \"unfrozen\"\n",
        "\n",
        "conv_base.trainable = True\n",
        "\n",
        "set_trainable = False\n",
        "for layer in conv_base.layers:\n",
        "  if layer.name == 'conv2d_3':\n",
        "    set_trainable = True\n",
        "  if set_trainable:\n",
        "    layer.trainable = True\n",
        "  else:\n",
        "    layer.trainable = False"
      ],
      "execution_count": 0,
      "outputs": []
    },
    {
      "cell_type": "code",
      "metadata": {
        "id": "DyN-J7rs9cvo",
        "colab_type": "code",
        "outputId": "8a0c1e11-133c-4c6e-96e4-28a6551b3a59",
        "colab": {
          "base_uri": "https://localhost:8080/",
          "height": 1000
        }
      },
      "source": [
        "# compile model\n",
        "\n",
        "model.compile(\n",
        "    loss='binary_crossentropy',\n",
        "    #\n",
        "    # choose a smaller learning rate\n",
        "    #\n",
        "    optimizer=optimizers.RMSprop(lr=1e-5), \n",
        "    metrics=['acc'])\n",
        "\n",
        "# train\n",
        "\n",
        "history = model.fit_generator(\n",
        "    train_generator,\n",
        "    steps_per_epoch=100,\n",
        "    epochs=100,\n",
        "    validation_data=validation_generator,\n",
        "    validation_steps=50)"
      ],
      "execution_count": 11,
      "outputs": [
        {
          "output_type": "stream",
          "text": [
            "Epoch 1/100\n",
            "100/100 [==============================] - 34s 335ms/step - loss: 0.2460 - acc: 0.8950 - val_loss: 0.0114 - val_acc: 0.9380\n",
            "Epoch 2/100\n",
            "100/100 [==============================] - 25s 254ms/step - loss: 0.2372 - acc: 0.8995 - val_loss: 0.1277 - val_acc: 0.9420\n",
            "Epoch 3/100\n",
            "100/100 [==============================] - 25s 251ms/step - loss: 0.2064 - acc: 0.9110 - val_loss: 0.3068 - val_acc: 0.9400\n",
            "Epoch 4/100\n",
            "100/100 [==============================] - 25s 252ms/step - loss: 0.1907 - acc: 0.9220 - val_loss: 0.0307 - val_acc: 0.9390\n",
            "Epoch 5/100\n",
            "100/100 [==============================] - 25s 252ms/step - loss: 0.1682 - acc: 0.9310 - val_loss: 0.0113 - val_acc: 0.9450\n",
            "Epoch 6/100\n",
            "100/100 [==============================] - 25s 254ms/step - loss: 0.1813 - acc: 0.9300 - val_loss: 0.1853 - val_acc: 0.9370\n",
            "Epoch 7/100\n",
            "100/100 [==============================] - 26s 255ms/step - loss: 0.1526 - acc: 0.9415 - val_loss: 0.0535 - val_acc: 0.9400\n",
            "Epoch 8/100\n",
            "100/100 [==============================] - 25s 252ms/step - loss: 0.1465 - acc: 0.9380 - val_loss: 0.1494 - val_acc: 0.9560\n",
            "Epoch 9/100\n",
            "100/100 [==============================] - 25s 250ms/step - loss: 0.1458 - acc: 0.9460 - val_loss: 0.0304 - val_acc: 0.9530\n",
            "Epoch 10/100\n",
            "100/100 [==============================] - 25s 254ms/step - loss: 0.1342 - acc: 0.9425 - val_loss: 0.0350 - val_acc: 0.9550\n",
            "Epoch 11/100\n",
            "100/100 [==============================] - 25s 252ms/step - loss: 0.1509 - acc: 0.9410 - val_loss: 0.4704 - val_acc: 0.9580\n",
            "Epoch 12/100\n",
            "100/100 [==============================] - 25s 252ms/step - loss: 0.1273 - acc: 0.9470 - val_loss: 0.0521 - val_acc: 0.9630\n",
            "Epoch 13/100\n",
            "100/100 [==============================] - 25s 253ms/step - loss: 0.1249 - acc: 0.9495 - val_loss: 0.0362 - val_acc: 0.9590\n",
            "Epoch 14/100\n",
            "100/100 [==============================] - 25s 250ms/step - loss: 0.1175 - acc: 0.9580 - val_loss: 0.1058 - val_acc: 0.9640\n",
            "Epoch 15/100\n",
            "100/100 [==============================] - 25s 251ms/step - loss: 0.1105 - acc: 0.9580 - val_loss: 0.0764 - val_acc: 0.9630\n",
            "Epoch 16/100\n",
            "100/100 [==============================] - 25s 251ms/step - loss: 0.1084 - acc: 0.9600 - val_loss: 0.0037 - val_acc: 0.9660\n",
            "Epoch 17/100\n",
            "100/100 [==============================] - 25s 253ms/step - loss: 0.0940 - acc: 0.9680 - val_loss: 0.0130 - val_acc: 0.9610\n",
            "Epoch 18/100\n",
            "100/100 [==============================] - 25s 253ms/step - loss: 0.1117 - acc: 0.9595 - val_loss: 0.0502 - val_acc: 0.9570\n",
            "Epoch 19/100\n",
            "100/100 [==============================] - 25s 252ms/step - loss: 0.0993 - acc: 0.9625 - val_loss: 0.1816 - val_acc: 0.9580\n",
            "Epoch 20/100\n",
            "100/100 [==============================] - 25s 250ms/step - loss: 0.1017 - acc: 0.9670 - val_loss: 0.0023 - val_acc: 0.9610\n",
            "Epoch 21/100\n",
            "100/100 [==============================] - 25s 251ms/step - loss: 0.0869 - acc: 0.9665 - val_loss: 0.0042 - val_acc: 0.9600\n",
            "Epoch 22/100\n",
            "100/100 [==============================] - 25s 251ms/step - loss: 0.0877 - acc: 0.9670 - val_loss: 0.0018 - val_acc: 0.9620\n",
            "Epoch 23/100\n",
            "100/100 [==============================] - 25s 250ms/step - loss: 0.0978 - acc: 0.9680 - val_loss: 0.0026 - val_acc: 0.9640\n",
            "Epoch 24/100\n",
            "100/100 [==============================] - 25s 250ms/step - loss: 0.0990 - acc: 0.9595 - val_loss: 0.0715 - val_acc: 0.9700\n",
            "Epoch 25/100\n",
            "100/100 [==============================] - 25s 252ms/step - loss: 0.0739 - acc: 0.9720 - val_loss: 0.2422 - val_acc: 0.9650\n",
            "Epoch 26/100\n",
            "100/100 [==============================] - 25s 250ms/step - loss: 0.0626 - acc: 0.9770 - val_loss: 0.1243 - val_acc: 0.9680\n",
            "Epoch 27/100\n",
            "100/100 [==============================] - 25s 250ms/step - loss: 0.0762 - acc: 0.9705 - val_loss: 0.1817 - val_acc: 0.9710\n",
            "Epoch 28/100\n",
            "100/100 [==============================] - 25s 252ms/step - loss: 0.0785 - acc: 0.9710 - val_loss: 0.0189 - val_acc: 0.9700\n",
            "Epoch 29/100\n",
            "100/100 [==============================] - 25s 251ms/step - loss: 0.0731 - acc: 0.9770 - val_loss: 0.0141 - val_acc: 0.9670\n",
            "Epoch 30/100\n",
            "100/100 [==============================] - 25s 250ms/step - loss: 0.0554 - acc: 0.9810 - val_loss: 0.0021 - val_acc: 0.9690\n",
            "Epoch 31/100\n",
            "100/100 [==============================] - 25s 253ms/step - loss: 0.0602 - acc: 0.9750 - val_loss: 0.0804 - val_acc: 0.9690\n",
            "Epoch 32/100\n",
            "100/100 [==============================] - 25s 251ms/step - loss: 0.0667 - acc: 0.9760 - val_loss: 0.0110 - val_acc: 0.9670\n",
            "Epoch 33/100\n",
            "100/100 [==============================] - 25s 250ms/step - loss: 0.0673 - acc: 0.9755 - val_loss: 0.0406 - val_acc: 0.9720\n",
            "Epoch 34/100\n",
            "100/100 [==============================] - 25s 251ms/step - loss: 0.0709 - acc: 0.9765 - val_loss: 0.1897 - val_acc: 0.9660\n",
            "Epoch 35/100\n",
            "100/100 [==============================] - 25s 252ms/step - loss: 0.0469 - acc: 0.9830 - val_loss: 0.0079 - val_acc: 0.9700\n",
            "Epoch 36/100\n",
            "100/100 [==============================] - 25s 251ms/step - loss: 0.0530 - acc: 0.9800 - val_loss: 0.1433 - val_acc: 0.9640\n",
            "Epoch 37/100\n",
            "100/100 [==============================] - 25s 251ms/step - loss: 0.0567 - acc: 0.9800 - val_loss: 0.4056 - val_acc: 0.9630\n",
            "Epoch 38/100\n",
            "100/100 [==============================] - 25s 251ms/step - loss: 0.0459 - acc: 0.9825 - val_loss: 0.2741 - val_acc: 0.9680\n",
            "Epoch 39/100\n",
            "100/100 [==============================] - 25s 249ms/step - loss: 0.0593 - acc: 0.9830 - val_loss: 0.1212 - val_acc: 0.9680\n",
            "Epoch 40/100\n",
            "100/100 [==============================] - 25s 251ms/step - loss: 0.0370 - acc: 0.9875 - val_loss: 0.0090 - val_acc: 0.9700\n",
            "Epoch 41/100\n",
            "100/100 [==============================] - 25s 250ms/step - loss: 0.0512 - acc: 0.9810 - val_loss: 0.0206 - val_acc: 0.9740\n",
            "Epoch 42/100\n",
            "100/100 [==============================] - 25s 251ms/step - loss: 0.0607 - acc: 0.9825 - val_loss: 0.4423 - val_acc: 0.9720\n",
            "Epoch 43/100\n",
            "100/100 [==============================] - 25s 252ms/step - loss: 0.0455 - acc: 0.9840 - val_loss: 0.0229 - val_acc: 0.9720\n",
            "Epoch 44/100\n",
            "100/100 [==============================] - 25s 253ms/step - loss: 0.0404 - acc: 0.9885 - val_loss: 9.2328e-04 - val_acc: 0.9690\n",
            "Epoch 45/100\n",
            "100/100 [==============================] - 25s 251ms/step - loss: 0.0370 - acc: 0.9855 - val_loss: 0.0319 - val_acc: 0.9730\n",
            "Epoch 46/100\n",
            "100/100 [==============================] - 25s 251ms/step - loss: 0.0366 - acc: 0.9905 - val_loss: 0.0067 - val_acc: 0.9700\n",
            "Epoch 47/100\n",
            "100/100 [==============================] - 25s 251ms/step - loss: 0.0608 - acc: 0.9835 - val_loss: 0.0015 - val_acc: 0.9700\n",
            "Epoch 48/100\n",
            "100/100 [==============================] - 25s 250ms/step - loss: 0.0378 - acc: 0.9870 - val_loss: 0.0418 - val_acc: 0.9710\n",
            "Epoch 49/100\n",
            "100/100 [==============================] - 25s 251ms/step - loss: 0.0416 - acc: 0.9865 - val_loss: 0.0037 - val_acc: 0.9700\n",
            "Epoch 50/100\n",
            "100/100 [==============================] - 25s 252ms/step - loss: 0.0370 - acc: 0.9870 - val_loss: 0.1611 - val_acc: 0.9710\n",
            "Epoch 51/100\n",
            "100/100 [==============================] - 25s 250ms/step - loss: 0.0344 - acc: 0.9855 - val_loss: 0.0391 - val_acc: 0.9710\n",
            "Epoch 52/100\n",
            "100/100 [==============================] - 25s 250ms/step - loss: 0.0436 - acc: 0.9870 - val_loss: 0.0045 - val_acc: 0.9730\n",
            "Epoch 53/100\n",
            "100/100 [==============================] - 25s 250ms/step - loss: 0.0460 - acc: 0.9840 - val_loss: 0.0034 - val_acc: 0.9760\n",
            "Epoch 54/100\n",
            "100/100 [==============================] - 25s 250ms/step - loss: 0.0402 - acc: 0.9885 - val_loss: 0.3381 - val_acc: 0.9770\n",
            "Epoch 55/100\n",
            "100/100 [==============================] - 25s 251ms/step - loss: 0.0383 - acc: 0.9890 - val_loss: 0.0120 - val_acc: 0.9740\n",
            "Epoch 56/100\n",
            "100/100 [==============================] - 25s 251ms/step - loss: 0.0249 - acc: 0.9935 - val_loss: 0.0070 - val_acc: 0.9750\n",
            "Epoch 57/100\n",
            "100/100 [==============================] - 25s 250ms/step - loss: 0.0357 - acc: 0.9880 - val_loss: 0.0190 - val_acc: 0.9760\n",
            "Epoch 58/100\n",
            "100/100 [==============================] - 25s 250ms/step - loss: 0.0257 - acc: 0.9905 - val_loss: 0.0232 - val_acc: 0.9750\n",
            "Epoch 59/100\n",
            "100/100 [==============================] - 25s 250ms/step - loss: 0.0202 - acc: 0.9920 - val_loss: 2.4935e-04 - val_acc: 0.9770\n",
            "Epoch 60/100\n",
            "100/100 [==============================] - 25s 252ms/step - loss: 0.0425 - acc: 0.9880 - val_loss: 0.5959 - val_acc: 0.9730\n",
            "Epoch 61/100\n",
            "100/100 [==============================] - 25s 249ms/step - loss: 0.0403 - acc: 0.9865 - val_loss: 0.0110 - val_acc: 0.9720\n",
            "Epoch 62/100\n",
            "100/100 [==============================] - 25s 251ms/step - loss: 0.0350 - acc: 0.9880 - val_loss: 0.4852 - val_acc: 0.9760\n",
            "Epoch 63/100\n",
            "100/100 [==============================] - 25s 252ms/step - loss: 0.0279 - acc: 0.9890 - val_loss: 2.6674e-04 - val_acc: 0.9770\n",
            "Epoch 64/100\n",
            "100/100 [==============================] - 25s 250ms/step - loss: 0.0397 - acc: 0.9885 - val_loss: 0.0122 - val_acc: 0.9710\n",
            "Epoch 65/100\n",
            "100/100 [==============================] - 25s 250ms/step - loss: 0.0273 - acc: 0.9925 - val_loss: 0.0921 - val_acc: 0.9670\n",
            "Epoch 66/100\n",
            "100/100 [==============================] - 25s 251ms/step - loss: 0.0272 - acc: 0.9895 - val_loss: 0.2639 - val_acc: 0.9790\n",
            "Epoch 67/100\n",
            "100/100 [==============================] - 25s 252ms/step - loss: 0.0199 - acc: 0.9915 - val_loss: 0.0167 - val_acc: 0.9750\n",
            "Epoch 68/100\n",
            "100/100 [==============================] - 25s 251ms/step - loss: 0.0195 - acc: 0.9930 - val_loss: 7.0391e-05 - val_acc: 0.9760\n",
            "Epoch 69/100\n",
            "100/100 [==============================] - 25s 252ms/step - loss: 0.0416 - acc: 0.9870 - val_loss: 0.1720 - val_acc: 0.9740\n",
            "Epoch 70/100\n",
            "100/100 [==============================] - 25s 251ms/step - loss: 0.0262 - acc: 0.9915 - val_loss: 0.5365 - val_acc: 0.9750\n",
            "Epoch 71/100\n",
            "100/100 [==============================] - 25s 250ms/step - loss: 0.0257 - acc: 0.9920 - val_loss: 0.0012 - val_acc: 0.9760\n",
            "Epoch 72/100\n",
            "100/100 [==============================] - 25s 250ms/step - loss: 0.0185 - acc: 0.9940 - val_loss: 0.0159 - val_acc: 0.9750\n",
            "Epoch 73/100\n",
            "100/100 [==============================] - 25s 251ms/step - loss: 0.0148 - acc: 0.9955 - val_loss: 1.4555e-04 - val_acc: 0.9740\n",
            "Epoch 74/100\n",
            "100/100 [==============================] - 25s 250ms/step - loss: 0.0193 - acc: 0.9940 - val_loss: 0.7487 - val_acc: 0.9760\n",
            "Epoch 75/100\n",
            "100/100 [==============================] - 25s 250ms/step - loss: 0.0279 - acc: 0.9910 - val_loss: 0.1774 - val_acc: 0.9760\n",
            "Epoch 76/100\n",
            "100/100 [==============================] - 26s 262ms/step - loss: 0.0184 - acc: 0.9960 - val_loss: 0.7345 - val_acc: 0.9770\n",
            "Epoch 77/100\n",
            "100/100 [==============================] - 25s 252ms/step - loss: 0.0207 - acc: 0.9925 - val_loss: 1.8134e-04 - val_acc: 0.9770\n",
            "Epoch 78/100\n",
            "100/100 [==============================] - 25s 252ms/step - loss: 0.0287 - acc: 0.9890 - val_loss: 0.0026 - val_acc: 0.9760\n",
            "Epoch 79/100\n",
            "100/100 [==============================] - 25s 253ms/step - loss: 0.0270 - acc: 0.9940 - val_loss: 8.9387e-05 - val_acc: 0.9780\n",
            "Epoch 80/100\n",
            "100/100 [==============================] - 25s 252ms/step - loss: 0.0242 - acc: 0.9930 - val_loss: 0.0139 - val_acc: 0.9780\n",
            "Epoch 81/100\n",
            "100/100 [==============================] - 25s 252ms/step - loss: 0.0133 - acc: 0.9955 - val_loss: 0.1738 - val_acc: 0.9770\n",
            "Epoch 82/100\n",
            "100/100 [==============================] - 25s 252ms/step - loss: 0.0210 - acc: 0.9930 - val_loss: 0.0281 - val_acc: 0.9740\n",
            "Epoch 83/100\n",
            "100/100 [==============================] - 25s 251ms/step - loss: 0.0323 - acc: 0.9910 - val_loss: 0.2655 - val_acc: 0.9700\n",
            "Epoch 84/100\n",
            "100/100 [==============================] - 25s 251ms/step - loss: 0.0275 - acc: 0.9915 - val_loss: 0.0100 - val_acc: 0.9670\n",
            "Epoch 85/100\n",
            "100/100 [==============================] - 25s 252ms/step - loss: 0.0142 - acc: 0.9955 - val_loss: 0.0400 - val_acc: 0.9750\n",
            "Epoch 86/100\n",
            "100/100 [==============================] - 25s 253ms/step - loss: 0.0213 - acc: 0.9935 - val_loss: 0.1633 - val_acc: 0.9730\n",
            "Epoch 87/100\n",
            "100/100 [==============================] - 25s 251ms/step - loss: 0.0136 - acc: 0.9955 - val_loss: 0.0129 - val_acc: 0.9740\n",
            "Epoch 88/100\n",
            "100/100 [==============================] - 25s 252ms/step - loss: 0.0092 - acc: 0.9980 - val_loss: 0.0640 - val_acc: 0.9760\n",
            "Epoch 89/100\n",
            "100/100 [==============================] - 25s 252ms/step - loss: 0.0225 - acc: 0.9925 - val_loss: 0.0115 - val_acc: 0.9780\n",
            "Epoch 90/100\n",
            "100/100 [==============================] - 25s 252ms/step - loss: 0.0268 - acc: 0.9900 - val_loss: 7.2224e-04 - val_acc: 0.9790\n",
            "Epoch 91/100\n",
            "100/100 [==============================] - 25s 252ms/step - loss: 0.0247 - acc: 0.9950 - val_loss: 6.7414e-04 - val_acc: 0.9780\n",
            "Epoch 92/100\n",
            "100/100 [==============================] - 25s 252ms/step - loss: 0.0156 - acc: 0.9940 - val_loss: 0.0716 - val_acc: 0.9770\n",
            "Epoch 93/100\n",
            "100/100 [==============================] - 25s 253ms/step - loss: 0.0158 - acc: 0.9955 - val_loss: 0.3113 - val_acc: 0.9790\n",
            "Epoch 94/100\n",
            "100/100 [==============================] - 25s 251ms/step - loss: 0.0158 - acc: 0.9965 - val_loss: 0.7641 - val_acc: 0.9760\n",
            "Epoch 95/100\n",
            "100/100 [==============================] - 25s 251ms/step - loss: 0.0137 - acc: 0.9955 - val_loss: 0.0546 - val_acc: 0.9740\n",
            "Epoch 96/100\n",
            "100/100 [==============================] - 25s 252ms/step - loss: 0.0148 - acc: 0.9945 - val_loss: 0.0366 - val_acc: 0.9730\n",
            "Epoch 97/100\n",
            "100/100 [==============================] - 25s 251ms/step - loss: 0.0206 - acc: 0.9925 - val_loss: 0.1581 - val_acc: 0.9720\n",
            "Epoch 98/100\n",
            "100/100 [==============================] - 25s 253ms/step - loss: 0.0228 - acc: 0.9915 - val_loss: 0.0440 - val_acc: 0.9730\n",
            "Epoch 99/100\n",
            "100/100 [==============================] - 25s 251ms/step - loss: 0.0196 - acc: 0.9935 - val_loss: 0.7081 - val_acc: 0.9700\n",
            "Epoch 100/100\n",
            "100/100 [==============================] - 25s 251ms/step - loss: 0.0127 - acc: 0.9955 - val_loss: 0.1528 - val_acc: 0.9690\n"
          ],
          "name": "stdout"
        }
      ]
    },
    {
      "cell_type": "markdown",
      "metadata": {
        "id": "eVBQgh5M-Rtz",
        "colab_type": "text"
      },
      "source": [
        "## Display learning curves during fine-tuning"
      ]
    },
    {
      "cell_type": "code",
      "metadata": {
        "id": "mbkIw7Ie-NP4",
        "colab_type": "code",
        "colab": {
          "base_uri": "https://localhost:8080/",
          "height": 545
        },
        "outputId": "aad6ce99-95f9-4127-9c72-ca8d64209c0d"
      },
      "source": [
        "%matplotlib inline\n",
        "\n",
        "import matplotlib.pyplot as plt\n",
        "\n",
        "acc = history.history['acc']\n",
        "val_acc = history.history['val_acc']\n",
        "\n",
        "loss = history.history['loss']\n",
        "val_loss = history.history['val_loss']\n",
        "\n",
        "epochs = range(1, len(acc) + 1)\n",
        "\n",
        "# training and validation accuracy\n",
        "\n",
        "plt.plot(epochs, acc, 'bo', label='training acc')\n",
        "plt.plot(epochs, val_acc, 'b', label='validation acc')\n",
        "plt.title('training and validation accuracy')\n",
        "plt.legend()\n",
        "\n",
        "plt.figure()\n",
        "\n",
        "# training and validation loss\n",
        "\n",
        "plt.plot(epochs, loss, 'bo', label='training loss')\n",
        "plt.plot(epochs, val_loss, 'b', label='validation loss')\n",
        "plt.title('training and validation loss')\n",
        "plt.legend()\n",
        "\n",
        "plt.show()"
      ],
      "execution_count": 12,
      "outputs": [
        {
          "output_type": "display_data",
          "data": {
            "image/png": "[encoded data removed]",
            "text/plain": [
              "<Figure size 432x288 with 1 Axes>"
            ]
          },
          "metadata": {
            "tags": [],
            "needs_background": "light"
          }
        },
        {
          "output_type": "display_data",
          "data": {
            "image/png": "[encoded data removed]",
            "text/plain": [
              "<Figure size 432x288 with 1 Axes>"
            ]
          },
          "metadata": {
            "tags": [],
            "needs_background": "light"
          }
        }
      ]
    },
    {
      "cell_type": "markdown",
      "metadata": {
        "id": "obQi6N4ZShdi",
        "colab_type": "text"
      },
      "source": [
        "This looks like overfitting. I should try  adding dropout for the densely connected layer."
      ]
    },
    {
      "cell_type": "markdown",
      "metadata": {
        "id": "he3Nw6TOJwjx",
        "colab_type": "text"
      },
      "source": [
        "## Print out validation loss and accuracy"
      ]
    },
    {
      "cell_type": "code",
      "metadata": {
        "id": "SVQtrk7uJdhl",
        "colab_type": "code",
        "colab": {}
      },
      "source": [
        "val_loss, val_acc = model.evaluate_generator(validation_generator, steps=50)"
      ],
      "execution_count": 0,
      "outputs": []
    },
    {
      "cell_type": "code",
      "metadata": {
        "id": "HpdddLi1SUMe",
        "colab_type": "code",
        "colab": {
          "base_uri": "https://localhost:8080/",
          "height": 51
        },
        "outputId": "219eda2b-b0a5-4536-9394-5093d3e4daaa"
      },
      "source": [
        "print(\"Validation loss:\", val_loss)\n",
        "print(\"Validation accuracy:\", val_acc)"
      ],
      "execution_count": 14,
      "outputs": [
        {
          "output_type": "stream",
          "text": [
            "Validation loss: 0.15283361077308655\n",
            "Validation accuracy: 0.968999981880188\n"
          ],
          "name": "stdout"
        }
      ]
    },
    {
      "cell_type": "markdown",
      "metadata": {
        "id": "7Ww756WToby8",
        "colab_type": "text"
      },
      "source": [
        "## Save the model"
      ]
    },
    {
      "cell_type": "code",
      "metadata": {
        "id": "0lTUpUdwobKW",
        "colab_type": "code",
        "colab": {}
      },
      "source": [
        "model_fname = 'cats_and_dogs_small_4.h5' \n",
        "model.save(model_fname)"
      ],
      "execution_count": 0,
      "outputs": []
    },
    {
      "cell_type": "code",
      "metadata": {
        "id": "YhEoI8ZTok-X",
        "colab_type": "code",
        "colab": {
          "base_uri": "https://localhost:8080/",
          "height": 442
        },
        "outputId": "91a88ef6-8447-47b5-b2c0-84b491a1f623"
      },
      "source": [
        "from google.colab import files\n",
        "\n",
        "with open(model_fname, 'r') as f:\n",
        "  files.download(model_fname)"
      ],
      "execution_count": 18,
      "outputs": [
        {
          "output_type": "stream",
          "text": [
            "----------------------------------------\n",
            "Exception happened during processing of request from ('::ffff:127.0.0.1', 37774, 0, 0)\n",
            "Traceback (most recent call last):\n",
            "  File \"/usr/lib/python3.6/socketserver.py\", line 320, in _handle_request_noblock\n",
            "    self.process_request(request, client_address)\n",
            "  File \"/usr/lib/python3.6/socketserver.py\", line 351, in process_request\n",
            "    self.finish_request(request, client_address)\n",
            "  File \"/usr/lib/python3.6/socketserver.py\", line 364, in finish_request\n",
            "    self.RequestHandlerClass(request, client_address, self)\n",
            "  File \"/usr/lib/python3.6/socketserver.py\", line 724, in __init__\n",
            "    self.handle()\n",
            "  File \"/usr/lib/python3.6/http/server.py\", line 418, in handle\n",
            "    self.handle_one_request()\n",
            "  File \"/usr/lib/python3.6/http/server.py\", line 406, in handle_one_request\n",
            "    method()\n",
            "  File \"/usr/lib/python3.6/http/server.py\", line 639, in do_GET\n",
            "    self.copyfile(f, self.wfile)\n",
            "  File \"/usr/lib/python3.6/http/server.py\", line 800, in copyfile\n",
            "    shutil.copyfileobj(source, outputfile)\n",
            "  File \"/usr/lib/python3.6/shutil.py\", line 82, in copyfileobj\n",
            "    fdst.write(buf)\n",
            "  File \"/usr/lib/python3.6/socketserver.py\", line 803, in write\n",
            "    self._sock.sendall(b)\n",
            "ConnectionResetError: [Errno 104] Connection reset by peer\n",
            "----------------------------------------\n"
          ],
          "name": "stderr"
        }
      ]
    },
    {
      "cell_type": "code",
      "metadata": {
        "id": "VNEL4CCcS0Oj",
        "colab_type": "code",
        "colab": {}
      },
      "source": [
        ""
      ],
      "execution_count": 0,
      "outputs": []
    }
  ]
}