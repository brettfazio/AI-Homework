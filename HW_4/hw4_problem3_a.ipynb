{
  "nbformat": 4,
  "nbformat_minor": 0,
  "metadata": {
    "colab": {
      "name": "hw4_problem3_a.ipynb",
      "provenance": [],
      "collapsed_sections": [],
      "include_colab_link": true
    },
    "kernelspec": {
      "name": "python3",
      "display_name": "Python 3"
    },
    "accelerator": "GPU"
  },
  "cells": [
    {
      "cell_type": "markdown",
      "metadata": {
        "id": "view-in-github",
        "colab_type": "text"
      },
      "source": [
        "<a href=\"https://colab.research.google.com/github/brettfazio/AI-Homework/blob/master/HW_4/hw4_problem3_a.ipynb\" target=\"_parent\"><img src=\"https://colab.research.google.com/assets/colab-badge.svg\" alt=\"Open In Colab\"/></a>"
      ]
    },
    {
      "cell_type": "markdown",
      "metadata": {
        "id": "9NDw2ZYTmq-5",
        "colab_type": "text"
      },
      "source": [
        "### This is my first adaptation of the Fine-tuning `pretrained_convnet` notebook.\n",
        "\n",
        "### Homework 4, Problem 3"
      ]
    },
    {
      "cell_type": "markdown",
      "metadata": {
        "id": "KSrgMJ5vKFzQ",
        "colab_type": "text"
      },
      "source": [
        "# Fine-tuning VGG16 "
      ]
    },
    {
      "cell_type": "markdown",
      "metadata": {
        "id": "TIW7bZaAK-Hf",
        "colab_type": "text"
      },
      "source": [
        "This is based on section 5.3 *Using a pretrained convnet* of the book *Deep learning with Python* by Francois Chollet. I have made several changes to the code. I use the data that is already provided by Google. I don't download the data from Kaggle as in the deep learning book."
      ]
    },
    {
      "cell_type": "markdown",
      "metadata": {
        "id": "nsBq__dVo2pj",
        "colab_type": "text"
      },
      "source": [
        "## Feature extraction"
      ]
    },
    {
      "cell_type": "markdown",
      "metadata": {
        "id": "0g6ETAM9o54M",
        "colab_type": "text"
      },
      "source": [
        "Feature extraction consists of using the representations learned by a previous network to extract interesting features from new samples. These features are then run through a new classifier, which is trained from scratch.\n",
        "\n",
        "We will use here the convolutional base of the VGG16 model to extract the features. We will feed these features to a densely connected classifier with dropout. We will fine-tune some layers."
      ]
    },
    {
      "cell_type": "markdown",
      "metadata": {
        "id": "BqIG8QHMLNOn",
        "colab_type": "text"
      },
      "source": [
        "## Download the data"
      ]
    },
    {
      "cell_type": "markdown",
      "metadata": {
        "id": "t3I1jd7cKV6_",
        "colab_type": "text"
      },
      "source": [
        "Download the example data, a zip. of 2,000 JPG pictures of cats and dogs and extract it locally in ```/tmp```.\n",
        "\n"
      ]
    },
    {
      "cell_type": "code",
      "metadata": {
        "id": "JWjprHEXJ5Qi",
        "colab_type": "code",
        "outputId": "3c00b73a-8b9b-4667-df1a-bc57c4d4b64c",
        "colab": {
          "base_uri": "https://localhost:8080/",
          "height": 204
        }
      },
      "source": [
        "!wget --no-check-certificate \\\n",
        "    https://storage.googleapis.com/mledu-datasets/cats_and_dogs_filtered.zip \\\n",
        "    -O /tmp/cats_and_dogs_filtered.zip"
      ],
      "execution_count": 1,
      "outputs": [
        {
          "output_type": "stream",
          "text": [
            "--2020-04-17 17:14:35--  https://storage.googleapis.com/mledu-datasets/cats_and_dogs_filtered.zip\n",
            "Resolving storage.googleapis.com (storage.googleapis.com)... 216.58.217.208, 2607:f8b0:4007:804::2010\n",
            "Connecting to storage.googleapis.com (storage.googleapis.com)|216.58.217.208|:443... connected.\n",
            "HTTP request sent, awaiting response... 200 OK\n",
            "Length: 68606236 (65M) [application/zip]\n",
            "Saving to: ‘/tmp/cats_and_dogs_filtered.zip’\n",
            "\n",
            "/tmp/cats_and_dogs_ 100%[===================>]  65.43M  78.9MB/s    in 0.8s    \n",
            "\n",
            "2020-04-17 17:14:36 (78.9 MB/s) - ‘/tmp/cats_and_dogs_filtered.zip’ saved [68606236/68606236]\n",
            "\n"
          ],
          "name": "stdout"
        }
      ]
    },
    {
      "cell_type": "code",
      "metadata": {
        "id": "WvoHtdA-K6Rw",
        "colab_type": "code",
        "colab": {}
      },
      "source": [
        "import os\n",
        "import zipfile\n",
        "\n",
        "local_zip = '/tmp/cats_and_dogs_filtered.zip'\n",
        "zip_ref = zipfile.ZipFile(local_zip, 'r')\n",
        "zip_ref.extractall('/tmp')\n",
        "zip_ref.close()"
      ],
      "execution_count": 0,
      "outputs": []
    },
    {
      "cell_type": "markdown",
      "metadata": {
        "id": "shZiOBnJMyy_",
        "colab_type": "text"
      },
      "source": [
        "Note that the data provided by Google does not have a test set."
      ]
    },
    {
      "cell_type": "code",
      "metadata": {
        "id": "dL8ikM89LlsH",
        "colab_type": "code",
        "colab": {}
      },
      "source": [
        "base_dir = '/tmp/cats_and_dogs_filtered'\n",
        "train_dir = os.path.join(base_dir, 'train')\n",
        "validation_dir = os.path.join(base_dir, 'validation')\n",
        "\n",
        "# Directory with our training cat pictures\n",
        "train_cats_dir = os.path.join(train_dir, 'cats')\n",
        "\n",
        "# Directory with our training dog pictures\n",
        "train_dogs_dir = os.path.join(train_dir, 'dogs')\n",
        "\n",
        "# Directory with our validation cat pictures\n",
        "validation_cats_dir = os.path.join(validation_dir, 'cats')\n",
        "\n",
        "# Directory with our validation dog pictures\n",
        "validation_dogs_dir = os.path.join(validation_dir, 'dogs')"
      ],
      "execution_count": 0,
      "outputs": []
    },
    {
      "cell_type": "markdown",
      "metadata": {
        "id": "inyP8bcdXnn-",
        "colab_type": "text"
      },
      "source": [
        "## Build network with NASNet convolution base and custom densely connected layers"
      ]
    },
    {
      "cell_type": "markdown",
      "metadata": {
        "id": "kQ48W5T9rHWu",
        "colab_type": "text"
      },
      "source": [
        "### Load the convolutional base"
      ]
    },
    {
      "cell_type": "code",
      "metadata": {
        "id": "Y0FgtANCXm_H",
        "colab_type": "code",
        "outputId": "80fe74c8-666e-4b5b-aac9-1e79c033c4aa",
        "colab": {
          "base_uri": "https://localhost:8080/",
          "height": 1000
        }
      },
      "source": [
        "from keras.applications import Xception\n",
        "\n",
        "conv_base = Xception(\n",
        "    weights='imagenet', \n",
        "    include_top=False, \n",
        "    input_shape=(150, 150, 3))\n",
        "\n",
        "conv_base.summary()"
      ],
      "execution_count": 4,
      "outputs": [
        {
          "output_type": "stream",
          "text": [
            "Using TensorFlow backend.\n"
          ],
          "name": "stderr"
        },
        {
          "output_type": "stream",
          "text": [
            "Downloading data from https://github.com/fchollet/deep-learning-models/releases/download/v0.4/xception_weights_tf_dim_ordering_tf_kernels_notop.h5\n",
            "83689472/83683744 [==============================] - 2s 0us/step\n",
            "Model: \"xception\"\n",
            "__________________________________________________________________________________________________\n",
            "Layer (type)                    Output Shape         Param #     Connected to                     \n",
            "==================================================================================================\n",
            "input_1 (InputLayer)            (None, 150, 150, 3)  0                                            \n",
            "__________________________________________________________________________________________________\n",
            "block1_conv1 (Conv2D)           (None, 74, 74, 32)   864         input_1[0][0]                    \n",
            "__________________________________________________________________________________________________\n",
            "block1_conv1_bn (BatchNormaliza (None, 74, 74, 32)   128         block1_conv1[0][0]               \n",
            "__________________________________________________________________________________________________\n",
            "block1_conv1_act (Activation)   (None, 74, 74, 32)   0           block1_conv1_bn[0][0]            \n",
            "__________________________________________________________________________________________________\n",
            "block1_conv2 (Conv2D)           (None, 72, 72, 64)   18432       block1_conv1_act[0][0]           \n",
            "__________________________________________________________________________________________________\n",
            "block1_conv2_bn (BatchNormaliza (None, 72, 72, 64)   256         block1_conv2[0][0]               \n",
            "__________________________________________________________________________________________________\n",
            "block1_conv2_act (Activation)   (None, 72, 72, 64)   0           block1_conv2_bn[0][0]            \n",
            "__________________________________________________________________________________________________\n",
            "block2_sepconv1 (SeparableConv2 (None, 72, 72, 128)  8768        block1_conv2_act[0][0]           \n",
            "__________________________________________________________________________________________________\n",
            "block2_sepconv1_bn (BatchNormal (None, 72, 72, 128)  512         block2_sepconv1[0][0]            \n",
            "__________________________________________________________________________________________________\n",
            "block2_sepconv2_act (Activation (None, 72, 72, 128)  0           block2_sepconv1_bn[0][0]         \n",
            "__________________________________________________________________________________________________\n",
            "block2_sepconv2 (SeparableConv2 (None, 72, 72, 128)  17536       block2_sepconv2_act[0][0]        \n",
            "__________________________________________________________________________________________________\n",
            "block2_sepconv2_bn (BatchNormal (None, 72, 72, 128)  512         block2_sepconv2[0][0]            \n",
            "__________________________________________________________________________________________________\n",
            "conv2d_1 (Conv2D)               (None, 36, 36, 128)  8192        block1_conv2_act[0][0]           \n",
            "__________________________________________________________________________________________________\n",
            "block2_pool (MaxPooling2D)      (None, 36, 36, 128)  0           block2_sepconv2_bn[0][0]         \n",
            "__________________________________________________________________________________________________\n",
            "batch_normalization_1 (BatchNor (None, 36, 36, 128)  512         conv2d_1[0][0]                   \n",
            "__________________________________________________________________________________________________\n",
            "add_1 (Add)                     (None, 36, 36, 128)  0           block2_pool[0][0]                \n",
            "                                                                 batch_normalization_1[0][0]      \n",
            "__________________________________________________________________________________________________\n",
            "block3_sepconv1_act (Activation (None, 36, 36, 128)  0           add_1[0][0]                      \n",
            "__________________________________________________________________________________________________\n",
            "block3_sepconv1 (SeparableConv2 (None, 36, 36, 256)  33920       block3_sepconv1_act[0][0]        \n",
            "__________________________________________________________________________________________________\n",
            "block3_sepconv1_bn (BatchNormal (None, 36, 36, 256)  1024        block3_sepconv1[0][0]            \n",
            "__________________________________________________________________________________________________\n",
            "block3_sepconv2_act (Activation (None, 36, 36, 256)  0           block3_sepconv1_bn[0][0]         \n",
            "__________________________________________________________________________________________________\n",
            "block3_sepconv2 (SeparableConv2 (None, 36, 36, 256)  67840       block3_sepconv2_act[0][0]        \n",
            "__________________________________________________________________________________________________\n",
            "block3_sepconv2_bn (BatchNormal (None, 36, 36, 256)  1024        block3_sepconv2[0][0]            \n",
            "__________________________________________________________________________________________________\n",
            "conv2d_2 (Conv2D)               (None, 18, 18, 256)  32768       add_1[0][0]                      \n",
            "__________________________________________________________________________________________________\n",
            "block3_pool (MaxPooling2D)      (None, 18, 18, 256)  0           block3_sepconv2_bn[0][0]         \n",
            "__________________________________________________________________________________________________\n",
            "batch_normalization_2 (BatchNor (None, 18, 18, 256)  1024        conv2d_2[0][0]                   \n",
            "__________________________________________________________________________________________________\n",
            "add_2 (Add)                     (None, 18, 18, 256)  0           block3_pool[0][0]                \n",
            "                                                                 batch_normalization_2[0][0]      \n",
            "__________________________________________________________________________________________________\n",
            "block4_sepconv1_act (Activation (None, 18, 18, 256)  0           add_2[0][0]                      \n",
            "__________________________________________________________________________________________________\n",
            "block4_sepconv1 (SeparableConv2 (None, 18, 18, 728)  188672      block4_sepconv1_act[0][0]        \n",
            "__________________________________________________________________________________________________\n",
            "block4_sepconv1_bn (BatchNormal (None, 18, 18, 728)  2912        block4_sepconv1[0][0]            \n",
            "__________________________________________________________________________________________________\n",
            "block4_sepconv2_act (Activation (None, 18, 18, 728)  0           block4_sepconv1_bn[0][0]         \n",
            "__________________________________________________________________________________________________\n",
            "block4_sepconv2 (SeparableConv2 (None, 18, 18, 728)  536536      block4_sepconv2_act[0][0]        \n",
            "__________________________________________________________________________________________________\n",
            "block4_sepconv2_bn (BatchNormal (None, 18, 18, 728)  2912        block4_sepconv2[0][0]            \n",
            "__________________________________________________________________________________________________\n",
            "conv2d_3 (Conv2D)               (None, 9, 9, 728)    186368      add_2[0][0]                      \n",
            "__________________________________________________________________________________________________\n",
            "block4_pool (MaxPooling2D)      (None, 9, 9, 728)    0           block4_sepconv2_bn[0][0]         \n",
            "__________________________________________________________________________________________________\n",
            "batch_normalization_3 (BatchNor (None, 9, 9, 728)    2912        conv2d_3[0][0]                   \n",
            "__________________________________________________________________________________________________\n",
            "add_3 (Add)                     (None, 9, 9, 728)    0           block4_pool[0][0]                \n",
            "                                                                 batch_normalization_3[0][0]      \n",
            "__________________________________________________________________________________________________\n",
            "block5_sepconv1_act (Activation (None, 9, 9, 728)    0           add_3[0][0]                      \n",
            "__________________________________________________________________________________________________\n",
            "block5_sepconv1 (SeparableConv2 (None, 9, 9, 728)    536536      block5_sepconv1_act[0][0]        \n",
            "__________________________________________________________________________________________________\n",
            "block5_sepconv1_bn (BatchNormal (None, 9, 9, 728)    2912        block5_sepconv1[0][0]            \n",
            "__________________________________________________________________________________________________\n",
            "block5_sepconv2_act (Activation (None, 9, 9, 728)    0           block5_sepconv1_bn[0][0]         \n",
            "__________________________________________________________________________________________________\n",
            "block5_sepconv2 (SeparableConv2 (None, 9, 9, 728)    536536      block5_sepconv2_act[0][0]        \n",
            "__________________________________________________________________________________________________\n",
            "block5_sepconv2_bn (BatchNormal (None, 9, 9, 728)    2912        block5_sepconv2[0][0]            \n",
            "__________________________________________________________________________________________________\n",
            "block5_sepconv3_act (Activation (None, 9, 9, 728)    0           block5_sepconv2_bn[0][0]         \n",
            "__________________________________________________________________________________________________\n",
            "block5_sepconv3 (SeparableConv2 (None, 9, 9, 728)    536536      block5_sepconv3_act[0][0]        \n",
            "__________________________________________________________________________________________________\n",
            "block5_sepconv3_bn (BatchNormal (None, 9, 9, 728)    2912        block5_sepconv3[0][0]            \n",
            "__________________________________________________________________________________________________\n",
            "add_4 (Add)                     (None, 9, 9, 728)    0           block5_sepconv3_bn[0][0]         \n",
            "                                                                 add_3[0][0]                      \n",
            "__________________________________________________________________________________________________\n",
            "block6_sepconv1_act (Activation (None, 9, 9, 728)    0           add_4[0][0]                      \n",
            "__________________________________________________________________________________________________\n",
            "block6_sepconv1 (SeparableConv2 (None, 9, 9, 728)    536536      block6_sepconv1_act[0][0]        \n",
            "__________________________________________________________________________________________________\n",
            "block6_sepconv1_bn (BatchNormal (None, 9, 9, 728)    2912        block6_sepconv1[0][0]            \n",
            "__________________________________________________________________________________________________\n",
            "block6_sepconv2_act (Activation (None, 9, 9, 728)    0           block6_sepconv1_bn[0][0]         \n",
            "__________________________________________________________________________________________________\n",
            "block6_sepconv2 (SeparableConv2 (None, 9, 9, 728)    536536      block6_sepconv2_act[0][0]        \n",
            "__________________________________________________________________________________________________\n",
            "block6_sepconv2_bn (BatchNormal (None, 9, 9, 728)    2912        block6_sepconv2[0][0]            \n",
            "__________________________________________________________________________________________________\n",
            "block6_sepconv3_act (Activation (None, 9, 9, 728)    0           block6_sepconv2_bn[0][0]         \n",
            "__________________________________________________________________________________________________\n",
            "block6_sepconv3 (SeparableConv2 (None, 9, 9, 728)    536536      block6_sepconv3_act[0][0]        \n",
            "__________________________________________________________________________________________________\n",
            "block6_sepconv3_bn (BatchNormal (None, 9, 9, 728)    2912        block6_sepconv3[0][0]            \n",
            "__________________________________________________________________________________________________\n",
            "add_5 (Add)                     (None, 9, 9, 728)    0           block6_sepconv3_bn[0][0]         \n",
            "                                                                 add_4[0][0]                      \n",
            "__________________________________________________________________________________________________\n",
            "block7_sepconv1_act (Activation (None, 9, 9, 728)    0           add_5[0][0]                      \n",
            "__________________________________________________________________________________________________\n",
            "block7_sepconv1 (SeparableConv2 (None, 9, 9, 728)    536536      block7_sepconv1_act[0][0]        \n",
            "__________________________________________________________________________________________________\n",
            "block7_sepconv1_bn (BatchNormal (None, 9, 9, 728)    2912        block7_sepconv1[0][0]            \n",
            "__________________________________________________________________________________________________\n",
            "block7_sepconv2_act (Activation (None, 9, 9, 728)    0           block7_sepconv1_bn[0][0]         \n",
            "__________________________________________________________________________________________________\n",
            "block7_sepconv2 (SeparableConv2 (None, 9, 9, 728)    536536      block7_sepconv2_act[0][0]        \n",
            "__________________________________________________________________________________________________\n",
            "block7_sepconv2_bn (BatchNormal (None, 9, 9, 728)    2912        block7_sepconv2[0][0]            \n",
            "__________________________________________________________________________________________________\n",
            "block7_sepconv3_act (Activation (None, 9, 9, 728)    0           block7_sepconv2_bn[0][0]         \n",
            "__________________________________________________________________________________________________\n",
            "block7_sepconv3 (SeparableConv2 (None, 9, 9, 728)    536536      block7_sepconv3_act[0][0]        \n",
            "__________________________________________________________________________________________________\n",
            "block7_sepconv3_bn (BatchNormal (None, 9, 9, 728)    2912        block7_sepconv3[0][0]            \n",
            "__________________________________________________________________________________________________\n",
            "add_6 (Add)                     (None, 9, 9, 728)    0           block7_sepconv3_bn[0][0]         \n",
            "                                                                 add_5[0][0]                      \n",
            "__________________________________________________________________________________________________\n",
            "block8_sepconv1_act (Activation (None, 9, 9, 728)    0           add_6[0][0]                      \n",
            "__________________________________________________________________________________________________\n",
            "block8_sepconv1 (SeparableConv2 (None, 9, 9, 728)    536536      block8_sepconv1_act[0][0]        \n",
            "__________________________________________________________________________________________________\n",
            "block8_sepconv1_bn (BatchNormal (None, 9, 9, 728)    2912        block8_sepconv1[0][0]            \n",
            "__________________________________________________________________________________________________\n",
            "block8_sepconv2_act (Activation (None, 9, 9, 728)    0           block8_sepconv1_bn[0][0]         \n",
            "__________________________________________________________________________________________________\n",
            "block8_sepconv2 (SeparableConv2 (None, 9, 9, 728)    536536      block8_sepconv2_act[0][0]        \n",
            "__________________________________________________________________________________________________\n",
            "block8_sepconv2_bn (BatchNormal (None, 9, 9, 728)    2912        block8_sepconv2[0][0]            \n",
            "__________________________________________________________________________________________________\n",
            "block8_sepconv3_act (Activation (None, 9, 9, 728)    0           block8_sepconv2_bn[0][0]         \n",
            "__________________________________________________________________________________________________\n",
            "block8_sepconv3 (SeparableConv2 (None, 9, 9, 728)    536536      block8_sepconv3_act[0][0]        \n",
            "__________________________________________________________________________________________________\n",
            "block8_sepconv3_bn (BatchNormal (None, 9, 9, 728)    2912        block8_sepconv3[0][0]            \n",
            "__________________________________________________________________________________________________\n",
            "add_7 (Add)                     (None, 9, 9, 728)    0           block8_sepconv3_bn[0][0]         \n",
            "                                                                 add_6[0][0]                      \n",
            "__________________________________________________________________________________________________\n",
            "block9_sepconv1_act (Activation (None, 9, 9, 728)    0           add_7[0][0]                      \n",
            "__________________________________________________________________________________________________\n",
            "block9_sepconv1 (SeparableConv2 (None, 9, 9, 728)    536536      block9_sepconv1_act[0][0]        \n",
            "__________________________________________________________________________________________________\n",
            "block9_sepconv1_bn (BatchNormal (None, 9, 9, 728)    2912        block9_sepconv1[0][0]            \n",
            "__________________________________________________________________________________________________\n",
            "block9_sepconv2_act (Activation (None, 9, 9, 728)    0           block9_sepconv1_bn[0][0]         \n",
            "__________________________________________________________________________________________________\n",
            "block9_sepconv2 (SeparableConv2 (None, 9, 9, 728)    536536      block9_sepconv2_act[0][0]        \n",
            "__________________________________________________________________________________________________\n",
            "block9_sepconv2_bn (BatchNormal (None, 9, 9, 728)    2912        block9_sepconv2[0][0]            \n",
            "__________________________________________________________________________________________________\n",
            "block9_sepconv3_act (Activation (None, 9, 9, 728)    0           block9_sepconv2_bn[0][0]         \n",
            "__________________________________________________________________________________________________\n",
            "block9_sepconv3 (SeparableConv2 (None, 9, 9, 728)    536536      block9_sepconv3_act[0][0]        \n",
            "__________________________________________________________________________________________________\n",
            "block9_sepconv3_bn (BatchNormal (None, 9, 9, 728)    2912        block9_sepconv3[0][0]            \n",
            "__________________________________________________________________________________________________\n",
            "add_8 (Add)                     (None, 9, 9, 728)    0           block9_sepconv3_bn[0][0]         \n",
            "                                                                 add_7[0][0]                      \n",
            "__________________________________________________________________________________________________\n",
            "block10_sepconv1_act (Activatio (None, 9, 9, 728)    0           add_8[0][0]                      \n",
            "__________________________________________________________________________________________________\n",
            "block10_sepconv1 (SeparableConv (None, 9, 9, 728)    536536      block10_sepconv1_act[0][0]       \n",
            "__________________________________________________________________________________________________\n",
            "block10_sepconv1_bn (BatchNorma (None, 9, 9, 728)    2912        block10_sepconv1[0][0]           \n",
            "__________________________________________________________________________________________________\n",
            "block10_sepconv2_act (Activatio (None, 9, 9, 728)    0           block10_sepconv1_bn[0][0]        \n",
            "__________________________________________________________________________________________________\n",
            "block10_sepconv2 (SeparableConv (None, 9, 9, 728)    536536      block10_sepconv2_act[0][0]       \n",
            "__________________________________________________________________________________________________\n",
            "block10_sepconv2_bn (BatchNorma (None, 9, 9, 728)    2912        block10_sepconv2[0][0]           \n",
            "__________________________________________________________________________________________________\n",
            "block10_sepconv3_act (Activatio (None, 9, 9, 728)    0           block10_sepconv2_bn[0][0]        \n",
            "__________________________________________________________________________________________________\n",
            "block10_sepconv3 (SeparableConv (None, 9, 9, 728)    536536      block10_sepconv3_act[0][0]       \n",
            "__________________________________________________________________________________________________\n",
            "block10_sepconv3_bn (BatchNorma (None, 9, 9, 728)    2912        block10_sepconv3[0][0]           \n",
            "__________________________________________________________________________________________________\n",
            "add_9 (Add)                     (None, 9, 9, 728)    0           block10_sepconv3_bn[0][0]        \n",
            "                                                                 add_8[0][0]                      \n",
            "__________________________________________________________________________________________________\n",
            "block11_sepconv1_act (Activatio (None, 9, 9, 728)    0           add_9[0][0]                      \n",
            "__________________________________________________________________________________________________\n",
            "block11_sepconv1 (SeparableConv (None, 9, 9, 728)    536536      block11_sepconv1_act[0][0]       \n",
            "__________________________________________________________________________________________________\n",
            "block11_sepconv1_bn (BatchNorma (None, 9, 9, 728)    2912        block11_sepconv1[0][0]           \n",
            "__________________________________________________________________________________________________\n",
            "block11_sepconv2_act (Activatio (None, 9, 9, 728)    0           block11_sepconv1_bn[0][0]        \n",
            "__________________________________________________________________________________________________\n",
            "block11_sepconv2 (SeparableConv (None, 9, 9, 728)    536536      block11_sepconv2_act[0][0]       \n",
            "__________________________________________________________________________________________________\n",
            "block11_sepconv2_bn (BatchNorma (None, 9, 9, 728)    2912        block11_sepconv2[0][0]           \n",
            "__________________________________________________________________________________________________\n",
            "block11_sepconv3_act (Activatio (None, 9, 9, 728)    0           block11_sepconv2_bn[0][0]        \n",
            "__________________________________________________________________________________________________\n",
            "block11_sepconv3 (SeparableConv (None, 9, 9, 728)    536536      block11_sepconv3_act[0][0]       \n",
            "__________________________________________________________________________________________________\n",
            "block11_sepconv3_bn (BatchNorma (None, 9, 9, 728)    2912        block11_sepconv3[0][0]           \n",
            "__________________________________________________________________________________________________\n",
            "add_10 (Add)                    (None, 9, 9, 728)    0           block11_sepconv3_bn[0][0]        \n",
            "                                                                 add_9[0][0]                      \n",
            "__________________________________________________________________________________________________\n",
            "block12_sepconv1_act (Activatio (None, 9, 9, 728)    0           add_10[0][0]                     \n",
            "__________________________________________________________________________________________________\n",
            "block12_sepconv1 (SeparableConv (None, 9, 9, 728)    536536      block12_sepconv1_act[0][0]       \n",
            "__________________________________________________________________________________________________\n",
            "block12_sepconv1_bn (BatchNorma (None, 9, 9, 728)    2912        block12_sepconv1[0][0]           \n",
            "__________________________________________________________________________________________________\n",
            "block12_sepconv2_act (Activatio (None, 9, 9, 728)    0           block12_sepconv1_bn[0][0]        \n",
            "__________________________________________________________________________________________________\n",
            "block12_sepconv2 (SeparableConv (None, 9, 9, 728)    536536      block12_sepconv2_act[0][0]       \n",
            "__________________________________________________________________________________________________\n",
            "block12_sepconv2_bn (BatchNorma (None, 9, 9, 728)    2912        block12_sepconv2[0][0]           \n",
            "__________________________________________________________________________________________________\n",
            "block12_sepconv3_act (Activatio (None, 9, 9, 728)    0           block12_sepconv2_bn[0][0]        \n",
            "__________________________________________________________________________________________________\n",
            "block12_sepconv3 (SeparableConv (None, 9, 9, 728)    536536      block12_sepconv3_act[0][0]       \n",
            "__________________________________________________________________________________________________\n",
            "block12_sepconv3_bn (BatchNorma (None, 9, 9, 728)    2912        block12_sepconv3[0][0]           \n",
            "__________________________________________________________________________________________________\n",
            "add_11 (Add)                    (None, 9, 9, 728)    0           block12_sepconv3_bn[0][0]        \n",
            "                                                                 add_10[0][0]                     \n",
            "__________________________________________________________________________________________________\n",
            "block13_sepconv1_act (Activatio (None, 9, 9, 728)    0           add_11[0][0]                     \n",
            "__________________________________________________________________________________________________\n",
            "block13_sepconv1 (SeparableConv (None, 9, 9, 728)    536536      block13_sepconv1_act[0][0]       \n",
            "__________________________________________________________________________________________________\n",
            "block13_sepconv1_bn (BatchNorma (None, 9, 9, 728)    2912        block13_sepconv1[0][0]           \n",
            "__________________________________________________________________________________________________\n",
            "block13_sepconv2_act (Activatio (None, 9, 9, 728)    0           block13_sepconv1_bn[0][0]        \n",
            "__________________________________________________________________________________________________\n",
            "block13_sepconv2 (SeparableConv (None, 9, 9, 1024)   752024      block13_sepconv2_act[0][0]       \n",
            "__________________________________________________________________________________________________\n",
            "block13_sepconv2_bn (BatchNorma (None, 9, 9, 1024)   4096        block13_sepconv2[0][0]           \n",
            "__________________________________________________________________________________________________\n",
            "conv2d_4 (Conv2D)               (None, 5, 5, 1024)   745472      add_11[0][0]                     \n",
            "__________________________________________________________________________________________________\n",
            "block13_pool (MaxPooling2D)     (None, 5, 5, 1024)   0           block13_sepconv2_bn[0][0]        \n",
            "__________________________________________________________________________________________________\n",
            "batch_normalization_4 (BatchNor (None, 5, 5, 1024)   4096        conv2d_4[0][0]                   \n",
            "__________________________________________________________________________________________________\n",
            "add_12 (Add)                    (None, 5, 5, 1024)   0           block13_pool[0][0]               \n",
            "                                                                 batch_normalization_4[0][0]      \n",
            "__________________________________________________________________________________________________\n",
            "block14_sepconv1 (SeparableConv (None, 5, 5, 1536)   1582080     add_12[0][0]                     \n",
            "__________________________________________________________________________________________________\n",
            "block14_sepconv1_bn (BatchNorma (None, 5, 5, 1536)   6144        block14_sepconv1[0][0]           \n",
            "__________________________________________________________________________________________________\n",
            "block14_sepconv1_act (Activatio (None, 5, 5, 1536)   0           block14_sepconv1_bn[0][0]        \n",
            "__________________________________________________________________________________________________\n",
            "block14_sepconv2 (SeparableConv (None, 5, 5, 2048)   3159552     block14_sepconv1_act[0][0]       \n",
            "__________________________________________________________________________________________________\n",
            "block14_sepconv2_bn (BatchNorma (None, 5, 5, 2048)   8192        block14_sepconv2[0][0]           \n",
            "__________________________________________________________________________________________________\n",
            "block14_sepconv2_act (Activatio (None, 5, 5, 2048)   0           block14_sepconv2_bn[0][0]        \n",
            "==================================================================================================\n",
            "Total params: 20,861,480\n",
            "Trainable params: 20,806,952\n",
            "Non-trainable params: 54,528\n",
            "__________________________________________________________________________________________________\n"
          ],
          "name": "stdout"
        }
      ]
    },
    {
      "cell_type": "markdown",
      "metadata": {
        "id": "D6OBHOO9q1ou",
        "colab_type": "text"
      },
      "source": [
        "### Freeze the convolutional base"
      ]
    },
    {
      "cell_type": "code",
      "metadata": {
        "id": "UleRo4Dpq6Ld",
        "colab_type": "code",
        "colab": {}
      },
      "source": [
        "conv_base.trainable = False"
      ],
      "execution_count": 0,
      "outputs": []
    },
    {
      "cell_type": "markdown",
      "metadata": {
        "id": "Qfx6PqhPrb7Q",
        "colab_type": "text"
      },
      "source": [
        "### Concatenate the convolutional base and densely connected layers"
      ]
    },
    {
      "cell_type": "code",
      "metadata": {
        "id": "qUpmocDAO3xm",
        "colab_type": "code",
        "colab": {}
      },
      "source": [
        "from keras import layers\n",
        "from keras import models\n",
        "from keras import optimizers\n",
        "\n",
        "model = models.Sequential()\n",
        "model.add(conv_base)\n",
        "model.add(layers.Flatten())\n",
        "model.add(layers.Dense(256, activation='relu'))\n",
        "#model.add(layers.Dropout(0.1))\n",
        "model.add(layers.Dense(1, activation='sigmoid'))"
      ],
      "execution_count": 0,
      "outputs": []
    },
    {
      "cell_type": "code",
      "metadata": {
        "id": "Fh6gZSeAjF7c",
        "colab_type": "code",
        "outputId": "bc0420d1-b0cc-423a-9af1-43b1d7fe88a8",
        "colab": {
          "base_uri": "https://localhost:8080/",
          "height": 289
        }
      },
      "source": [
        "model.summary()"
      ],
      "execution_count": 7,
      "outputs": [
        {
          "output_type": "stream",
          "text": [
            "Model: \"sequential_1\"\n",
            "_________________________________________________________________\n",
            "Layer (type)                 Output Shape              Param #   \n",
            "=================================================================\n",
            "xception (Model)             (None, 5, 5, 2048)        20861480  \n",
            "_________________________________________________________________\n",
            "flatten_1 (Flatten)          (None, 51200)             0         \n",
            "_________________________________________________________________\n",
            "dense_1 (Dense)              (None, 256)               13107456  \n",
            "_________________________________________________________________\n",
            "dense_2 (Dense)              (None, 1)                 257       \n",
            "=================================================================\n",
            "Total params: 33,969,193\n",
            "Trainable params: 13,107,713\n",
            "Non-trainable params: 20,861,480\n",
            "_________________________________________________________________\n"
          ],
          "name": "stdout"
        }
      ]
    },
    {
      "cell_type": "markdown",
      "metadata": {
        "id": "eZjBiddhi5Qj",
        "colab_type": "text"
      },
      "source": [
        "## Train the model end to end with frozen convolutional base"
      ]
    },
    {
      "cell_type": "code",
      "metadata": {
        "id": "tfAQlC2Oi41L",
        "colab_type": "code",
        "outputId": "838fb80b-b2a0-4937-ee07-5004be0c013f",
        "colab": {
          "base_uri": "https://localhost:8080/",
          "height": 1000
        }
      },
      "source": [
        "from keras.preprocessing.image import ImageDataGenerator\n",
        "from keras import optimizers\n",
        "\n",
        "# data augmentation\n",
        "\n",
        "train_datagen = ImageDataGenerator(\n",
        "    rescale=1./255, \n",
        "    rotation_range=40,\n",
        "    width_shift_range=0.2,\n",
        "    height_shift_range=0.2,\n",
        "    shear_range=0.2,\n",
        "    zoom_range=0.2,\n",
        "    horizontal_flip=True,\n",
        "    fill_mode='nearest'\n",
        ")\n",
        "\n",
        "train_generator = train_datagen.flow_from_directory(\n",
        "    train_dir,\n",
        "    target_size=(150, 150),\n",
        "    batch_size=20,\n",
        "    class_mode='binary')\n",
        "\n",
        "validation_datagen = ImageDataGenerator(rescale=1./255)\n",
        "\n",
        "validation_generator = validation_datagen.flow_from_directory(\n",
        "    validation_dir,\n",
        "    target_size=(150, 150),\n",
        "    batch_size=20,\n",
        "    class_mode='binary')\n",
        "\n",
        "# compile model\n",
        "\n",
        "model.compile(\n",
        "    loss='binary_crossentropy', \n",
        "    optimizer=optimizers.RMSprop(lr=2e-5), \n",
        "    metrics=['acc'])\n",
        "\n",
        "# train\n",
        "\n",
        "history = model.fit_generator(\n",
        "    train_generator,\n",
        "    steps_per_epoch=100,\n",
        "    epochs=30,\n",
        "    validation_data=validation_generator,\n",
        "    validation_steps=50\n",
        ")"
      ],
      "execution_count": 8,
      "outputs": [
        {
          "output_type": "stream",
          "text": [
            "Found 2000 images belonging to 2 classes.\n",
            "Found 1000 images belonging to 2 classes.\n",
            "Epoch 1/30\n",
            "100/100 [==============================] - 31s 314ms/step - loss: 0.4720 - acc: 0.7775 - val_loss: 0.0134 - val_acc: 0.9530\n",
            "Epoch 2/30\n",
            "100/100 [==============================] - 21s 211ms/step - loss: 0.3814 - acc: 0.8305 - val_loss: 0.3123 - val_acc: 0.9650\n",
            "Epoch 3/30\n",
            "100/100 [==============================] - 21s 209ms/step - loss: 0.3439 - acc: 0.8360 - val_loss: 0.0675 - val_acc: 0.9630\n",
            "Epoch 4/30\n",
            "100/100 [==============================] - 21s 208ms/step - loss: 0.3328 - acc: 0.8475 - val_loss: 5.6034e-04 - val_acc: 0.9710\n",
            "Epoch 5/30\n",
            "100/100 [==============================] - 21s 206ms/step - loss: 0.3168 - acc: 0.8645 - val_loss: 4.0206e-05 - val_acc: 0.9650\n",
            "Epoch 6/30\n",
            "100/100 [==============================] - 21s 208ms/step - loss: 0.3176 - acc: 0.8540 - val_loss: 0.0447 - val_acc: 0.9600\n",
            "Epoch 7/30\n",
            "100/100 [==============================] - 21s 208ms/step - loss: 0.3219 - acc: 0.8535 - val_loss: 0.2513 - val_acc: 0.9690\n",
            "Epoch 8/30\n",
            "100/100 [==============================] - 20s 205ms/step - loss: 0.3063 - acc: 0.8790 - val_loss: 2.5440e-04 - val_acc: 0.9660\n",
            "Epoch 9/30\n",
            "100/100 [==============================] - 21s 206ms/step - loss: 0.3100 - acc: 0.8610 - val_loss: 0.1481 - val_acc: 0.9680\n",
            "Epoch 10/30\n",
            "100/100 [==============================] - 21s 208ms/step - loss: 0.3138 - acc: 0.8615 - val_loss: 0.0054 - val_acc: 0.9670\n",
            "Epoch 11/30\n",
            "100/100 [==============================] - 20s 205ms/step - loss: 0.2967 - acc: 0.8630 - val_loss: 0.3751 - val_acc: 0.9690\n",
            "Epoch 12/30\n",
            "100/100 [==============================] - 21s 206ms/step - loss: 0.2833 - acc: 0.8785 - val_loss: 0.0016 - val_acc: 0.9660\n",
            "Epoch 13/30\n",
            "100/100 [==============================] - 21s 205ms/step - loss: 0.2856 - acc: 0.8760 - val_loss: 0.0021 - val_acc: 0.9520\n",
            "Epoch 14/30\n",
            "100/100 [==============================] - 21s 205ms/step - loss: 0.3084 - acc: 0.8700 - val_loss: 0.0097 - val_acc: 0.9690\n",
            "Epoch 15/30\n",
            "100/100 [==============================] - 21s 205ms/step - loss: 0.2923 - acc: 0.8770 - val_loss: 0.0884 - val_acc: 0.9710\n",
            "Epoch 16/30\n",
            "100/100 [==============================] - 20s 205ms/step - loss: 0.2840 - acc: 0.8730 - val_loss: 1.9405e-05 - val_acc: 0.9690\n",
            "Epoch 17/30\n",
            "100/100 [==============================] - 20s 204ms/step - loss: 0.2611 - acc: 0.8925 - val_loss: 0.0331 - val_acc: 0.9690\n",
            "Epoch 18/30\n",
            "100/100 [==============================] - 20s 202ms/step - loss: 0.2954 - acc: 0.8660 - val_loss: 0.2282 - val_acc: 0.9650\n",
            "Epoch 19/30\n",
            "100/100 [==============================] - 20s 201ms/step - loss: 0.2747 - acc: 0.8850 - val_loss: 0.9133 - val_acc: 0.9620\n",
            "Epoch 20/30\n",
            "100/100 [==============================] - 20s 199ms/step - loss: 0.2717 - acc: 0.8845 - val_loss: 0.0053 - val_acc: 0.9700\n",
            "Epoch 21/30\n",
            "100/100 [==============================] - 20s 200ms/step - loss: 0.2580 - acc: 0.8860 - val_loss: 0.2665 - val_acc: 0.9660\n",
            "Epoch 22/30\n",
            "100/100 [==============================] - 20s 200ms/step - loss: 0.2945 - acc: 0.8745 - val_loss: 0.2458 - val_acc: 0.9710\n",
            "Epoch 23/30\n",
            "100/100 [==============================] - 20s 199ms/step - loss: 0.2560 - acc: 0.8880 - val_loss: 5.4884e-04 - val_acc: 0.9570\n",
            "Epoch 24/30\n",
            "100/100 [==============================] - 20s 198ms/step - loss: 0.2750 - acc: 0.8775 - val_loss: 0.5789 - val_acc: 0.9720\n",
            "Epoch 25/30\n",
            "100/100 [==============================] - 20s 200ms/step - loss: 0.2778 - acc: 0.8780 - val_loss: 0.0040 - val_acc: 0.9710\n",
            "Epoch 26/30\n",
            "100/100 [==============================] - 20s 198ms/step - loss: 0.2667 - acc: 0.8865 - val_loss: 1.0671 - val_acc: 0.9740\n",
            "Epoch 27/30\n",
            "100/100 [==============================] - 20s 197ms/step - loss: 0.2519 - acc: 0.8970 - val_loss: 0.4481 - val_acc: 0.9730\n",
            "Epoch 28/30\n",
            "100/100 [==============================] - 20s 197ms/step - loss: 0.2707 - acc: 0.8825 - val_loss: 0.7338 - val_acc: 0.9700\n",
            "Epoch 29/30\n",
            "100/100 [==============================] - 20s 197ms/step - loss: 0.2753 - acc: 0.8855 - val_loss: 1.3781e-06 - val_acc: 0.9610\n",
            "Epoch 30/30\n",
            "100/100 [==============================] - 20s 198ms/step - loss: 0.2662 - acc: 0.8870 - val_loss: 3.1486e-04 - val_acc: 0.9710\n"
          ],
          "name": "stdout"
        }
      ]
    },
    {
      "cell_type": "markdown",
      "metadata": {
        "id": "xqRc_vHKc92U",
        "colab_type": "text"
      },
      "source": [
        "## Display curves of loss and accuracy during training"
      ]
    },
    {
      "cell_type": "code",
      "metadata": {
        "id": "ybWwdzz9bwuQ",
        "colab_type": "code",
        "outputId": "e03e37a7-08f7-454c-9668-70ad16a58e95",
        "colab": {
          "base_uri": "https://localhost:8080/",
          "height": 545
        }
      },
      "source": [
        "%matplotlib inline\n",
        "\n",
        "import matplotlib.pyplot as plt\n",
        "\n",
        "acc = history.history['acc']\n",
        "val_acc = history.history['val_acc']\n",
        "\n",
        "loss = history.history['loss']\n",
        "val_loss = history.history['val_loss']\n",
        "\n",
        "epochs = range(1, len(acc) + 1)\n",
        "\n",
        "# training and validation accuracy\n",
        "\n",
        "plt.plot(epochs, acc, 'bo', label='training acc')\n",
        "plt.plot(epochs, val_acc, 'b', label='validation acc')\n",
        "plt.title('training and validation accuracy')\n",
        "plt.legend()\n",
        "\n",
        "plt.figure()\n",
        "\n",
        "# training and validation loss\n",
        "\n",
        "plt.plot(epochs, loss, 'bo', label='training loss')\n",
        "plt.plot(epochs, val_loss, 'b', label='validation loss')\n",
        "plt.title('training and validation loss')\n",
        "plt.legend()\n",
        "\n",
        "plt.show()"
      ],
      "execution_count": 9,
      "outputs": [
        {
          "output_type": "display_data",
          "data": {
            "image/png": "[encoded data removed]",
            "text/plain": [
              "<Figure size 432x288 with 1 Axes>"
            ]
          },
          "metadata": {
            "tags": [],
            "needs_background": "light"
          }
        },
        {
          "output_type": "display_data",
          "data": {
            "image/png": "[encoded data removed]",
            "text/plain": [
              "<Figure size 432x288 with 1 Axes>"
            ]
          },
          "metadata": {
            "tags": [],
            "needs_background": "light"
          }
        }
      ]
    },
    {
      "cell_type": "markdown",
      "metadata": {
        "id": "lOWsxpey8lN0",
        "colab_type": "text"
      },
      "source": [
        "## Fine-tuning"
      ]
    },
    {
      "cell_type": "code",
      "metadata": {
        "id": "PwkVMx8N8qMw",
        "colab_type": "code",
        "colab": {}
      },
      "source": [
        "# Set it to trainable so that its \"unfrozen\"\n",
        "\n",
        "conv_base.trainable = True\n",
        "\n",
        "set_trainable = False\n",
        "for layer in conv_base.layers:\n",
        "  if layer.name == 'conv2d_3':\n",
        "    set_trainable = True\n",
        "  if set_trainable:\n",
        "    layer.trainable = True\n",
        "  else:\n",
        "    layer.trainable = False"
      ],
      "execution_count": 0,
      "outputs": []
    },
    {
      "cell_type": "code",
      "metadata": {
        "id": "DyN-J7rs9cvo",
        "colab_type": "code",
        "outputId": "1d7a7e1e-91a1-4888-cb93-1d378fb4b400",
        "colab": {
          "base_uri": "https://localhost:8080/",
          "height": 1000
        }
      },
      "source": [
        "# compile model\n",
        "\n",
        "model.compile(\n",
        "    loss='binary_crossentropy',\n",
        "    #\n",
        "    # choose a smaller learning rate\n",
        "    #\n",
        "    optimizer=optimizers.RMSprop(lr=1e-5), \n",
        "    metrics=['acc'])\n",
        "\n",
        "# train\n",
        "\n",
        "history = model.fit_generator(\n",
        "    train_generator,\n",
        "    steps_per_epoch=100,\n",
        "    epochs=100,\n",
        "    validation_data=validation_generator,\n",
        "    validation_steps=50)"
      ],
      "execution_count": 11,
      "outputs": [
        {
          "output_type": "stream",
          "text": [
            "Epoch 1/100\n",
            "100/100 [==============================] - 34s 338ms/step - loss: 0.2274 - acc: 0.9015 - val_loss: 0.0425 - val_acc: 0.9580\n",
            "Epoch 2/100\n",
            "100/100 [==============================] - 26s 257ms/step - loss: 0.2008 - acc: 0.9125 - val_loss: 0.0676 - val_acc: 0.9430\n",
            "Epoch 3/100\n",
            "100/100 [==============================] - 26s 256ms/step - loss: 0.2181 - acc: 0.9150 - val_loss: 0.0502 - val_acc: 0.9400\n",
            "Epoch 4/100\n",
            "100/100 [==============================] - 26s 256ms/step - loss: 0.1947 - acc: 0.9225 - val_loss: 0.5252 - val_acc: 0.9190\n",
            "Epoch 5/100\n",
            "100/100 [==============================] - 26s 256ms/step - loss: 0.1878 - acc: 0.9220 - val_loss: 0.2201 - val_acc: 0.9430\n",
            "Epoch 6/100\n",
            "100/100 [==============================] - 26s 256ms/step - loss: 0.1638 - acc: 0.9310 - val_loss: 0.0291 - val_acc: 0.9430\n",
            "Epoch 7/100\n",
            "100/100 [==============================] - 26s 256ms/step - loss: 0.1539 - acc: 0.9345 - val_loss: 0.1165 - val_acc: 0.9430\n",
            "Epoch 8/100\n",
            "100/100 [==============================] - 26s 255ms/step - loss: 0.1582 - acc: 0.9405 - val_loss: 0.1850 - val_acc: 0.9450\n",
            "Epoch 9/100\n",
            "100/100 [==============================] - 26s 255ms/step - loss: 0.1306 - acc: 0.9555 - val_loss: 0.1760 - val_acc: 0.9570\n",
            "Epoch 10/100\n",
            "100/100 [==============================] - 25s 254ms/step - loss: 0.1502 - acc: 0.9415 - val_loss: 0.1518 - val_acc: 0.9550\n",
            "Epoch 11/100\n",
            "100/100 [==============================] - 26s 255ms/step - loss: 0.1639 - acc: 0.9400 - val_loss: 0.0243 - val_acc: 0.9580\n",
            "Epoch 12/100\n",
            "100/100 [==============================] - 25s 255ms/step - loss: 0.1332 - acc: 0.9440 - val_loss: 0.0596 - val_acc: 0.9580\n",
            "Epoch 13/100\n",
            "100/100 [==============================] - 25s 254ms/step - loss: 0.1219 - acc: 0.9535 - val_loss: 0.0922 - val_acc: 0.9600\n",
            "Epoch 14/100\n",
            "100/100 [==============================] - 26s 255ms/step - loss: 0.1210 - acc: 0.9570 - val_loss: 0.1226 - val_acc: 0.9540\n",
            "Epoch 15/100\n",
            "100/100 [==============================] - 25s 254ms/step - loss: 0.1115 - acc: 0.9610 - val_loss: 0.0014 - val_acc: 0.9480\n",
            "Epoch 16/100\n",
            "100/100 [==============================] - 25s 255ms/step - loss: 0.0946 - acc: 0.9645 - val_loss: 0.1082 - val_acc: 0.9500\n",
            "Epoch 17/100\n",
            "100/100 [==============================] - 25s 255ms/step - loss: 0.0971 - acc: 0.9655 - val_loss: 0.0091 - val_acc: 0.9590\n",
            "Epoch 18/100\n",
            "100/100 [==============================] - 25s 255ms/step - loss: 0.0919 - acc: 0.9635 - val_loss: 0.0264 - val_acc: 0.9590\n",
            "Epoch 19/100\n",
            "100/100 [==============================] - 26s 259ms/step - loss: 0.0943 - acc: 0.9630 - val_loss: 0.2208 - val_acc: 0.9570\n",
            "Epoch 20/100\n",
            "100/100 [==============================] - 26s 260ms/step - loss: 0.0850 - acc: 0.9695 - val_loss: 0.2396 - val_acc: 0.9590\n",
            "Epoch 21/100\n",
            "100/100 [==============================] - 26s 258ms/step - loss: 0.0939 - acc: 0.9645 - val_loss: 0.0048 - val_acc: 0.9600\n",
            "Epoch 22/100\n",
            "100/100 [==============================] - 26s 256ms/step - loss: 0.0750 - acc: 0.9735 - val_loss: 0.0402 - val_acc: 0.9570\n",
            "Epoch 23/100\n",
            "100/100 [==============================] - 26s 257ms/step - loss: 0.0814 - acc: 0.9715 - val_loss: 0.0040 - val_acc: 0.9560\n",
            "Epoch 24/100\n",
            "100/100 [==============================] - 26s 258ms/step - loss: 0.0854 - acc: 0.9665 - val_loss: 0.1303 - val_acc: 0.9670\n",
            "Epoch 25/100\n",
            "100/100 [==============================] - 26s 257ms/step - loss: 0.0862 - acc: 0.9665 - val_loss: 0.0951 - val_acc: 0.9670\n",
            "Epoch 26/100\n",
            "100/100 [==============================] - 26s 256ms/step - loss: 0.0821 - acc: 0.9725 - val_loss: 0.0124 - val_acc: 0.9560\n",
            "Epoch 27/100\n",
            "100/100 [==============================] - 26s 256ms/step - loss: 0.0709 - acc: 0.9730 - val_loss: 0.0193 - val_acc: 0.9620\n",
            "Epoch 28/100\n",
            "100/100 [==============================] - 26s 257ms/step - loss: 0.1077 - acc: 0.9620 - val_loss: 0.1117 - val_acc: 0.9660\n",
            "Epoch 29/100\n",
            "100/100 [==============================] - 26s 255ms/step - loss: 0.0825 - acc: 0.9745 - val_loss: 0.2215 - val_acc: 0.9680\n",
            "Epoch 30/100\n",
            "100/100 [==============================] - 26s 256ms/step - loss: 0.0667 - acc: 0.9780 - val_loss: 0.0015 - val_acc: 0.9630\n",
            "Epoch 31/100\n",
            "100/100 [==============================] - 26s 256ms/step - loss: 0.0672 - acc: 0.9760 - val_loss: 0.2866 - val_acc: 0.9700\n",
            "Epoch 32/100\n",
            "100/100 [==============================] - 26s 255ms/step - loss: 0.0574 - acc: 0.9795 - val_loss: 0.2199 - val_acc: 0.9630\n",
            "Epoch 33/100\n",
            "100/100 [==============================] - 26s 255ms/step - loss: 0.0733 - acc: 0.9730 - val_loss: 7.6711e-04 - val_acc: 0.9670\n",
            "Epoch 34/100\n",
            "100/100 [==============================] - 26s 256ms/step - loss: 0.0632 - acc: 0.9785 - val_loss: 0.0122 - val_acc: 0.9560\n",
            "Epoch 35/100\n",
            "100/100 [==============================] - 25s 255ms/step - loss: 0.0632 - acc: 0.9745 - val_loss: 0.0012 - val_acc: 0.9660\n",
            "Epoch 36/100\n",
            "100/100 [==============================] - 26s 255ms/step - loss: 0.0706 - acc: 0.9765 - val_loss: 0.2088 - val_acc: 0.9650\n",
            "Epoch 37/100\n",
            "100/100 [==============================] - 26s 256ms/step - loss: 0.0546 - acc: 0.9795 - val_loss: 0.0805 - val_acc: 0.9710\n",
            "Epoch 38/100\n",
            "100/100 [==============================] - 26s 256ms/step - loss: 0.0573 - acc: 0.9805 - val_loss: 0.3763 - val_acc: 0.9720\n",
            "Epoch 39/100\n",
            "100/100 [==============================] - 26s 256ms/step - loss: 0.0370 - acc: 0.9850 - val_loss: 0.0345 - val_acc: 0.9650\n",
            "Epoch 40/100\n",
            "100/100 [==============================] - 26s 255ms/step - loss: 0.0440 - acc: 0.9815 - val_loss: 0.5987 - val_acc: 0.9680\n",
            "Epoch 41/100\n",
            "100/100 [==============================] - 25s 255ms/step - loss: 0.0615 - acc: 0.9790 - val_loss: 0.1511 - val_acc: 0.9570\n",
            "Epoch 42/100\n",
            "100/100 [==============================] - 26s 256ms/step - loss: 0.0644 - acc: 0.9820 - val_loss: 0.0014 - val_acc: 0.9640\n",
            "Epoch 43/100\n",
            "100/100 [==============================] - 26s 256ms/step - loss: 0.0297 - acc: 0.9895 - val_loss: 0.1646 - val_acc: 0.9680\n",
            "Epoch 44/100\n",
            "100/100 [==============================] - 25s 255ms/step - loss: 0.0363 - acc: 0.9860 - val_loss: 0.0160 - val_acc: 0.9720\n",
            "Epoch 45/100\n",
            "100/100 [==============================] - 26s 255ms/step - loss: 0.0407 - acc: 0.9855 - val_loss: 0.3031 - val_acc: 0.9730\n",
            "Epoch 46/100\n",
            "100/100 [==============================] - 26s 256ms/step - loss: 0.0564 - acc: 0.9790 - val_loss: 0.0012 - val_acc: 0.9700\n",
            "Epoch 47/100\n",
            "100/100 [==============================] - 26s 255ms/step - loss: 0.0396 - acc: 0.9845 - val_loss: 5.7810e-05 - val_acc: 0.9690\n",
            "Epoch 48/100\n",
            "100/100 [==============================] - 26s 255ms/step - loss: 0.0344 - acc: 0.9900 - val_loss: 2.0203e-04 - val_acc: 0.9650\n",
            "Epoch 49/100\n",
            "100/100 [==============================] - 25s 255ms/step - loss: 0.0379 - acc: 0.9875 - val_loss: 3.7669e-04 - val_acc: 0.9660\n",
            "Epoch 50/100\n",
            "100/100 [==============================] - 25s 255ms/step - loss: 0.0295 - acc: 0.9880 - val_loss: 5.7140e-05 - val_acc: 0.9640\n",
            "Epoch 51/100\n",
            "100/100 [==============================] - 25s 254ms/step - loss: 0.0430 - acc: 0.9825 - val_loss: 0.1908 - val_acc: 0.9610\n",
            "Epoch 52/100\n",
            "100/100 [==============================] - 25s 254ms/step - loss: 0.0527 - acc: 0.9870 - val_loss: 0.0691 - val_acc: 0.9650\n",
            "Epoch 53/100\n",
            "100/100 [==============================] - 26s 255ms/step - loss: 0.0389 - acc: 0.9880 - val_loss: 0.1558 - val_acc: 0.9700\n",
            "Epoch 54/100\n",
            "100/100 [==============================] - 26s 255ms/step - loss: 0.0382 - acc: 0.9895 - val_loss: 0.0949 - val_acc: 0.9640\n",
            "Epoch 55/100\n",
            "100/100 [==============================] - 26s 255ms/step - loss: 0.0467 - acc: 0.9855 - val_loss: 0.3108 - val_acc: 0.9630\n",
            "Epoch 56/100\n",
            "100/100 [==============================] - 26s 255ms/step - loss: 0.0358 - acc: 0.9885 - val_loss: 0.0079 - val_acc: 0.9610\n",
            "Epoch 57/100\n",
            "100/100 [==============================] - 26s 255ms/step - loss: 0.0379 - acc: 0.9870 - val_loss: 0.0208 - val_acc: 0.9640\n",
            "Epoch 58/100\n",
            "100/100 [==============================] - 26s 255ms/step - loss: 0.0369 - acc: 0.9875 - val_loss: 0.5652 - val_acc: 0.9710\n",
            "Epoch 59/100\n",
            "100/100 [==============================] - 26s 255ms/step - loss: 0.0189 - acc: 0.9940 - val_loss: 0.0010 - val_acc: 0.9700\n",
            "Epoch 60/100\n",
            "100/100 [==============================] - 25s 255ms/step - loss: 0.0430 - acc: 0.9845 - val_loss: 0.0074 - val_acc: 0.9670\n",
            "Epoch 61/100\n",
            "100/100 [==============================] - 25s 255ms/step - loss: 0.0398 - acc: 0.9860 - val_loss: 0.5561 - val_acc: 0.9670\n",
            "Epoch 62/100\n",
            "100/100 [==============================] - 26s 255ms/step - loss: 0.0341 - acc: 0.9910 - val_loss: 0.0024 - val_acc: 0.9730\n",
            "Epoch 63/100\n",
            "100/100 [==============================] - 26s 255ms/step - loss: 0.0297 - acc: 0.9910 - val_loss: 0.0067 - val_acc: 0.9650\n",
            "Epoch 64/100\n",
            "100/100 [==============================] - 26s 255ms/step - loss: 0.0229 - acc: 0.9930 - val_loss: 0.0792 - val_acc: 0.9730\n",
            "Epoch 65/100\n",
            "100/100 [==============================] - 26s 255ms/step - loss: 0.0389 - acc: 0.9900 - val_loss: 3.3121e-04 - val_acc: 0.9710\n",
            "Epoch 66/100\n",
            "100/100 [==============================] - 25s 255ms/step - loss: 0.0289 - acc: 0.9925 - val_loss: 0.0649 - val_acc: 0.9710\n",
            "Epoch 67/100\n",
            "100/100 [==============================] - 26s 255ms/step - loss: 0.0405 - acc: 0.9890 - val_loss: 0.0152 - val_acc: 0.9690\n",
            "Epoch 68/100\n",
            "100/100 [==============================] - 25s 255ms/step - loss: 0.0285 - acc: 0.9895 - val_loss: 0.3463 - val_acc: 0.9710\n",
            "Epoch 69/100\n",
            "100/100 [==============================] - 26s 255ms/step - loss: 0.0211 - acc: 0.9910 - val_loss: 0.6315 - val_acc: 0.9750\n",
            "Epoch 70/100\n",
            "100/100 [==============================] - 26s 255ms/step - loss: 0.0258 - acc: 0.9935 - val_loss: 5.1249e-05 - val_acc: 0.9730\n",
            "Epoch 71/100\n",
            "100/100 [==============================] - 25s 254ms/step - loss: 0.0334 - acc: 0.9885 - val_loss: 0.0230 - val_acc: 0.9710\n",
            "Epoch 72/100\n",
            "100/100 [==============================] - 25s 254ms/step - loss: 0.0376 - acc: 0.9915 - val_loss: 0.0450 - val_acc: 0.9700\n",
            "Epoch 73/100\n",
            "100/100 [==============================] - 25s 254ms/step - loss: 0.0322 - acc: 0.9895 - val_loss: 0.2510 - val_acc: 0.9720\n",
            "Epoch 74/100\n",
            "100/100 [==============================] - 26s 260ms/step - loss: 0.0215 - acc: 0.9915 - val_loss: 0.0605 - val_acc: 0.9690\n",
            "Epoch 75/100\n",
            "100/100 [==============================] - 26s 256ms/step - loss: 0.0233 - acc: 0.9930 - val_loss: 0.0844 - val_acc: 0.9700\n",
            "Epoch 76/100\n",
            "100/100 [==============================] - 26s 256ms/step - loss: 0.0298 - acc: 0.9900 - val_loss: 0.2940 - val_acc: 0.9680\n",
            "Epoch 77/100\n",
            "100/100 [==============================] - 26s 256ms/step - loss: 0.0229 - acc: 0.9910 - val_loss: 2.8803e-05 - val_acc: 0.9720\n",
            "Epoch 78/100\n",
            "100/100 [==============================] - 26s 257ms/step - loss: 0.0240 - acc: 0.9940 - val_loss: 0.0424 - val_acc: 0.9710\n",
            "Epoch 79/100\n",
            "100/100 [==============================] - 26s 256ms/step - loss: 0.0317 - acc: 0.9890 - val_loss: 3.2585e-04 - val_acc: 0.9750\n",
            "Epoch 80/100\n",
            "100/100 [==============================] - 26s 256ms/step - loss: 0.0385 - acc: 0.9870 - val_loss: 0.0022 - val_acc: 0.9730\n",
            "Epoch 81/100\n",
            "100/100 [==============================] - 26s 257ms/step - loss: 0.0263 - acc: 0.9915 - val_loss: 1.0611 - val_acc: 0.9730\n",
            "Epoch 82/100\n",
            "100/100 [==============================] - 26s 257ms/step - loss: 0.0342 - acc: 0.9935 - val_loss: 0.2418 - val_acc: 0.9720\n",
            "Epoch 83/100\n",
            "100/100 [==============================] - 26s 256ms/step - loss: 0.0203 - acc: 0.9940 - val_loss: 0.2871 - val_acc: 0.9720\n",
            "Epoch 84/100\n",
            "100/100 [==============================] - 26s 256ms/step - loss: 0.0246 - acc: 0.9920 - val_loss: 4.2798e-04 - val_acc: 0.9690\n",
            "Epoch 85/100\n",
            "100/100 [==============================] - 26s 256ms/step - loss: 0.0182 - acc: 0.9960 - val_loss: 1.6383e-04 - val_acc: 0.9710\n",
            "Epoch 86/100\n",
            "100/100 [==============================] - 26s 257ms/step - loss: 0.0214 - acc: 0.9905 - val_loss: 5.2073e-04 - val_acc: 0.9710\n",
            "Epoch 87/100\n",
            "100/100 [==============================] - 26s 256ms/step - loss: 0.0275 - acc: 0.9920 - val_loss: 1.0076 - val_acc: 0.9710\n",
            "Epoch 88/100\n",
            "100/100 [==============================] - 26s 256ms/step - loss: 0.0216 - acc: 0.9915 - val_loss: 0.9964 - val_acc: 0.9710\n",
            "Epoch 89/100\n",
            "100/100 [==============================] - 26s 256ms/step - loss: 0.0205 - acc: 0.9950 - val_loss: 0.0012 - val_acc: 0.9710\n",
            "Epoch 90/100\n",
            "100/100 [==============================] - 26s 257ms/step - loss: 0.0225 - acc: 0.9950 - val_loss: 0.1998 - val_acc: 0.9740\n",
            "Epoch 91/100\n",
            "100/100 [==============================] - 26s 256ms/step - loss: 0.0199 - acc: 0.9930 - val_loss: 0.0061 - val_acc: 0.9730\n",
            "Epoch 92/100\n",
            "100/100 [==============================] - 26s 256ms/step - loss: 0.0199 - acc: 0.9935 - val_loss: 0.0105 - val_acc: 0.9720\n",
            "Epoch 93/100\n",
            "100/100 [==============================] - 26s 256ms/step - loss: 0.0081 - acc: 0.9965 - val_loss: 0.0032 - val_acc: 0.9760\n",
            "Epoch 94/100\n",
            "100/100 [==============================] - 26s 257ms/step - loss: 0.0285 - acc: 0.9940 - val_loss: 0.0761 - val_acc: 0.9750\n",
            "Epoch 95/100\n",
            "100/100 [==============================] - 26s 257ms/step - loss: 0.0229 - acc: 0.9930 - val_loss: 0.0182 - val_acc: 0.9710\n",
            "Epoch 96/100\n",
            "100/100 [==============================] - 26s 257ms/step - loss: 0.0218 - acc: 0.9940 - val_loss: 1.7677e-04 - val_acc: 0.9740\n",
            "Epoch 97/100\n",
            "100/100 [==============================] - 26s 258ms/step - loss: 0.0223 - acc: 0.9930 - val_loss: 0.0366 - val_acc: 0.9730\n",
            "Epoch 98/100\n",
            "100/100 [==============================] - 26s 258ms/step - loss: 0.0241 - acc: 0.9935 - val_loss: 2.0141e-04 - val_acc: 0.9710\n",
            "Epoch 99/100\n",
            "100/100 [==============================] - 26s 257ms/step - loss: 0.0153 - acc: 0.9940 - val_loss: 0.1420 - val_acc: 0.9710\n",
            "Epoch 100/100\n",
            "100/100 [==============================] - 26s 258ms/step - loss: 0.0267 - acc: 0.9950 - val_loss: 5.6727e-06 - val_acc: 0.9750\n"
          ],
          "name": "stdout"
        }
      ]
    },
    {
      "cell_type": "markdown",
      "metadata": {
        "id": "eVBQgh5M-Rtz",
        "colab_type": "text"
      },
      "source": [
        "## Display learning curves during fine-tuning"
      ]
    },
    {
      "cell_type": "code",
      "metadata": {
        "id": "mbkIw7Ie-NP4",
        "colab_type": "code",
        "outputId": "8dfc5c87-6b26-4360-a24a-1769a65dfc61",
        "colab": {
          "base_uri": "https://localhost:8080/",
          "height": 545
        }
      },
      "source": [
        "%matplotlib inline\n",
        "\n",
        "import matplotlib.pyplot as plt\n",
        "\n",
        "acc = history.history['acc']\n",
        "val_acc = history.history['val_acc']\n",
        "\n",
        "loss = history.history['loss']\n",
        "val_loss = history.history['val_loss']\n",
        "\n",
        "epochs = range(1, len(acc) + 1)\n",
        "\n",
        "# training and validation accuracy\n",
        "\n",
        "plt.plot(epochs, acc, 'bo', label='training acc')\n",
        "plt.plot(epochs, val_acc, 'b', label='validation acc')\n",
        "plt.title('training and validation accuracy')\n",
        "plt.legend()\n",
        "\n",
        "plt.figure()\n",
        "\n",
        "# training and validation loss\n",
        "\n",
        "plt.plot(epochs, loss, 'bo', label='training loss')\n",
        "plt.plot(epochs, val_loss, 'b', label='validation loss')\n",
        "plt.title('training and validation loss')\n",
        "plt.legend()\n",
        "\n",
        "plt.show()"
      ],
      "execution_count": 12,
      "outputs": [
        {
          "output_type": "display_data",
          "data": {
            "image/png": "[encoded data removed]",
            "text/plain": [
              "<Figure size 432x288 with 1 Axes>"
            ]
          },
          "metadata": {
            "tags": [],
            "needs_background": "light"
          }
        },
        {
          "output_type": "display_data",
          "data": {
            "image/png": "[encoded data removed]",
            "text/plain": [
              "<Figure size 432x288 with 1 Axes>"
            ]
          },
          "metadata": {
            "tags": [],
            "needs_background": "light"
          }
        }
      ]
    },
    {
      "cell_type": "markdown",
      "metadata": {
        "id": "obQi6N4ZShdi",
        "colab_type": "text"
      },
      "source": [
        "This looks like overfitting. I should try  adding dropout for the densely connected layer."
      ]
    },
    {
      "cell_type": "markdown",
      "metadata": {
        "id": "he3Nw6TOJwjx",
        "colab_type": "text"
      },
      "source": [
        "## Print out validation loss and accuracy"
      ]
    },
    {
      "cell_type": "code",
      "metadata": {
        "id": "SVQtrk7uJdhl",
        "colab_type": "code",
        "colab": {}
      },
      "source": [
        "val_loss, val_acc = model.evaluate_generator(validation_generator, steps=50)"
      ],
      "execution_count": 0,
      "outputs": []
    },
    {
      "cell_type": "code",
      "metadata": {
        "id": "HpdddLi1SUMe",
        "colab_type": "code",
        "outputId": "389d67af-11db-481a-d415-9dd6b6885266",
        "colab": {
          "base_uri": "https://localhost:8080/",
          "height": 51
        }
      },
      "source": [
        "print(\"Validation loss:\", val_loss)\n",
        "print(\"Validation accuracy:\", val_acc)"
      ],
      "execution_count": 14,
      "outputs": [
        {
          "output_type": "stream",
          "text": [
            "Validation loss: 5.672712177329231e-06\n",
            "Validation accuracy: 0.9750000238418579\n"
          ],
          "name": "stdout"
        }
      ]
    },
    {
      "cell_type": "markdown",
      "metadata": {
        "id": "7Ww756WToby8",
        "colab_type": "text"
      },
      "source": [
        "## Save the model"
      ]
    },
    {
      "cell_type": "code",
      "metadata": {
        "id": "0lTUpUdwobKW",
        "colab_type": "code",
        "colab": {}
      },
      "source": [
        "model_fname = 'cats_and_dogs_small_4.h5' \n",
        "model.save(model_fname)"
      ],
      "execution_count": 0,
      "outputs": []
    },
    {
      "cell_type": "code",
      "metadata": {
        "id": "YhEoI8ZTok-X",
        "colab_type": "code",
        "colab": {
          "base_uri": "https://localhost:8080/",
          "height": 442
        },
        "outputId": "8f9faf1e-3a66-479e-dd94-8da50310ee4e"
      },
      "source": [
        "from google.colab import files\n",
        "\n",
        "with open(model_fname, 'r') as f:\n",
        "  files.download(model_fname)"
      ],
      "execution_count": 17,
      "outputs": [
        {
          "output_type": "stream",
          "text": [
            "----------------------------------------\n",
            "Exception happened during processing of request from ('::ffff:127.0.0.1', 44008, 0, 0)\n",
            "Traceback (most recent call last):\n",
            "  File \"/usr/lib/python3.6/socketserver.py\", line 320, in _handle_request_noblock\n",
            "    self.process_request(request, client_address)\n",
            "  File \"/usr/lib/python3.6/socketserver.py\", line 351, in process_request\n",
            "    self.finish_request(request, client_address)\n",
            "  File \"/usr/lib/python3.6/socketserver.py\", line 364, in finish_request\n",
            "    self.RequestHandlerClass(request, client_address, self)\n",
            "  File \"/usr/lib/python3.6/socketserver.py\", line 724, in __init__\n",
            "    self.handle()\n",
            "  File \"/usr/lib/python3.6/http/server.py\", line 418, in handle\n",
            "    self.handle_one_request()\n",
            "  File \"/usr/lib/python3.6/http/server.py\", line 406, in handle_one_request\n",
            "    method()\n",
            "  File \"/usr/lib/python3.6/http/server.py\", line 639, in do_GET\n",
            "    self.copyfile(f, self.wfile)\n",
            "  File \"/usr/lib/python3.6/http/server.py\", line 800, in copyfile\n",
            "    shutil.copyfileobj(source, outputfile)\n",
            "  File \"/usr/lib/python3.6/shutil.py\", line 82, in copyfileobj\n",
            "    fdst.write(buf)\n",
            "  File \"/usr/lib/python3.6/socketserver.py\", line 803, in write\n",
            "    self._sock.sendall(b)\n",
            "ConnectionResetError: [Errno 104] Connection reset by peer\n",
            "----------------------------------------\n"
          ],
          "name": "stderr"
        }
      ]
    },
    {
      "cell_type": "code",
      "metadata": {
        "id": "VNEL4CCcS0Oj",
        "colab_type": "code",
        "colab": {}
      },
      "source": [
        ""
      ],
      "execution_count": 0,
      "outputs": []
    }
  ]
}