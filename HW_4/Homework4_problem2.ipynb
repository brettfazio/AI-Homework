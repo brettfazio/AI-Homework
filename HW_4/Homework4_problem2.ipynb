{
  "nbformat": 4,
  "nbformat_minor": 0,
  "metadata": {
    "colab": {
      "name": "Homework4_problem2.ipynb",
      "provenance": [],
      "authorship_tag": "ABX9TyPczryvgsuk9z5uZ9oV4vHs",
      "include_colab_link": true
    },
    "kernelspec": {
      "name": "python3",
      "display_name": "Python 3"
    }
  },
  "cells": [
    {
      "cell_type": "markdown",
      "metadata": {
        "id": "view-in-github",
        "colab_type": "text"
      },
      "source": [
        "<a href=\"https://colab.research.google.com/github/brettfazio/AI-Homework/blob/master/HW_4/Homework4_problem2.ipynb\" target=\"_parent\"><img src=\"https://colab.research.google.com/assets/colab-badge.svg\" alt=\"Open In Colab\"/></a>"
      ]
    },
    {
      "cell_type": "markdown",
      "metadata": {
        "id": "ODPo4rUOvrjq",
        "colab_type": "text"
      },
      "source": [
        "# Problem 2\n",
        "*Using only numpy, implement the function maxpooling2d. It takes as input input_mat and s and outputs output_mat. The variables input_mat and output_mat are square matrices and s is an integer. It should compute the maxpooling operation on input_mat using window of shape s times s.*\n",
        "\n"
      ]
    },
    {
      "cell_type": "code",
      "metadata": {
        "id": "yxEZ3cc-wQtO",
        "colab_type": "code",
        "colab": {}
      },
      "source": [
        "# imports\n",
        "import numpy as np"
      ],
      "execution_count": 0,
      "outputs": []
    },
    {
      "cell_type": "code",
      "metadata": {
        "id": "we_ZxBw3kgjz",
        "colab_type": "code",
        "colab": {}
      },
      "source": [
        "def maxpooling2d(input_mat, s):\n",
        "  if (s > input_mat.shape[0]):\n",
        "    raise Exception('Invalid maxpooling input, s is larger than the input matrix.')\n",
        "  \n",
        "  w = input_mat.shape[0]\n",
        "\n",
        "  new_size = int(w / s)\n",
        "\n",
        "  output_mat = np.zeros((new_size, new_size))\n",
        "\n",
        "  for d in np.arange(new_size):\n",
        "    for a in np.arange(new_size):\n",
        "      # Set up our initial value.\n",
        "      output_mat[d][a] = input_mat[d*s][a*s]\n",
        "      for i in np.arange(s):\n",
        "        for j in np.arange(s):\n",
        "          output_mat[d][a] = max(output_mat[d][a], input_mat[i+d*s][j+a*s])\n",
        "\n",
        "  return output_mat"
      ],
      "execution_count": 0,
      "outputs": []
    },
    {
      "cell_type": "markdown",
      "metadata": {
        "id": "303mJWxwwbEu",
        "colab_type": "text"
      },
      "source": [
        "Now I will test the function on a few test cases"
      ]
    },
    {
      "cell_type": "markdown",
      "metadata": {
        "id": "bje4hc3fzXnA",
        "colab_type": "text"
      },
      "source": [
        "This first test case is a valid case that shows off proper padding and returns a valid answer."
      ]
    },
    {
      "cell_type": "code",
      "metadata": {
        "id": "QDG_hVRKzbxu",
        "colab_type": "code",
        "colab": {
          "base_uri": "https://localhost:8080/",
          "height": 187
        },
        "outputId": "511dcfd1-2f61-4f51-d23d-98aa9a598b64"
      },
      "source": [
        "\n",
        "my_matrix = np.arange(25).reshape(5,5)\n",
        "\n",
        "print(\"Input matrix:\")\n",
        "print(my_matrix)\n",
        "\n",
        "print(\"s = 2\")\n",
        "\n",
        "my_result = maxpooling2d(my_matrix, 2)\n",
        "\n",
        "print(\"Resulting matrix:\")\n",
        "print(my_result)\n"
      ],
      "execution_count": 16,
      "outputs": [
        {
          "output_type": "stream",
          "text": [
            "Input matrix:\n",
            "[[ 0  1  2  3  4]\n",
            " [ 5  6  7  8  9]\n",
            " [10 11 12 13 14]\n",
            " [15 16 17 18 19]\n",
            " [20 21 22 23 24]]\n",
            "s = 2\n",
            "Resulting matrix:\n",
            "[[ 6.  8.]\n",
            " [16. 18.]]\n"
          ],
          "name": "stdout"
        }
      ]
    },
    {
      "cell_type": "markdown",
      "metadata": {
        "id": "5GW9Shg6zcFv",
        "colab_type": "text"
      },
      "source": [
        "This second case is an invalid case that throws my custom exception."
      ]
    },
    {
      "cell_type": "code",
      "metadata": {
        "id": "RMXN9W3OzfkC",
        "colab_type": "code",
        "colab": {
          "base_uri": "https://localhost:8080/",
          "height": 419
        },
        "outputId": "0c654231-1b16-4bb9-a01d-76164e0e124f"
      },
      "source": [
        "my_small_matrix = np.arange(16).reshape(4,4)\n",
        "\n",
        "print(\"Input matrix:\")\n",
        "print(my_small_matrix)\n",
        "\n",
        "print(\"s = 10\")\n",
        "\n",
        "my_result = maxpooling2d(my_small_matrix, 10)"
      ],
      "execution_count": 17,
      "outputs": [
        {
          "output_type": "stream",
          "text": [
            "Input matrix:\n",
            "[[ 0  1  2  3]\n",
            " [ 4  5  6  7]\n",
            " [ 8  9 10 11]\n",
            " [12 13 14 15]]\n",
            "s = 10\n"
          ],
          "name": "stdout"
        },
        {
          "output_type": "error",
          "ename": "Exception",
          "evalue": "ignored",
          "traceback": [
            "\u001b[0;31m---------------------------------------------------------------------------\u001b[0m",
            "\u001b[0;31mException\u001b[0m                                 Traceback (most recent call last)",
            "\u001b[0;32m<ipython-input-17-e0c9e1496293>\u001b[0m in \u001b[0;36m<module>\u001b[0;34m()\u001b[0m\n\u001b[1;32m      6\u001b[0m \u001b[0mprint\u001b[0m\u001b[0;34m(\u001b[0m\u001b[0;34m\"s = 10\"\u001b[0m\u001b[0;34m)\u001b[0m\u001b[0;34m\u001b[0m\u001b[0;34m\u001b[0m\u001b[0m\n\u001b[1;32m      7\u001b[0m \u001b[0;34m\u001b[0m\u001b[0m\n\u001b[0;32m----> 8\u001b[0;31m \u001b[0mmy_result\u001b[0m \u001b[0;34m=\u001b[0m \u001b[0mmaxpooling2d\u001b[0m\u001b[0;34m(\u001b[0m\u001b[0mmy_small_matrix\u001b[0m\u001b[0;34m,\u001b[0m \u001b[0;36m10\u001b[0m\u001b[0;34m)\u001b[0m\u001b[0;34m\u001b[0m\u001b[0;34m\u001b[0m\u001b[0m\n\u001b[0m",
            "\u001b[0;32m<ipython-input-15-062b4732962b>\u001b[0m in \u001b[0;36mmaxpooling2d\u001b[0;34m(input_mat, s)\u001b[0m\n\u001b[1;32m      1\u001b[0m \u001b[0;32mdef\u001b[0m \u001b[0mmaxpooling2d\u001b[0m\u001b[0;34m(\u001b[0m\u001b[0minput_mat\u001b[0m\u001b[0;34m,\u001b[0m \u001b[0ms\u001b[0m\u001b[0;34m)\u001b[0m\u001b[0;34m:\u001b[0m\u001b[0;34m\u001b[0m\u001b[0;34m\u001b[0m\u001b[0m\n\u001b[1;32m      2\u001b[0m   \u001b[0;32mif\u001b[0m \u001b[0;34m(\u001b[0m\u001b[0ms\u001b[0m \u001b[0;34m>\u001b[0m \u001b[0minput_mat\u001b[0m\u001b[0;34m.\u001b[0m\u001b[0mshape\u001b[0m\u001b[0;34m[\u001b[0m\u001b[0;36m0\u001b[0m\u001b[0;34m]\u001b[0m\u001b[0;34m)\u001b[0m\u001b[0;34m:\u001b[0m\u001b[0;34m\u001b[0m\u001b[0;34m\u001b[0m\u001b[0m\n\u001b[0;32m----> 3\u001b[0;31m     \u001b[0;32mraise\u001b[0m \u001b[0mException\u001b[0m\u001b[0;34m(\u001b[0m\u001b[0;34m'Invalid maxpooling input, s is larger than the input matrix.'\u001b[0m\u001b[0;34m)\u001b[0m\u001b[0;34m\u001b[0m\u001b[0;34m\u001b[0m\u001b[0m\n\u001b[0m\u001b[1;32m      4\u001b[0m \u001b[0;34m\u001b[0m\u001b[0m\n\u001b[1;32m      5\u001b[0m   \u001b[0mw\u001b[0m \u001b[0;34m=\u001b[0m \u001b[0minput_mat\u001b[0m\u001b[0;34m.\u001b[0m\u001b[0mshape\u001b[0m\u001b[0;34m[\u001b[0m\u001b[0;36m0\u001b[0m\u001b[0;34m]\u001b[0m\u001b[0;34m\u001b[0m\u001b[0;34m\u001b[0m\u001b[0m\n",
            "\u001b[0;31mException\u001b[0m: Invalid maxpooling input, s is larger than the input matrix."
          ]
        }
      ]
    }
  ]
}