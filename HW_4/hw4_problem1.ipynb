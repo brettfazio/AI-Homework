{
  "nbformat": 4,
  "nbformat_minor": 0,
  "metadata": {
    "colab": {
      "name": "hw4_problem1.ipynb",
      "provenance": [],
      "authorship_tag": "ABX9TyNJrWW3Pibf+8Bj3QFcymkQ",
      "include_colab_link": true
    },
    "kernelspec": {
      "name": "python3",
      "display_name": "Python 3"
    }
  },
  "cells": [
    {
      "cell_type": "markdown",
      "metadata": {
        "id": "view-in-github",
        "colab_type": "text"
      },
      "source": [
        "<a href=\"https://colab.research.google.com/github/brettfazio/AI-Homework/blob/master/HW_4/hw4_problem1.ipynb\" target=\"_parent\"><img src=\"https://colab.research.google.com/assets/colab-badge.svg\" alt=\"Open In Colab\"/></a>"
      ]
    },
    {
      "cell_type": "markdown",
      "metadata": {
        "id": "mJ35zZ1uQBFD",
        "colab_type": "text"
      },
      "source": [
        "**Problem 1**\n",
        "\n",
        "*Using only numpy, implement the function conv2d. It takes as input input_mat and kernel_mat and outputs output_mat. All variables are square matrices. It should compute the convolution of input_mat with the kernel kernel_mat using valid padding.*"
      ]
    },
    {
      "cell_type": "markdown",
      "metadata": {
        "id": "kC6joysKQJpn",
        "colab_type": "text"
      },
      "source": [
        "So in this notebook I will make a function `conv2d` that takes in two square matrice and computes the convolution *or* produces an error if a convolution cannot be created."
      ]
    },
    {
      "cell_type": "code",
      "metadata": {
        "id": "CWbHMcpjTSyd",
        "colab_type": "code",
        "colab": {}
      },
      "source": [
        "# Imports\n",
        "import numpy as np"
      ],
      "execution_count": 0,
      "outputs": []
    },
    {
      "cell_type": "code",
      "metadata": {
        "id": "SgTiaE1ZP7Fs",
        "colab_type": "code",
        "colab": {}
      },
      "source": [
        "def conv2d(input_mat, kernel_mat):\n",
        "  # Make sure that a valid convolution can be made\n",
        "  if (kernel_mat.shape[0] > input_mat.shape[0]):\n",
        "    raise Exception('Invalid convolution input, kernel is larger than the input matrix.')\n",
        "\n",
        "  W = kernel_mat.shape[0] # Window size\n",
        "\n",
        "  new_size = input_mat.shape[0] - W + 1\n",
        "\n",
        "  output = np.zeros((new_size, new_size))\n",
        "\n",
        "  # compute the convolution\n",
        "  for d in np.arange(new_size):\n",
        "    for a in np.arange(new_size):\n",
        "      for i in np.arange(W):\n",
        "        for j in np.arange(W):\n",
        "          output[d][a] += kernel_mat[i][j] * input_mat[d+i][a+j]\n",
        "\n",
        "  return output"
      ],
      "execution_count": 0,
      "outputs": []
    },
    {
      "cell_type": "markdown",
      "metadata": {
        "id": "rsVMQ823Rsnx",
        "colab_type": "text"
      },
      "source": [
        "Now I will use the above function with a basic 1x1 kernel."
      ]
    },
    {
      "cell_type": "code",
      "metadata": {
        "id": "RFZvopnIR3fN",
        "colab_type": "code",
        "colab": {
          "base_uri": "https://localhost:8080/",
          "height": 221
        },
        "outputId": "e87b7879-7ad7-4a1d-992c-c3e907339482"
      },
      "source": [
        "input_matrix = np.random.rand(5,5)\n",
        "\n",
        "print(\"Input Matrix:\")\n",
        "print(input_matrix)\n",
        "\n",
        "kernel_one_by_one = np.array([[1]])\n",
        "\n",
        "resulting_matrix = conv2d(input_matrix, kernel_one_by_one)\n",
        "\n",
        "# Resulting matrix should be the same as the input matrix\n",
        "print(\"Resulting Matrix:\")\n",
        "print(resulting_matrix)"
      ],
      "execution_count": 22,
      "outputs": [
        {
          "output_type": "stream",
          "text": [
            "Input Matrix:\n",
            "[[0.84480632 0.72474711 0.86516843 0.50692553 0.98327827]\n",
            " [0.10090673 0.16684281 0.35413952 0.76586938 0.91065362]\n",
            " [0.8670508  0.02429372 0.4476776  0.16165474 0.81463785]\n",
            " [0.19772909 0.12350448 0.81646179 0.37913485 0.49336829]\n",
            " [0.73328811 0.89457122 0.0475502  0.41526678 0.66689977]]\n",
            "Resulting Matrix:\n",
            "[[0.84480632 0.72474711 0.86516843 0.50692553 0.98327827]\n",
            " [0.10090673 0.16684281 0.35413952 0.76586938 0.91065362]\n",
            " [0.8670508  0.02429372 0.4476776  0.16165474 0.81463785]\n",
            " [0.19772909 0.12350448 0.81646179 0.37913485 0.49336829]\n",
            " [0.73328811 0.89457122 0.0475502  0.41526678 0.66689977]]\n"
          ],
          "name": "stdout"
        }
      ]
    },
    {
      "cell_type": "markdown",
      "metadata": {
        "id": "qwj-v-t0TZCv",
        "colab_type": "text"
      },
      "source": [
        "Now I will use an kernel matrix that trims away the outside of the input matrix."
      ]
    },
    {
      "cell_type": "code",
      "metadata": {
        "id": "B_ZGLQ52Tf-i",
        "colab_type": "code",
        "colab": {
          "base_uri": "https://localhost:8080/",
          "height": 221
        },
        "outputId": "abb901c4-eb38-4c5a-f91e-5b74102cfcf7"
      },
      "source": [
        "input_matrix = np.arange(36).reshape(6,6)\n",
        "\n",
        "print(\"Input Matrix:\")\n",
        "print(input_matrix)\n",
        "\n",
        "kernel_cut = np.array([[0,0,0],[0,1,0],[0,0,0]])\n",
        "\n",
        "resulting_matrix = conv2d(input_matrix, kernel_cut)\n",
        "\n",
        "# Resulting matrix should be the same as the input matrix but with the outside\n",
        "# dropped.\n",
        "print(\"Resulting Matrix:\")\n",
        "print(resulting_matrix)"
      ],
      "execution_count": 23,
      "outputs": [
        {
          "output_type": "stream",
          "text": [
            "Input Matrix:\n",
            "[[ 0  1  2  3  4  5]\n",
            " [ 6  7  8  9 10 11]\n",
            " [12 13 14 15 16 17]\n",
            " [18 19 20 21 22 23]\n",
            " [24 25 26 27 28 29]\n",
            " [30 31 32 33 34 35]]\n",
            "Resulting Matrix:\n",
            "[[ 7.  8.  9. 10.]\n",
            " [13. 14. 15. 16.]\n",
            " [19. 20. 21. 22.]\n",
            " [25. 26. 27. 28.]]\n"
          ],
          "name": "stdout"
        }
      ]
    },
    {
      "cell_type": "markdown",
      "metadata": {
        "id": "-X2NuILpTgcL",
        "colab_type": "text"
      },
      "source": [
        "Now I will test an invalid matrix. In this example the "
      ]
    },
    {
      "cell_type": "code",
      "metadata": {
        "id": "3wDfi2MhTiDy",
        "colab_type": "code",
        "colab": {
          "base_uri": "https://localhost:8080/",
          "height": 402
        },
        "outputId": "b5b8aa45-4c3b-4a93-e941-229f04664a51"
      },
      "source": [
        "input_matrix = np.arange(4).reshape(2,2)\n",
        "\n",
        "print(\"Input Matrix:\")\n",
        "print(input_matrix)\n",
        "\n",
        "kernel_fail = np.zeros((3,3))\n",
        "\n",
        "resulting_failure = conv2d(input_matrix, kernel_fail)\n",
        "\n",
        "# should see an exception produced."
      ],
      "execution_count": 24,
      "outputs": [
        {
          "output_type": "stream",
          "text": [
            "Input Matrix:\n",
            "[[0 1]\n",
            " [2 3]]\n"
          ],
          "name": "stdout"
        },
        {
          "output_type": "error",
          "ename": "Exception",
          "evalue": "ignored",
          "traceback": [
            "\u001b[0;31m---------------------------------------------------------------------------\u001b[0m",
            "\u001b[0;31mException\u001b[0m                                 Traceback (most recent call last)",
            "\u001b[0;32m<ipython-input-24-2b258ae714e4>\u001b[0m in \u001b[0;36m<module>\u001b[0;34m()\u001b[0m\n\u001b[1;32m      6\u001b[0m \u001b[0mkernel_fail\u001b[0m \u001b[0;34m=\u001b[0m \u001b[0mnp\u001b[0m\u001b[0;34m.\u001b[0m\u001b[0mzeros\u001b[0m\u001b[0;34m(\u001b[0m\u001b[0;34m(\u001b[0m\u001b[0;36m3\u001b[0m\u001b[0;34m,\u001b[0m\u001b[0;36m3\u001b[0m\u001b[0;34m)\u001b[0m\u001b[0;34m)\u001b[0m\u001b[0;34m\u001b[0m\u001b[0;34m\u001b[0m\u001b[0m\n\u001b[1;32m      7\u001b[0m \u001b[0;34m\u001b[0m\u001b[0m\n\u001b[0;32m----> 8\u001b[0;31m \u001b[0mresulting_failure\u001b[0m \u001b[0;34m=\u001b[0m \u001b[0mconv2d\u001b[0m\u001b[0;34m(\u001b[0m\u001b[0minput_matrix\u001b[0m\u001b[0;34m,\u001b[0m \u001b[0mkernel_fail\u001b[0m\u001b[0;34m)\u001b[0m\u001b[0;34m\u001b[0m\u001b[0;34m\u001b[0m\u001b[0m\n\u001b[0m\u001b[1;32m      9\u001b[0m \u001b[0;34m\u001b[0m\u001b[0m\n\u001b[1;32m     10\u001b[0m \u001b[0;31m# should see an exception produced.\u001b[0m\u001b[0;34m\u001b[0m\u001b[0;34m\u001b[0m\u001b[0;34m\u001b[0m\u001b[0m\n",
            "\u001b[0;32m<ipython-input-21-309eb3270e08>\u001b[0m in \u001b[0;36mconv2d\u001b[0;34m(input_mat, kernel_mat)\u001b[0m\n\u001b[1;32m      2\u001b[0m   \u001b[0;31m# Make sure that a valid convolution can be made\u001b[0m\u001b[0;34m\u001b[0m\u001b[0;34m\u001b[0m\u001b[0;34m\u001b[0m\u001b[0m\n\u001b[1;32m      3\u001b[0m   \u001b[0;32mif\u001b[0m \u001b[0;34m(\u001b[0m\u001b[0mkernel_mat\u001b[0m\u001b[0;34m.\u001b[0m\u001b[0mshape\u001b[0m\u001b[0;34m[\u001b[0m\u001b[0;36m0\u001b[0m\u001b[0;34m]\u001b[0m \u001b[0;34m>\u001b[0m \u001b[0minput_mat\u001b[0m\u001b[0;34m.\u001b[0m\u001b[0mshape\u001b[0m\u001b[0;34m[\u001b[0m\u001b[0;36m0\u001b[0m\u001b[0;34m]\u001b[0m\u001b[0;34m)\u001b[0m\u001b[0;34m:\u001b[0m\u001b[0;34m\u001b[0m\u001b[0;34m\u001b[0m\u001b[0m\n\u001b[0;32m----> 4\u001b[0;31m     \u001b[0;32mraise\u001b[0m \u001b[0mException\u001b[0m\u001b[0;34m(\u001b[0m\u001b[0;34m'Invalid convolution input, kernel is larger than the input matrix.'\u001b[0m\u001b[0;34m)\u001b[0m\u001b[0;34m\u001b[0m\u001b[0;34m\u001b[0m\u001b[0m\n\u001b[0m\u001b[1;32m      5\u001b[0m \u001b[0;34m\u001b[0m\u001b[0m\n\u001b[1;32m      6\u001b[0m   \u001b[0mW\u001b[0m \u001b[0;34m=\u001b[0m \u001b[0mkernel_mat\u001b[0m\u001b[0;34m.\u001b[0m\u001b[0mshape\u001b[0m\u001b[0;34m[\u001b[0m\u001b[0;36m0\u001b[0m\u001b[0;34m]\u001b[0m \u001b[0;31m# Window size\u001b[0m\u001b[0;34m\u001b[0m\u001b[0;34m\u001b[0m\u001b[0m\n",
            "\u001b[0;31mException\u001b[0m: Invalid convolution input, kernel is larger than the input matrix."
          ]
        }
      ]
    }
  ]
}