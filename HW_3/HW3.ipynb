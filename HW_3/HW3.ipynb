{
  "nbformat": 4,
  "nbformat_minor": 0,
  "metadata": {
    "colab": {
      "name": "HW3.ipynb",
      "provenance": [],
      "collapsed_sections": [],
      "authorship_tag": "ABX9TyNKxFEevGS2YtRkUc7wR5Py",
      "include_colab_link": true
    },
    "kernelspec": {
      "name": "python3",
      "display_name": "Python 3"
    }
  },
  "cells": [
    {
      "cell_type": "markdown",
      "metadata": {
        "id": "view-in-github",
        "colab_type": "text"
      },
      "source": [
        "<a href=\"https://colab.research.google.com/github/brettfazio/AI-Homework/blob/master/HW_3/HW3.ipynb\" target=\"_parent\"><img src=\"https://colab.research.google.com/assets/colab-badge.svg\" alt=\"Open In Colab\"/></a>"
      ]
    },
    {
      "cell_type": "markdown",
      "metadata": {
        "id": "Ybxky-g9l310",
        "colab_type": "text"
      },
      "source": [
        "# Problem 1\n",
        "\n",
        "Here I will implement the function `get_random_data(w,b,mu,sigma,m)` that generates data for logistic regression with two features $ x_1 $ and $ x_2"
      ]
    },
    {
      "cell_type": "code",
      "metadata": {
        "id": "eHYTMnCymL0T",
        "colab_type": "code",
        "colab": {}
      },
      "source": [
        "import numpy as np"
      ],
      "execution_count": 0,
      "outputs": []
    },
    {
      "cell_type": "code",
      "metadata": {
        "id": "awpQlpnEl1aw",
        "colab_type": "code",
        "colab": {}
      },
      "source": [
        "def get_random_data(w, b, mu, sigma, m):\n",
        "\n",
        "  # n is noise, chosen according to mean (mu) and std.dev. (sigma)\n",
        "  n = np.random.normal(mu, sigma, m)\n",
        "\n",
        "  x_1 = np.random.rand(m)\n",
        "\n",
        "  # c is the class, 0 has 50% probabiltiy, 1 has 50% probability\n",
        "  c = np.random.randint(2, size=m)\n",
        "  x_2 = w * x_1 + b + (-1)**c * n\n",
        "\n",
        "  variables = np.column_stack([x_1, x_2])\n",
        "\n",
        "  return (variables, c)"
      ],
      "execution_count": 0,
      "outputs": []
    },
    {
      "cell_type": "markdown",
      "metadata": {
        "id": "tT2Kkva2n7vV",
        "colab_type": "text"
      },
      "source": [
        "Below uses the `get_random_data` function to generate a random set of data to plot."
      ]
    },
    {
      "cell_type": "code",
      "metadata": {
        "id": "2LsaD_O-oAwK",
        "colab_type": "code",
        "outputId": "f4313c56-ac4d-4e9f-9251-875d4362eb5e",
        "colab": {
          "base_uri": "https://localhost:8080/",
          "height": 51
        }
      },
      "source": [
        "m = 6000\n",
        "partial = (int) (m * 0.8)\n",
        "\n",
        "data, labels = get_random_data(5,5,1,1,m)\n",
        "\n",
        "print(data.shape)\n",
        "print(labels.shape)"
      ],
      "execution_count": 0,
      "outputs": [
        {
          "output_type": "stream",
          "text": [
            "(6000, 2)\n",
            "(6000,)\n"
          ],
          "name": "stdout"
        }
      ]
    },
    {
      "cell_type": "markdown",
      "metadata": {
        "id": "axhtLvJTmZY4",
        "colab_type": "text"
      },
      "source": [
        "Implementation of `display_random_data(labels, data)` that takes the output of `get_random_data` and plots it."
      ]
    },
    {
      "cell_type": "code",
      "metadata": {
        "id": "6wtVPKdnmo5s",
        "colab_type": "code",
        "colab": {}
      },
      "source": [
        "from mpl_toolkits import mplot3d\n",
        "%matplotlib inline\n",
        "import numpy as np\n",
        "import matplotlib.pyplot as plt"
      ],
      "execution_count": 0,
      "outputs": []
    },
    {
      "cell_type": "code",
      "metadata": {
        "id": "7QQ7JYjTmfps",
        "colab_type": "code",
        "outputId": "04ebdb59-cd3c-4aa7-c66d-fe86a942393c",
        "colab": {
          "base_uri": "https://localhost:8080/",
          "height": 269
        }
      },
      "source": [
        "# Plot a subset of the points\n",
        "def display_random_data(labels, data, show):\n",
        "  display_amount = (int) (m * 0.2)\n",
        "  labels_subset = labels[:display_amount]\n",
        "  data_subset = data[:display_amount]\n",
        "  for cc, point in zip(labels_subset,data_subset):\n",
        "    plt.scatter(point[0], point[1], color= ('red' if cc==1 else 'blue') )\n",
        "  if show:\n",
        "    plt.show()\n",
        "\n",
        "display_random_data(labels, data, 1)"
      ],
      "execution_count": 0,
      "outputs": [
        {
          "output_type": "display_data",
          "data": {
            "image/png": "[encoded data removed]",
            "text/plain": [
              "<Figure size 432x288 with 1 Axes>"
            ]
          },
          "metadata": {
            "tags": []
          }
        }
      ]
    },
    {
      "cell_type": "markdown",
      "metadata": {
        "id": "Hm2OvzOZ6TT7",
        "colab_type": "text"
      },
      "source": [
        "Split the data into training and validation"
      ]
    },
    {
      "cell_type": "code",
      "metadata": {
        "id": "QhjuFazM6Vqi",
        "colab_type": "code",
        "colab": {}
      },
      "source": [
        "train = data[:partial]\n",
        "label_train = labels[:partial]\n",
        "\n",
        "validate = data[partial:]\n",
        "label_validate = labels[partial:]"
      ],
      "execution_count": 0,
      "outputs": []
    },
    {
      "cell_type": "markdown",
      "metadata": {
        "id": "P1gmzB0woyXy",
        "colab_type": "text"
      },
      "source": [
        "# Problem 2\n",
        "\n",
        "Implementing logistic regression with keras"
      ]
    },
    {
      "cell_type": "code",
      "metadata": {
        "id": "OwgEv5M1pJ_0",
        "colab_type": "code",
        "colab": {}
      },
      "source": [
        "# Set up imports\n",
        "%tensorflow_version 2.x\n",
        "import tensorflow as tf"
      ],
      "execution_count": 0,
      "outputs": []
    },
    {
      "cell_type": "markdown",
      "metadata": {
        "id": "SI1HvAuR3pKx",
        "colab_type": "text"
      },
      "source": [
        "Referencing function from the provided in class notes [here](https://colab.research.google.com/drive/1hUc_4HTtPQ2Xq0XXnokV4uoK84zmmvQR)."
      ]
    },
    {
      "cell_type": "code",
      "metadata": {
        "id": "_VlexQdV3lDD",
        "colab_type": "code",
        "colab": {}
      },
      "source": [
        "def build_and_compile_model():\n",
        "  # build model\n",
        "  model = tf.keras.models.Sequential()\n",
        "  model.add(tf.keras.layers.Dense(1, activation='sigmoid', input_shape=(2,)))\n",
        "  # compile model\n",
        "  model.compile(optimizer=tf.keras.optimizers.RMSprop(lr=0.003),\n",
        "                loss='binary_crossentropy',\n",
        "                metrics=['accuracy'])\n",
        "  return model"
      ],
      "execution_count": 0,
      "outputs": []
    },
    {
      "cell_type": "markdown",
      "metadata": {
        "id": "iE5foO9g5R44",
        "colab_type": "text"
      },
      "source": [
        "Create the model and train it"
      ]
    },
    {
      "cell_type": "code",
      "metadata": {
        "id": "P94NXPNB5RDg",
        "colab_type": "code",
        "outputId": "f36fb840-1f35-4f97-eb16-26b79f177580",
        "colab": {
          "base_uri": "https://localhost:8080/",
          "height": 1000
        }
      },
      "source": [
        "my_model = build_and_compile_model()\n",
        "\n",
        "num_epochs = 200\n",
        "\n",
        "history = my_model.fit(train,\n",
        "                    label_train,\n",
        "                    epochs=num_epochs,\n",
        "                    batch_size=512,\n",
        "                    validation_data=(validate, label_validate))"
      ],
      "execution_count": 0,
      "outputs": [
        {
          "output_type": "stream",
          "text": [
            "Train on 4800 samples, validate on 1200 samples\n",
            "Epoch 1/200\n",
            "4800/4800 [==============================] - 1s 137us/sample - loss: 1.2303 - accuracy: 0.4819 - val_loss: 1.1919 - val_accuracy: 0.4667\n",
            "Epoch 2/200\n",
            "4800/4800 [==============================] - 0s 6us/sample - loss: 1.1001 - accuracy: 0.4819 - val_loss: 1.0819 - val_accuracy: 0.4667\n",
            "Epoch 3/200\n",
            "4800/4800 [==============================] - 0s 6us/sample - loss: 1.0050 - accuracy: 0.4819 - val_loss: 0.9916 - val_accuracy: 0.4667\n",
            "Epoch 4/200\n",
            "4800/4800 [==============================] - 0s 6us/sample - loss: 0.9249 - accuracy: 0.4819 - val_loss: 0.9118 - val_accuracy: 0.4667\n",
            "Epoch 5/200\n",
            "4800/4800 [==============================] - 0s 5us/sample - loss: 0.8555 - accuracy: 0.4819 - val_loss: 0.8441 - val_accuracy: 0.4667\n",
            "Epoch 6/200\n",
            "4800/4800 [==============================] - 0s 5us/sample - loss: 0.7977 - accuracy: 0.4821 - val_loss: 0.7871 - val_accuracy: 0.4683\n",
            "Epoch 7/200\n",
            "4800/4800 [==============================] - 0s 5us/sample - loss: 0.7516 - accuracy: 0.4823 - val_loss: 0.7459 - val_accuracy: 0.4683\n",
            "Epoch 8/200\n",
            "4800/4800 [==============================] - 0s 5us/sample - loss: 0.7189 - accuracy: 0.4829 - val_loss: 0.7148 - val_accuracy: 0.4692\n",
            "Epoch 9/200\n",
            "4800/4800 [==============================] - 0s 6us/sample - loss: 0.6966 - accuracy: 0.4898 - val_loss: 0.6954 - val_accuracy: 0.4842\n",
            "Epoch 10/200\n",
            "4800/4800 [==============================] - 0s 6us/sample - loss: 0.6847 - accuracy: 0.5194 - val_loss: 0.6856 - val_accuracy: 0.5317\n",
            "Epoch 11/200\n",
            "4800/4800 [==============================] - 0s 7us/sample - loss: 0.6795 - accuracy: 0.5631 - val_loss: 0.6807 - val_accuracy: 0.5667\n",
            "Epoch 12/200\n",
            "4800/4800 [==============================] - 0s 7us/sample - loss: 0.6773 - accuracy: 0.5885 - val_loss: 0.6791 - val_accuracy: 0.5600\n",
            "Epoch 13/200\n",
            "4800/4800 [==============================] - 0s 6us/sample - loss: 0.6753 - accuracy: 0.5965 - val_loss: 0.6770 - val_accuracy: 0.5667\n",
            "Epoch 14/200\n",
            "4800/4800 [==============================] - 0s 6us/sample - loss: 0.6729 - accuracy: 0.5975 - val_loss: 0.6738 - val_accuracy: 0.5942\n",
            "Epoch 15/200\n",
            "4800/4800 [==============================] - 0s 5us/sample - loss: 0.6705 - accuracy: 0.6112 - val_loss: 0.6718 - val_accuracy: 0.5900\n",
            "Epoch 16/200\n",
            "4800/4800 [==============================] - 0s 6us/sample - loss: 0.6682 - accuracy: 0.6152 - val_loss: 0.6690 - val_accuracy: 0.6033\n",
            "Epoch 17/200\n",
            "4800/4800 [==============================] - 0s 7us/sample - loss: 0.6658 - accuracy: 0.6269 - val_loss: 0.6673 - val_accuracy: 0.5967\n",
            "Epoch 18/200\n",
            "4800/4800 [==============================] - 0s 6us/sample - loss: 0.6634 - accuracy: 0.6267 - val_loss: 0.6642 - val_accuracy: 0.6200\n",
            "Epoch 19/200\n",
            "4800/4800 [==============================] - 0s 5us/sample - loss: 0.6609 - accuracy: 0.6475 - val_loss: 0.6623 - val_accuracy: 0.6150\n",
            "Epoch 20/200\n",
            "4800/4800 [==============================] - 0s 5us/sample - loss: 0.6585 - accuracy: 0.6433 - val_loss: 0.6593 - val_accuracy: 0.6400\n",
            "Epoch 21/200\n",
            "4800/4800 [==============================] - 0s 6us/sample - loss: 0.6560 - accuracy: 0.6617 - val_loss: 0.6583 - val_accuracy: 0.6067\n",
            "Epoch 22/200\n",
            "4800/4800 [==============================] - 0s 6us/sample - loss: 0.6538 - accuracy: 0.6550 - val_loss: 0.6553 - val_accuracy: 0.6275\n",
            "Epoch 23/200\n",
            "4800/4800 [==============================] - 0s 5us/sample - loss: 0.6512 - accuracy: 0.6719 - val_loss: 0.6533 - val_accuracy: 0.6242\n",
            "Epoch 24/200\n",
            "4800/4800 [==============================] - 0s 6us/sample - loss: 0.6488 - accuracy: 0.6604 - val_loss: 0.6489 - val_accuracy: 0.6875\n",
            "Epoch 25/200\n",
            "4800/4800 [==============================] - 0s 5us/sample - loss: 0.6466 - accuracy: 0.6940 - val_loss: 0.6470 - val_accuracy: 0.6750\n",
            "Epoch 26/200\n",
            "4800/4800 [==============================] - 0s 5us/sample - loss: 0.6441 - accuracy: 0.6990 - val_loss: 0.6456 - val_accuracy: 0.6583\n",
            "Epoch 27/200\n",
            "4800/4800 [==============================] - 0s 6us/sample - loss: 0.6419 - accuracy: 0.6938 - val_loss: 0.6427 - val_accuracy: 0.6733\n",
            "Epoch 28/200\n",
            "4800/4800 [==============================] - 0s 5us/sample - loss: 0.6395 - accuracy: 0.6998 - val_loss: 0.6397 - val_accuracy: 0.6933\n",
            "Epoch 29/200\n",
            "4800/4800 [==============================] - 0s 6us/sample - loss: 0.6370 - accuracy: 0.7035 - val_loss: 0.6370 - val_accuracy: 0.7092\n",
            "Epoch 30/200\n",
            "4800/4800 [==============================] - 0s 6us/sample - loss: 0.6350 - accuracy: 0.7227 - val_loss: 0.6360 - val_accuracy: 0.6875\n",
            "Epoch 31/200\n",
            "4800/4800 [==============================] - 0s 6us/sample - loss: 0.6328 - accuracy: 0.7175 - val_loss: 0.6344 - val_accuracy: 0.6825\n",
            "Epoch 32/200\n",
            "4800/4800 [==============================] - 0s 7us/sample - loss: 0.6308 - accuracy: 0.7198 - val_loss: 0.6321 - val_accuracy: 0.6900\n",
            "Epoch 33/200\n",
            "4800/4800 [==============================] - 0s 5us/sample - loss: 0.6286 - accuracy: 0.7237 - val_loss: 0.6301 - val_accuracy: 0.6933\n",
            "Epoch 34/200\n",
            "4800/4800 [==============================] - 0s 7us/sample - loss: 0.6265 - accuracy: 0.7233 - val_loss: 0.6273 - val_accuracy: 0.7067\n",
            "Epoch 35/200\n",
            "4800/4800 [==============================] - 0s 6us/sample - loss: 0.6242 - accuracy: 0.7300 - val_loss: 0.6243 - val_accuracy: 0.7275\n",
            "Epoch 36/200\n",
            "4800/4800 [==============================] - 0s 6us/sample - loss: 0.6224 - accuracy: 0.7429 - val_loss: 0.6224 - val_accuracy: 0.7283\n",
            "Epoch 37/200\n",
            "4800/4800 [==============================] - 0s 5us/sample - loss: 0.6200 - accuracy: 0.7533 - val_loss: 0.6207 - val_accuracy: 0.7200\n",
            "Epoch 38/200\n",
            "4800/4800 [==============================] - 0s 5us/sample - loss: 0.6179 - accuracy: 0.7404 - val_loss: 0.6177 - val_accuracy: 0.7517\n",
            "Epoch 39/200\n",
            "4800/4800 [==============================] - 0s 6us/sample - loss: 0.6160 - accuracy: 0.7565 - val_loss: 0.6160 - val_accuracy: 0.7367\n",
            "Epoch 40/200\n",
            "4800/4800 [==============================] - 0s 6us/sample - loss: 0.6137 - accuracy: 0.7650 - val_loss: 0.6138 - val_accuracy: 0.7425\n",
            "Epoch 41/200\n",
            "4800/4800 [==============================] - 0s 6us/sample - loss: 0.6116 - accuracy: 0.7644 - val_loss: 0.6114 - val_accuracy: 0.7575\n",
            "Epoch 42/200\n",
            "4800/4800 [==============================] - 0s 6us/sample - loss: 0.6096 - accuracy: 0.7748 - val_loss: 0.6106 - val_accuracy: 0.7300\n",
            "Epoch 43/200\n",
            "4800/4800 [==============================] - 0s 5us/sample - loss: 0.6075 - accuracy: 0.7583 - val_loss: 0.6071 - val_accuracy: 0.7600\n",
            "Epoch 44/200\n",
            "4800/4800 [==============================] - 0s 7us/sample - loss: 0.6053 - accuracy: 0.7802 - val_loss: 0.6060 - val_accuracy: 0.7433\n",
            "Epoch 45/200\n",
            "4800/4800 [==============================] - 0s 5us/sample - loss: 0.6031 - accuracy: 0.7679 - val_loss: 0.6027 - val_accuracy: 0.7675\n",
            "Epoch 46/200\n",
            "4800/4800 [==============================] - 0s 5us/sample - loss: 0.6012 - accuracy: 0.7844 - val_loss: 0.6012 - val_accuracy: 0.7650\n",
            "Epoch 47/200\n",
            "4800/4800 [==============================] - 0s 7us/sample - loss: 0.5991 - accuracy: 0.7815 - val_loss: 0.6002 - val_accuracy: 0.7425\n",
            "Epoch 48/200\n",
            "4800/4800 [==============================] - 0s 6us/sample - loss: 0.5970 - accuracy: 0.7725 - val_loss: 0.5968 - val_accuracy: 0.7708\n",
            "Epoch 49/200\n",
            "4800/4800 [==============================] - 0s 6us/sample - loss: 0.5951 - accuracy: 0.7862 - val_loss: 0.5946 - val_accuracy: 0.7733\n",
            "Epoch 50/200\n",
            "4800/4800 [==============================] - 0s 6us/sample - loss: 0.5932 - accuracy: 0.7883 - val_loss: 0.5934 - val_accuracy: 0.7683\n",
            "Epoch 51/200\n",
            "4800/4800 [==============================] - 0s 6us/sample - loss: 0.5912 - accuracy: 0.7900 - val_loss: 0.5912 - val_accuracy: 0.7692\n",
            "Epoch 52/200\n",
            "4800/4800 [==============================] - 0s 5us/sample - loss: 0.5891 - accuracy: 0.7923 - val_loss: 0.5894 - val_accuracy: 0.7700\n",
            "Epoch 53/200\n",
            "4800/4800 [==============================] - 0s 5us/sample - loss: 0.5871 - accuracy: 0.7883 - val_loss: 0.5863 - val_accuracy: 0.7850\n",
            "Epoch 54/200\n",
            "4800/4800 [==============================] - 0s 5us/sample - loss: 0.5854 - accuracy: 0.7962 - val_loss: 0.5847 - val_accuracy: 0.7808\n",
            "Epoch 55/200\n",
            "4800/4800 [==============================] - 0s 6us/sample - loss: 0.5833 - accuracy: 0.7967 - val_loss: 0.5826 - val_accuracy: 0.7842\n",
            "Epoch 56/200\n",
            "4800/4800 [==============================] - 0s 5us/sample - loss: 0.5814 - accuracy: 0.7992 - val_loss: 0.5815 - val_accuracy: 0.7733\n",
            "Epoch 57/200\n",
            "4800/4800 [==============================] - 0s 6us/sample - loss: 0.5794 - accuracy: 0.7979 - val_loss: 0.5788 - val_accuracy: 0.7858\n",
            "Epoch 58/200\n",
            "4800/4800 [==============================] - 0s 7us/sample - loss: 0.5774 - accuracy: 0.8010 - val_loss: 0.5765 - val_accuracy: 0.7917\n",
            "Epoch 59/200\n",
            "4800/4800 [==============================] - 0s 6us/sample - loss: 0.5755 - accuracy: 0.8010 - val_loss: 0.5753 - val_accuracy: 0.7850\n",
            "Epoch 60/200\n",
            "4800/4800 [==============================] - 0s 5us/sample - loss: 0.5736 - accuracy: 0.8006 - val_loss: 0.5727 - val_accuracy: 0.8042\n",
            "Epoch 61/200\n",
            "4800/4800 [==============================] - 0s 7us/sample - loss: 0.5719 - accuracy: 0.8083 - val_loss: 0.5719 - val_accuracy: 0.7833\n",
            "Epoch 62/200\n",
            "4800/4800 [==============================] - 0s 5us/sample - loss: 0.5702 - accuracy: 0.8031 - val_loss: 0.5694 - val_accuracy: 0.7950\n",
            "Epoch 63/200\n",
            "4800/4800 [==============================] - 0s 5us/sample - loss: 0.5682 - accuracy: 0.8023 - val_loss: 0.5673 - val_accuracy: 0.7933\n",
            "Epoch 64/200\n",
            "4800/4800 [==============================] - 0s 6us/sample - loss: 0.5663 - accuracy: 0.8083 - val_loss: 0.5668 - val_accuracy: 0.7783\n",
            "Epoch 65/200\n",
            "4800/4800 [==============================] - 0s 6us/sample - loss: 0.5646 - accuracy: 0.8037 - val_loss: 0.5647 - val_accuracy: 0.7875\n",
            "Epoch 66/200\n",
            "4800/4800 [==============================] - 0s 6us/sample - loss: 0.5628 - accuracy: 0.8067 - val_loss: 0.5633 - val_accuracy: 0.7817\n",
            "Epoch 67/200\n",
            "4800/4800 [==============================] - 0s 5us/sample - loss: 0.5611 - accuracy: 0.8058 - val_loss: 0.5607 - val_accuracy: 0.7933\n",
            "Epoch 68/200\n",
            "4800/4800 [==============================] - 0s 7us/sample - loss: 0.5593 - accuracy: 0.8079 - val_loss: 0.5594 - val_accuracy: 0.7875\n",
            "Epoch 69/200\n",
            "4800/4800 [==============================] - 0s 6us/sample - loss: 0.5578 - accuracy: 0.8092 - val_loss: 0.5575 - val_accuracy: 0.7908\n",
            "Epoch 70/200\n",
            "4800/4800 [==============================] - 0s 6us/sample - loss: 0.5559 - accuracy: 0.8102 - val_loss: 0.5557 - val_accuracy: 0.7917\n",
            "Epoch 71/200\n",
            "4800/4800 [==============================] - 0s 6us/sample - loss: 0.5541 - accuracy: 0.8104 - val_loss: 0.5543 - val_accuracy: 0.7875\n",
            "Epoch 72/200\n",
            "4800/4800 [==============================] - 0s 6us/sample - loss: 0.5524 - accuracy: 0.8104 - val_loss: 0.5521 - val_accuracy: 0.7958\n",
            "Epoch 73/200\n",
            "4800/4800 [==============================] - 0s 6us/sample - loss: 0.5508 - accuracy: 0.8112 - val_loss: 0.5502 - val_accuracy: 0.7992\n",
            "Epoch 74/200\n",
            "4800/4800 [==============================] - 0s 6us/sample - loss: 0.5491 - accuracy: 0.8142 - val_loss: 0.5491 - val_accuracy: 0.7917\n",
            "Epoch 75/200\n",
            "4800/4800 [==============================] - 0s 5us/sample - loss: 0.5474 - accuracy: 0.8135 - val_loss: 0.5481 - val_accuracy: 0.7867\n",
            "Epoch 76/200\n",
            "4800/4800 [==============================] - 0s 6us/sample - loss: 0.5456 - accuracy: 0.8077 - val_loss: 0.5445 - val_accuracy: 0.8067\n",
            "Epoch 77/200\n",
            "4800/4800 [==============================] - 0s 6us/sample - loss: 0.5443 - accuracy: 0.8167 - val_loss: 0.5434 - val_accuracy: 0.8058\n",
            "Epoch 78/200\n",
            "4800/4800 [==============================] - 0s 8us/sample - loss: 0.5425 - accuracy: 0.8171 - val_loss: 0.5422 - val_accuracy: 0.8017\n",
            "Epoch 79/200\n",
            "4800/4800 [==============================] - 0s 5us/sample - loss: 0.5411 - accuracy: 0.8146 - val_loss: 0.5401 - val_accuracy: 0.8067\n",
            "Epoch 80/200\n",
            "4800/4800 [==============================] - 0s 7us/sample - loss: 0.5394 - accuracy: 0.8173 - val_loss: 0.5397 - val_accuracy: 0.7925\n",
            "Epoch 81/200\n",
            "4800/4800 [==============================] - 0s 6us/sample - loss: 0.5380 - accuracy: 0.8142 - val_loss: 0.5371 - val_accuracy: 0.8083\n",
            "Epoch 82/200\n",
            "4800/4800 [==============================] - 0s 6us/sample - loss: 0.5362 - accuracy: 0.8148 - val_loss: 0.5352 - val_accuracy: 0.8075\n",
            "Epoch 83/200\n",
            "4800/4800 [==============================] - 0s 5us/sample - loss: 0.5346 - accuracy: 0.8171 - val_loss: 0.5333 - val_accuracy: 0.8108\n",
            "Epoch 84/200\n",
            "4800/4800 [==============================] - 0s 5us/sample - loss: 0.5330 - accuracy: 0.8175 - val_loss: 0.5316 - val_accuracy: 0.8250\n",
            "Epoch 85/200\n",
            "4800/4800 [==============================] - 0s 5us/sample - loss: 0.5317 - accuracy: 0.8194 - val_loss: 0.5301 - val_accuracy: 0.8200\n",
            "Epoch 86/200\n",
            "4800/4800 [==============================] - 0s 6us/sample - loss: 0.5302 - accuracy: 0.8198 - val_loss: 0.5287 - val_accuracy: 0.8175\n",
            "Epoch 87/200\n",
            "4800/4800 [==============================] - 0s 5us/sample - loss: 0.5287 - accuracy: 0.8223 - val_loss: 0.5277 - val_accuracy: 0.8092\n",
            "Epoch 88/200\n",
            "4800/4800 [==============================] - 0s 6us/sample - loss: 0.5270 - accuracy: 0.8204 - val_loss: 0.5268 - val_accuracy: 0.8092\n",
            "Epoch 89/200\n",
            "4800/4800 [==============================] - 0s 6us/sample - loss: 0.5256 - accuracy: 0.8196 - val_loss: 0.5253 - val_accuracy: 0.8083\n",
            "Epoch 90/200\n",
            "4800/4800 [==============================] - 0s 6us/sample - loss: 0.5241 - accuracy: 0.8194 - val_loss: 0.5244 - val_accuracy: 0.8050\n",
            "Epoch 91/200\n",
            "4800/4800 [==============================] - 0s 6us/sample - loss: 0.5228 - accuracy: 0.8204 - val_loss: 0.5230 - val_accuracy: 0.8050\n",
            "Epoch 92/200\n",
            "4800/4800 [==============================] - 0s 6us/sample - loss: 0.5213 - accuracy: 0.8167 - val_loss: 0.5200 - val_accuracy: 0.8167\n",
            "Epoch 93/200\n",
            "4800/4800 [==============================] - 0s 5us/sample - loss: 0.5198 - accuracy: 0.8219 - val_loss: 0.5190 - val_accuracy: 0.8100\n",
            "Epoch 94/200\n",
            "4800/4800 [==============================] - 0s 5us/sample - loss: 0.5185 - accuracy: 0.8227 - val_loss: 0.5184 - val_accuracy: 0.8100\n",
            "Epoch 95/200\n",
            "4800/4800 [==============================] - 0s 6us/sample - loss: 0.5172 - accuracy: 0.8202 - val_loss: 0.5161 - val_accuracy: 0.8142\n",
            "Epoch 96/200\n",
            "4800/4800 [==============================] - 0s 6us/sample - loss: 0.5157 - accuracy: 0.8229 - val_loss: 0.5143 - val_accuracy: 0.8242\n",
            "Epoch 97/200\n",
            "4800/4800 [==============================] - 0s 6us/sample - loss: 0.5144 - accuracy: 0.8248 - val_loss: 0.5132 - val_accuracy: 0.8167\n",
            "Epoch 98/200\n",
            "4800/4800 [==============================] - 0s 6us/sample - loss: 0.5130 - accuracy: 0.8244 - val_loss: 0.5115 - val_accuracy: 0.8250\n",
            "Epoch 99/200\n",
            "4800/4800 [==============================] - 0s 6us/sample - loss: 0.5118 - accuracy: 0.8244 - val_loss: 0.5107 - val_accuracy: 0.8167\n",
            "Epoch 100/200\n",
            "4800/4800 [==============================] - 0s 6us/sample - loss: 0.5105 - accuracy: 0.8225 - val_loss: 0.5093 - val_accuracy: 0.8200\n",
            "Epoch 101/200\n",
            "4800/4800 [==============================] - 0s 6us/sample - loss: 0.5091 - accuracy: 0.8267 - val_loss: 0.5082 - val_accuracy: 0.8175\n",
            "Epoch 102/200\n",
            "4800/4800 [==============================] - 0s 5us/sample - loss: 0.5077 - accuracy: 0.8221 - val_loss: 0.5061 - val_accuracy: 0.8258\n",
            "Epoch 103/200\n",
            "4800/4800 [==============================] - 0s 5us/sample - loss: 0.5067 - accuracy: 0.8248 - val_loss: 0.5054 - val_accuracy: 0.8217\n",
            "Epoch 104/200\n",
            "4800/4800 [==============================] - 0s 6us/sample - loss: 0.5051 - accuracy: 0.8235 - val_loss: 0.5035 - val_accuracy: 0.8233\n",
            "Epoch 105/200\n",
            "4800/4800 [==============================] - 0s 7us/sample - loss: 0.5039 - accuracy: 0.8273 - val_loss: 0.5026 - val_accuracy: 0.8233\n",
            "Epoch 106/200\n",
            "4800/4800 [==============================] - 0s 6us/sample - loss: 0.5026 - accuracy: 0.8277 - val_loss: 0.5013 - val_accuracy: 0.8233\n",
            "Epoch 107/200\n",
            "4800/4800 [==============================] - 0s 5us/sample - loss: 0.5015 - accuracy: 0.8260 - val_loss: 0.5006 - val_accuracy: 0.8183\n",
            "Epoch 108/200\n",
            "4800/4800 [==============================] - 0s 6us/sample - loss: 0.5004 - accuracy: 0.8256 - val_loss: 0.4990 - val_accuracy: 0.8233\n",
            "Epoch 109/200\n",
            "4800/4800 [==============================] - 0s 6us/sample - loss: 0.4992 - accuracy: 0.8269 - val_loss: 0.4989 - val_accuracy: 0.8125\n",
            "Epoch 110/200\n",
            "4800/4800 [==============================] - 0s 5us/sample - loss: 0.4979 - accuracy: 0.8269 - val_loss: 0.4986 - val_accuracy: 0.8125\n",
            "Epoch 111/200\n",
            "4800/4800 [==============================] - 0s 5us/sample - loss: 0.4971 - accuracy: 0.8233 - val_loss: 0.4956 - val_accuracy: 0.8233\n",
            "Epoch 112/200\n",
            "4800/4800 [==============================] - 0s 5us/sample - loss: 0.4956 - accuracy: 0.8275 - val_loss: 0.4947 - val_accuracy: 0.8225\n",
            "Epoch 113/200\n",
            "4800/4800 [==============================] - 0s 6us/sample - loss: 0.4943 - accuracy: 0.8269 - val_loss: 0.4927 - val_accuracy: 0.8250\n",
            "Epoch 114/200\n",
            "4800/4800 [==============================] - 0s 5us/sample - loss: 0.4933 - accuracy: 0.8294 - val_loss: 0.4926 - val_accuracy: 0.8200\n",
            "Epoch 115/200\n",
            "4800/4800 [==============================] - 0s 6us/sample - loss: 0.4920 - accuracy: 0.8250 - val_loss: 0.4906 - val_accuracy: 0.8225\n",
            "Epoch 116/200\n",
            "4800/4800 [==============================] - 0s 6us/sample - loss: 0.4909 - accuracy: 0.8281 - val_loss: 0.4900 - val_accuracy: 0.8225\n",
            "Epoch 117/200\n",
            "4800/4800 [==============================] - 0s 6us/sample - loss: 0.4897 - accuracy: 0.8252 - val_loss: 0.4886 - val_accuracy: 0.8242\n",
            "Epoch 118/200\n",
            "4800/4800 [==============================] - 0s 6us/sample - loss: 0.4886 - accuracy: 0.8281 - val_loss: 0.4872 - val_accuracy: 0.8225\n",
            "Epoch 119/200\n",
            "4800/4800 [==============================] - 0s 6us/sample - loss: 0.4875 - accuracy: 0.8277 - val_loss: 0.4859 - val_accuracy: 0.8275\n",
            "Epoch 120/200\n",
            "4800/4800 [==============================] - 0s 6us/sample - loss: 0.4863 - accuracy: 0.8290 - val_loss: 0.4860 - val_accuracy: 0.8200\n",
            "Epoch 121/200\n",
            "4800/4800 [==============================] - 0s 6us/sample - loss: 0.4853 - accuracy: 0.8265 - val_loss: 0.4837 - val_accuracy: 0.8275\n",
            "Epoch 122/200\n",
            "4800/4800 [==============================] - 0s 6us/sample - loss: 0.4842 - accuracy: 0.8298 - val_loss: 0.4836 - val_accuracy: 0.8250\n",
            "Epoch 123/200\n",
            "4800/4800 [==============================] - 0s 6us/sample - loss: 0.4832 - accuracy: 0.8265 - val_loss: 0.4821 - val_accuracy: 0.8233\n",
            "Epoch 124/200\n",
            "4800/4800 [==============================] - 0s 5us/sample - loss: 0.4822 - accuracy: 0.8292 - val_loss: 0.4810 - val_accuracy: 0.8233\n",
            "Epoch 125/200\n",
            "4800/4800 [==============================] - 0s 5us/sample - loss: 0.4810 - accuracy: 0.8281 - val_loss: 0.4803 - val_accuracy: 0.8242\n",
            "Epoch 126/200\n",
            "4800/4800 [==============================] - 0s 6us/sample - loss: 0.4799 - accuracy: 0.8281 - val_loss: 0.4800 - val_accuracy: 0.8167\n",
            "Epoch 127/200\n",
            "4800/4800 [==============================] - 0s 6us/sample - loss: 0.4788 - accuracy: 0.8256 - val_loss: 0.4772 - val_accuracy: 0.8275\n",
            "Epoch 128/200\n",
            "4800/4800 [==============================] - 0s 5us/sample - loss: 0.4778 - accuracy: 0.8281 - val_loss: 0.4764 - val_accuracy: 0.8258\n",
            "Epoch 129/200\n",
            "4800/4800 [==============================] - 0s 6us/sample - loss: 0.4768 - accuracy: 0.8292 - val_loss: 0.4767 - val_accuracy: 0.8225\n",
            "Epoch 130/200\n",
            "4800/4800 [==============================] - 0s 6us/sample - loss: 0.4758 - accuracy: 0.8277 - val_loss: 0.4763 - val_accuracy: 0.8150\n",
            "Epoch 131/200\n",
            "4800/4800 [==============================] - 0s 6us/sample - loss: 0.4748 - accuracy: 0.8256 - val_loss: 0.4737 - val_accuracy: 0.8233\n",
            "Epoch 132/200\n",
            "4800/4800 [==============================] - 0s 6us/sample - loss: 0.4737 - accuracy: 0.8292 - val_loss: 0.4728 - val_accuracy: 0.8233\n",
            "Epoch 133/200\n",
            "4800/4800 [==============================] - 0s 7us/sample - loss: 0.4727 - accuracy: 0.8283 - val_loss: 0.4713 - val_accuracy: 0.8283\n",
            "Epoch 134/200\n",
            "4800/4800 [==============================] - 0s 7us/sample - loss: 0.4717 - accuracy: 0.8321 - val_loss: 0.4730 - val_accuracy: 0.8117\n",
            "Epoch 135/200\n",
            "4800/4800 [==============================] - 0s 6us/sample - loss: 0.4712 - accuracy: 0.8269 - val_loss: 0.4701 - val_accuracy: 0.8233\n",
            "Epoch 136/200\n",
            "4800/4800 [==============================] - 0s 5us/sample - loss: 0.4698 - accuracy: 0.8292 - val_loss: 0.4699 - val_accuracy: 0.8258\n",
            "Epoch 137/200\n",
            "4800/4800 [==============================] - 0s 5us/sample - loss: 0.4691 - accuracy: 0.8269 - val_loss: 0.4681 - val_accuracy: 0.8233\n",
            "Epoch 138/200\n",
            "4800/4800 [==============================] - 0s 6us/sample - loss: 0.4681 - accuracy: 0.8285 - val_loss: 0.4678 - val_accuracy: 0.8233\n",
            "Epoch 139/200\n",
            "4800/4800 [==============================] - 0s 6us/sample - loss: 0.4670 - accuracy: 0.8290 - val_loss: 0.4664 - val_accuracy: 0.8233\n",
            "Epoch 140/200\n",
            "4800/4800 [==============================] - 0s 6us/sample - loss: 0.4660 - accuracy: 0.8290 - val_loss: 0.4646 - val_accuracy: 0.8267\n",
            "Epoch 141/200\n",
            "4800/4800 [==============================] - 0s 6us/sample - loss: 0.4654 - accuracy: 0.8313 - val_loss: 0.4643 - val_accuracy: 0.8250\n",
            "Epoch 142/200\n",
            "4800/4800 [==============================] - 0s 5us/sample - loss: 0.4643 - accuracy: 0.8296 - val_loss: 0.4636 - val_accuracy: 0.8225\n",
            "Epoch 143/200\n",
            "4800/4800 [==============================] - 0s 6us/sample - loss: 0.4633 - accuracy: 0.8281 - val_loss: 0.4620 - val_accuracy: 0.8283\n",
            "Epoch 144/200\n",
            "4800/4800 [==============================] - 0s 5us/sample - loss: 0.4624 - accuracy: 0.8302 - val_loss: 0.4613 - val_accuracy: 0.8258\n",
            "Epoch 145/200\n",
            "4800/4800 [==============================] - 0s 5us/sample - loss: 0.4614 - accuracy: 0.8271 - val_loss: 0.4602 - val_accuracy: 0.8292\n",
            "Epoch 146/200\n",
            "4800/4800 [==============================] - 0s 6us/sample - loss: 0.4607 - accuracy: 0.8304 - val_loss: 0.4592 - val_accuracy: 0.8292\n",
            "Epoch 147/200\n",
            "4800/4800 [==============================] - 0s 6us/sample - loss: 0.4597 - accuracy: 0.8292 - val_loss: 0.4583 - val_accuracy: 0.8275\n",
            "Epoch 148/200\n",
            "4800/4800 [==============================] - 0s 6us/sample - loss: 0.4588 - accuracy: 0.8302 - val_loss: 0.4573 - val_accuracy: 0.8283\n",
            "Epoch 149/200\n",
            "4800/4800 [==============================] - 0s 6us/sample - loss: 0.4582 - accuracy: 0.8313 - val_loss: 0.4576 - val_accuracy: 0.8242\n",
            "Epoch 150/200\n",
            "4800/4800 [==============================] - 0s 5us/sample - loss: 0.4573 - accuracy: 0.8304 - val_loss: 0.4572 - val_accuracy: 0.8217\n",
            "Epoch 151/200\n",
            "4800/4800 [==============================] - 0s 6us/sample - loss: 0.4566 - accuracy: 0.8292 - val_loss: 0.4561 - val_accuracy: 0.8250\n",
            "Epoch 152/200\n",
            "4800/4800 [==============================] - 0s 5us/sample - loss: 0.4557 - accuracy: 0.8288 - val_loss: 0.4553 - val_accuracy: 0.8250\n",
            "Epoch 153/200\n",
            "4800/4800 [==============================] - 0s 6us/sample - loss: 0.4549 - accuracy: 0.8296 - val_loss: 0.4539 - val_accuracy: 0.8275\n",
            "Epoch 154/200\n",
            "4800/4800 [==============================] - 0s 5us/sample - loss: 0.4541 - accuracy: 0.8298 - val_loss: 0.4527 - val_accuracy: 0.8292\n",
            "Epoch 155/200\n",
            "4800/4800 [==============================] - 0s 6us/sample - loss: 0.4532 - accuracy: 0.8306 - val_loss: 0.4526 - val_accuracy: 0.8258\n",
            "Epoch 156/200\n",
            "4800/4800 [==============================] - 0s 6us/sample - loss: 0.4525 - accuracy: 0.8296 - val_loss: 0.4517 - val_accuracy: 0.8242\n",
            "Epoch 157/200\n",
            "4800/4800 [==============================] - 0s 6us/sample - loss: 0.4516 - accuracy: 0.8285 - val_loss: 0.4511 - val_accuracy: 0.8258\n",
            "Epoch 158/200\n",
            "4800/4800 [==============================] - 0s 5us/sample - loss: 0.4509 - accuracy: 0.8304 - val_loss: 0.4503 - val_accuracy: 0.8250\n",
            "Epoch 159/200\n",
            "4800/4800 [==============================] - 0s 5us/sample - loss: 0.4500 - accuracy: 0.8315 - val_loss: 0.4499 - val_accuracy: 0.8242\n",
            "Epoch 160/200\n",
            "4800/4800 [==============================] - 0s 6us/sample - loss: 0.4492 - accuracy: 0.8294 - val_loss: 0.4483 - val_accuracy: 0.8267\n",
            "Epoch 161/200\n",
            "4800/4800 [==============================] - 0s 5us/sample - loss: 0.4484 - accuracy: 0.8306 - val_loss: 0.4472 - val_accuracy: 0.8308\n",
            "Epoch 162/200\n",
            "4800/4800 [==============================] - 0s 6us/sample - loss: 0.4476 - accuracy: 0.8288 - val_loss: 0.4460 - val_accuracy: 0.8308\n",
            "Epoch 163/200\n",
            "4800/4800 [==============================] - 0s 6us/sample - loss: 0.4468 - accuracy: 0.8313 - val_loss: 0.4456 - val_accuracy: 0.8308\n",
            "Epoch 164/200\n",
            "4800/4800 [==============================] - 0s 6us/sample - loss: 0.4460 - accuracy: 0.8300 - val_loss: 0.4446 - val_accuracy: 0.8308\n",
            "Epoch 165/200\n",
            "4800/4800 [==============================] - 0s 6us/sample - loss: 0.4453 - accuracy: 0.8313 - val_loss: 0.4445 - val_accuracy: 0.8267\n",
            "Epoch 166/200\n",
            "4800/4800 [==============================] - 0s 6us/sample - loss: 0.4444 - accuracy: 0.8308 - val_loss: 0.4429 - val_accuracy: 0.8317\n",
            "Epoch 167/200\n",
            "4800/4800 [==============================] - 0s 5us/sample - loss: 0.4439 - accuracy: 0.8310 - val_loss: 0.4427 - val_accuracy: 0.8292\n",
            "Epoch 168/200\n",
            "4800/4800 [==============================] - 0s 5us/sample - loss: 0.4431 - accuracy: 0.8279 - val_loss: 0.4419 - val_accuracy: 0.8283\n",
            "Epoch 169/200\n",
            "4800/4800 [==============================] - 0s 5us/sample - loss: 0.4423 - accuracy: 0.8300 - val_loss: 0.4410 - val_accuracy: 0.8308\n",
            "Epoch 170/200\n",
            "4800/4800 [==============================] - 0s 7us/sample - loss: 0.4417 - accuracy: 0.8308 - val_loss: 0.4400 - val_accuracy: 0.8342\n",
            "Epoch 171/200\n",
            "4800/4800 [==============================] - 0s 5us/sample - loss: 0.4411 - accuracy: 0.8310 - val_loss: 0.4407 - val_accuracy: 0.8267\n",
            "Epoch 172/200\n",
            "4800/4800 [==============================] - 0s 6us/sample - loss: 0.4404 - accuracy: 0.8310 - val_loss: 0.4392 - val_accuracy: 0.8283\n",
            "Epoch 173/200\n",
            "4800/4800 [==============================] - 0s 5us/sample - loss: 0.4397 - accuracy: 0.8298 - val_loss: 0.4388 - val_accuracy: 0.8283\n",
            "Epoch 174/200\n",
            "4800/4800 [==============================] - 0s 5us/sample - loss: 0.4391 - accuracy: 0.8308 - val_loss: 0.4376 - val_accuracy: 0.8325\n",
            "Epoch 175/200\n",
            "4800/4800 [==============================] - 0s 6us/sample - loss: 0.4384 - accuracy: 0.8310 - val_loss: 0.4374 - val_accuracy: 0.8283\n",
            "Epoch 176/200\n",
            "4800/4800 [==============================] - 0s 5us/sample - loss: 0.4377 - accuracy: 0.8310 - val_loss: 0.4373 - val_accuracy: 0.8258\n",
            "Epoch 177/200\n",
            "4800/4800 [==============================] - 0s 6us/sample - loss: 0.4370 - accuracy: 0.8294 - val_loss: 0.4371 - val_accuracy: 0.8250\n",
            "Epoch 178/200\n",
            "4800/4800 [==============================] - 0s 6us/sample - loss: 0.4365 - accuracy: 0.8300 - val_loss: 0.4353 - val_accuracy: 0.8292\n",
            "Epoch 179/200\n",
            "4800/4800 [==============================] - 0s 5us/sample - loss: 0.4358 - accuracy: 0.8310 - val_loss: 0.4351 - val_accuracy: 0.8258\n",
            "Epoch 180/200\n",
            "4800/4800 [==============================] - 0s 6us/sample - loss: 0.4352 - accuracy: 0.8306 - val_loss: 0.4354 - val_accuracy: 0.8250\n",
            "Epoch 181/200\n",
            "4800/4800 [==============================] - 0s 6us/sample - loss: 0.4347 - accuracy: 0.8281 - val_loss: 0.4340 - val_accuracy: 0.8250\n",
            "Epoch 182/200\n",
            "4800/4800 [==============================] - 0s 6us/sample - loss: 0.4341 - accuracy: 0.8306 - val_loss: 0.4333 - val_accuracy: 0.8283\n",
            "Epoch 183/200\n",
            "4800/4800 [==============================] - 0s 6us/sample - loss: 0.4334 - accuracy: 0.8300 - val_loss: 0.4330 - val_accuracy: 0.8250\n",
            "Epoch 184/200\n",
            "4800/4800 [==============================] - 0s 5us/sample - loss: 0.4328 - accuracy: 0.8302 - val_loss: 0.4323 - val_accuracy: 0.8258\n",
            "Epoch 185/200\n",
            "4800/4800 [==============================] - 0s 6us/sample - loss: 0.4322 - accuracy: 0.8304 - val_loss: 0.4313 - val_accuracy: 0.8300\n",
            "Epoch 186/200\n",
            "4800/4800 [==============================] - 0s 6us/sample - loss: 0.4317 - accuracy: 0.8302 - val_loss: 0.4307 - val_accuracy: 0.8300\n",
            "Epoch 187/200\n",
            "4800/4800 [==============================] - 0s 6us/sample - loss: 0.4311 - accuracy: 0.8321 - val_loss: 0.4316 - val_accuracy: 0.8250\n",
            "Epoch 188/200\n",
            "4800/4800 [==============================] - 0s 6us/sample - loss: 0.4304 - accuracy: 0.8304 - val_loss: 0.4295 - val_accuracy: 0.8300\n",
            "Epoch 189/200\n",
            "4800/4800 [==============================] - 0s 6us/sample - loss: 0.4299 - accuracy: 0.8321 - val_loss: 0.4287 - val_accuracy: 0.8292\n",
            "Epoch 190/200\n",
            "4800/4800 [==============================] - 0s 5us/sample - loss: 0.4294 - accuracy: 0.8308 - val_loss: 0.4281 - val_accuracy: 0.8317\n",
            "Epoch 191/200\n",
            "4800/4800 [==============================] - 0s 6us/sample - loss: 0.4287 - accuracy: 0.8304 - val_loss: 0.4283 - val_accuracy: 0.8258\n",
            "Epoch 192/200\n",
            "4800/4800 [==============================] - 0s 6us/sample - loss: 0.4282 - accuracy: 0.8313 - val_loss: 0.4274 - val_accuracy: 0.8292\n",
            "Epoch 193/200\n",
            "4800/4800 [==============================] - 0s 5us/sample - loss: 0.4276 - accuracy: 0.8306 - val_loss: 0.4262 - val_accuracy: 0.8358\n",
            "Epoch 194/200\n",
            "4800/4800 [==============================] - 0s 6us/sample - loss: 0.4270 - accuracy: 0.8315 - val_loss: 0.4262 - val_accuracy: 0.8292\n",
            "Epoch 195/200\n",
            "4800/4800 [==============================] - 0s 6us/sample - loss: 0.4264 - accuracy: 0.8308 - val_loss: 0.4252 - val_accuracy: 0.8358\n",
            "Epoch 196/200\n",
            "4800/4800 [==============================] - 0s 6us/sample - loss: 0.4259 - accuracy: 0.8331 - val_loss: 0.4267 - val_accuracy: 0.8258\n",
            "Epoch 197/200\n",
            "4800/4800 [==============================] - 0s 6us/sample - loss: 0.4255 - accuracy: 0.8319 - val_loss: 0.4256 - val_accuracy: 0.8258\n",
            "Epoch 198/200\n",
            "4800/4800 [==============================] - 0s 6us/sample - loss: 0.4248 - accuracy: 0.8306 - val_loss: 0.4237 - val_accuracy: 0.8333\n",
            "Epoch 199/200\n",
            "4800/4800 [==============================] - 0s 5us/sample - loss: 0.4243 - accuracy: 0.8319 - val_loss: 0.4243 - val_accuracy: 0.8250\n",
            "Epoch 200/200\n",
            "4800/4800 [==============================] - 0s 6us/sample - loss: 0.4238 - accuracy: 0.8306 - val_loss: 0.4235 - val_accuracy: 0.8275\n"
          ],
          "name": "stdout"
        }
      ]
    },
    {
      "cell_type": "markdown",
      "metadata": {
        "id": "E1nYkeZxGOaM",
        "colab_type": "text"
      },
      "source": [
        "Using code from provided notebook [here](https://colab.research.google.com/github/schneider128k/machine_learning_course/blob/master/imdb_movie_reviews_classification_dense_layers.ipynb) to graph out my model."
      ]
    },
    {
      "cell_type": "code",
      "metadata": {
        "id": "ls1_inuaGS65",
        "colab_type": "code",
        "outputId": "f54591c3-d759-4126-a1d0-0e113373b97c",
        "colab": {
          "base_uri": "https://localhost:8080/",
          "height": 320
        }
      },
      "source": [
        "import pandas as pd\n",
        "import matplotlib.pyplot as plt\n",
        "from matplotlib.ticker import (AutoMinorLocator, MultipleLocator)\n",
        "\n",
        "pd.DataFrame(history.history).plot(figsize=(10, 5))\n",
        "plt.grid(True)\n",
        "\n",
        "plt.gca().set_ylim(0, 1.1) \n",
        "plt.gca().set_xlim(0, num_epochs)\n",
        "\n",
        "plt.gca().xaxis.set_major_locator(MultipleLocator(2))\n",
        "\n",
        "plt.gca().xaxis.set_major_formatter(plt.FuncFormatter(lambda x, _ : int(x + 1)))\n",
        "\n",
        "plt.gca().xaxis.set_minor_locator(AutoMinorLocator(2))\n",
        "plt.gca().grid(which='minor', color='#CCCCCC', linestyle='--')\n",
        "\n",
        "plt.show()"
      ],
      "execution_count": 0,
      "outputs": [
        {
          "output_type": "display_data",
          "data": {
            "image/png": "[encoded data removed]",
            "text/plain": [
              "<Figure size 720x360 with 1 Axes>"
            ]
          },
          "metadata": {
            "tags": []
          }
        }
      ]
    },
    {
      "cell_type": "markdown",
      "metadata": {
        "id": "67EtOG3XJpdz",
        "colab_type": "text"
      },
      "source": [
        "Graph the line that I trained the data on and the separating line that my model determined.\n",
        "\n",
        "Used [this](https://medium.com/@thomascountz/calculate-the-decision-boundary-of-a-single-perceptron-visualizing-linear-separability-c4d77099ef38) article to help extract the line from the model."
      ]
    },
    {
      "cell_type": "code",
      "metadata": {
        "id": "2Slp_wN3J6Zo",
        "colab_type": "code",
        "outputId": "40f6cdef-4c38-44e1-a70b-35fddae95ae1",
        "colab": {
          "base_uri": "https://localhost:8080/",
          "height": 286
        }
      },
      "source": [
        "# Actual line\n",
        "x_actual = np.linspace(0.0, 1.0, 100)\n",
        "y_actual = x_actual * 5 + 5\n",
        "\n",
        "plt.plot(x_actual, y_actual, color='black')\n",
        "\n",
        "# Extraction of model's line\n",
        "x_new = np.linspace(0.0, 1.0, 100)\n",
        "weights = my_model.layers[0].get_weights()\n",
        "\n",
        "bias = weights[1][0]\n",
        "x_1_weight = weights[0][0]\n",
        "x_2_weight = weights[0][1]\n",
        "\n",
        "y_new = (-(bias / x_2_weight) / (bias / x_1_weight)) * x_new + (-bias / x_2_weight)\n",
        "\n",
        "plt.plot(x_new, y_new, color='green')\n",
        "display_random_data(labels, data, 0)\n",
        "plt.plot()"
      ],
      "execution_count": 0,
      "outputs": [
        {
          "output_type": "execute_result",
          "data": {
            "text/plain": [
              "[]"
            ]
          },
          "metadata": {
            "tags": []
          },
          "execution_count": 338
        },
        {
          "output_type": "display_data",
          "data": {
            "image/png": "[encoded data removed]",
            "text/plain": [
              "<Figure size 432x288 with 1 Axes>"
            ]
          },
          "metadata": {
            "tags": []
          }
        }
      ]
    },
    {
      "cell_type": "markdown",
      "metadata": {
        "id": "r5DyX6zUKDDY",
        "colab_type": "text"
      },
      "source": [
        "Heatmap visualization of my model using inspiration from [here](https://rohitmidha23.github.io/Neural-Network-Decision-Boundary/)."
      ]
    },
    {
      "cell_type": "code",
      "metadata": {
        "id": "pUzRtpDCKE8Q",
        "colab_type": "code",
        "outputId": "586222b7-461b-4435-c3f9-c02c92b86ca0",
        "colab": {
          "base_uri": "https://localhost:8080/",
          "height": 269
        }
      },
      "source": [
        "x_lin = np.linspace(0,1,500)\n",
        "y_lin = np.linspace(0,10,500)\n",
        "\n",
        "fig = plt.figure()\n",
        "\n",
        "X, Y = np.meshgrid(x_lin,y_lin)\n",
        "\n",
        "z = my_model.predict(np.c_[X.ravel(), Y.ravel()])\n",
        "\n",
        "z = z.reshape(X.shape)\n",
        "\n",
        "plt.xlim([0,1])\n",
        "plt.ylim([0,10])\n",
        "\n",
        "plt.contourf(X,Y,z, 40, cmap='RdGy')\n",
        "plt.colorbar()\n",
        "plt.show()"
      ],
      "execution_count": 0,
      "outputs": [
        {
          "output_type": "display_data",
          "data": {
            "image/png": "[encoded data removed]",
            "text/plain": [
              "<Figure size 432x288 with 2 Axes>"
            ]
          },
          "metadata": {
            "tags": []
          }
        }
      ]
    },
    {
      "cell_type": "markdown",
      "metadata": {
        "id": "34f4NzaSo2rb",
        "colab_type": "text"
      },
      "source": [
        "# Problem 3\n",
        "\n",
        "Implementing logistic regression with numpy"
      ]
    },
    {
      "cell_type": "markdown",
      "metadata": {
        "id": "xcye4XdV8yeA",
        "colab_type": "text"
      },
      "source": [
        "Set up constants"
      ]
    },
    {
      "cell_type": "code",
      "metadata": {
        "id": "mdLjJ6HC81Kw",
        "colab_type": "code",
        "colab": {}
      },
      "source": [
        "num_epochs = 200\n",
        "lr = 0.001"
      ],
      "execution_count": 0,
      "outputs": []
    },
    {
      "cell_type": "markdown",
      "metadata": {
        "id": "9AbS23J685ZT",
        "colab_type": "text"
      },
      "source": [
        "Set up sigmoid function $ 1 / {(1 + e^{-z})} $"
      ]
    },
    {
      "cell_type": "code",
      "metadata": {
        "id": "Q1WNyk-J8664",
        "colab_type": "code",
        "colab": {}
      },
      "source": [
        "def sigmoid(z):\n",
        "  return 1 / (1 + np.exp(-1*z))"
      ],
      "execution_count": 0,
      "outputs": []
    },
    {
      "cell_type": "markdown",
      "metadata": {
        "id": "w9PEfLQDhn7v",
        "colab_type": "text"
      },
      "source": [
        "Binary cross entropy for evaluation"
      ]
    },
    {
      "cell_type": "code",
      "metadata": {
        "id": "kPFJznfKhvwQ",
        "colab_type": "code",
        "colab": {}
      },
      "source": [
        "def binary_cross_entropy(y, a):\n",
        "  return -y * np.log10(a) - (1-y) * np.log10(1-a)"
      ],
      "execution_count": 0,
      "outputs": []
    },
    {
      "cell_type": "markdown",
      "metadata": {
        "id": "O5s9kKIzhrV6",
        "colab_type": "text"
      },
      "source": [
        "Computing loss function"
      ]
    },
    {
      "cell_type": "code",
      "metadata": {
        "id": "TdtUWc_Lhuqq",
        "colab_type": "code",
        "colab": {}
      },
      "source": [
        "def compute_loss(A, B):\n",
        "  loss = 0\n",
        "  for data_val, label in zip(A, B):\n",
        "    pred = np.dot(np.reshape(manual_weights, (2,)), data_val) + manual_bias\n",
        "    bce = binary_cross_entropy(label, sigmoid(pred))\n",
        "    loss += bce\n",
        "  loss /= (partial)\n",
        "  return loss"
      ],
      "execution_count": 0,
      "outputs": []
    },
    {
      "cell_type": "markdown",
      "metadata": {
        "id": "o3uhSSy4P4Tt",
        "colab_type": "text"
      },
      "source": [
        "Perform logistic logression for the set number of epochs"
      ]
    },
    {
      "cell_type": "code",
      "metadata": {
        "id": "XQnusmZhP7TE",
        "colab_type": "code",
        "outputId": "64a69fbc-a5f9-4658-b7ea-50b8f50701d1",
        "colab": {
          "base_uri": "https://localhost:8080/",
          "height": 51
        }
      },
      "source": [
        "manual_weights = np.random.rand(2)\n",
        "manual_bias = np.zeros(1)\n",
        "\n",
        "for epoch in np.arange(num_epochs):\n",
        "  for i in np.arange(partial):\n",
        "    y_pred = np.dot(manual_weights,train[i]) + manual_bias #size of (1,)\n",
        "    inner = sigmoid(y_pred)-label_train[i]\n",
        "    gradient_weight_0 = inner*train[i][0]\n",
        "    gradient_weight_1 = inner*train[i][1]\n",
        "    gradient_b = inner\n",
        "\n",
        "    manual_weights[0] -= lr * gradient_weight_0\n",
        "    manual_weights[1] -= lr * gradient_weight_1\n",
        "    manual_bias -= lr * gradient_b\n",
        "\n",
        "print(manual_weights)\n",
        "print(manual_bias)"
      ],
      "execution_count": 0,
      "outputs": [
        {
          "output_type": "stream",
          "text": [
            "[ 8.34776185 -1.68439603]\n",
            "[8.52795832]\n"
          ],
          "name": "stdout"
        }
      ]
    },
    {
      "cell_type": "markdown",
      "metadata": {
        "id": "8FQ17BTIgOQJ",
        "colab_type": "text"
      },
      "source": [
        "# Compute the loss and the accuracy"
      ]
    },
    {
      "cell_type": "code",
      "metadata": {
        "id": "lhn5DYcHDqgu",
        "colab_type": "code",
        "outputId": "f0d45c91-bf88-435e-c37c-a940fbf0043a",
        "colab": {
          "base_uri": "https://localhost:8080/",
          "height": 34
        }
      },
      "source": [
        "print(compute_loss(validate, label_validate))"
      ],
      "execution_count": 0,
      "outputs": [
        {
          "output_type": "stream",
          "text": [
            "[0.04059314]\n"
          ],
          "name": "stdout"
        }
      ]
    },
    {
      "cell_type": "markdown",
      "metadata": {
        "id": "zmWJOUAehs6X",
        "colab_type": "text"
      },
      "source": [
        "Computing accuracy - go through each of the test labels and compare the predicted value with the expected value"
      ]
    },
    {
      "cell_type": "code",
      "metadata": {
        "id": "I1fNYe2tgN1n",
        "colab_type": "code",
        "outputId": "b4b755ed-c661-4dd8-acb5-d741e67360f2",
        "colab": {
          "base_uri": "https://localhost:8080/",
          "height": 34
        }
      },
      "source": [
        "accuracy = 0\n",
        "for data_val, label in zip(validate, label_validate):\n",
        "  y_prediction = np.dot(np.reshape(manual_weights, (2,)), data_val) + manual_bias\n",
        "  label_prediction = 1 if sigmoid(y_prediction) > 0.5 else 0\n",
        "  accuracy += 1 if label_prediction == label else 0\n",
        "\n",
        "print(accuracy / (m-partial))"
      ],
      "execution_count": 0,
      "outputs": [
        {
          "output_type": "stream",
          "text": [
            "0.8316666666666667\n"
          ],
          "name": "stdout"
        }
      ]
    },
    {
      "cell_type": "markdown",
      "metadata": {
        "id": "0PHHhxXxgP4_",
        "colab_type": "text"
      },
      "source": [
        "Plot the estimated line"
      ]
    },
    {
      "cell_type": "code",
      "metadata": {
        "id": "FbGj-YgWgRfJ",
        "colab_type": "code",
        "outputId": "228863b7-f4d2-48f1-ef5e-a9c6683ba648",
        "colab": {
          "base_uri": "https://localhost:8080/",
          "height": 286
        }
      },
      "source": [
        "# Actual line\n",
        "x_actual = np.linspace(0.0, 1.0, 100)\n",
        "y_actual = x_actual * 5 + 5\n",
        "\n",
        "plt.plot(x_actual, y_actual, color='black')\n",
        "\n",
        "# Extraction of model's line\n",
        "x_new = np.linspace(0.0, 1.0, 100)\n",
        "\n",
        "bias = manual_bias[0]\n",
        "x_1_weight = manual_weights[0]\n",
        "x_2_weight = manual_weights[1]\n",
        "\n",
        "y_new = (-(bias / x_2_weight) / (bias / x_1_weight)) * x_new + (-bias / x_2_weight)\n",
        "\n",
        "plt.plot(x_new, y_new, color='green')\n",
        "display_random_data(labels, data, 0)\n",
        "plt.plot()"
      ],
      "execution_count": 0,
      "outputs": [
        {
          "output_type": "execute_result",
          "data": {
            "text/plain": [
              "[]"
            ]
          },
          "metadata": {
            "tags": []
          },
          "execution_count": 548
        },
        {
          "output_type": "display_data",
          "data": {
            "image/png": "[encoded data removed]",
            "text/plain": [
              "<Figure size 432x288 with 1 Axes>"
            ]
          },
          "metadata": {
            "tags": []
          }
        }
      ]
    },
    {
      "cell_type": "markdown",
      "metadata": {
        "id": "smO-kZ71gRv2",
        "colab_type": "text"
      },
      "source": [
        "Heatmap for the manual logistic regression"
      ]
    },
    {
      "cell_type": "code",
      "metadata": {
        "id": "vrks2P1wgT20",
        "colab_type": "code",
        "outputId": "2e460f8e-466c-4b19-de1a-cb60363eb169",
        "colab": {
          "base_uri": "https://localhost:8080/",
          "height": 269
        }
      },
      "source": [
        "x_lin = np.linspace(0,1,500)\n",
        "y_lin = np.linspace(0,10,500)\n",
        "\n",
        "fig = plt.figure()\n",
        "\n",
        "X, Y = np.meshgrid(x_lin,y_lin)\n",
        "\n",
        "# use the weights and bias to compute the color on the heatmap\n",
        "z = sigmoid(X.ravel() * manual_weights[0] + Y.ravel() * manual_weights[1] + manual_bias[0])\n",
        "z = z.reshape(X.shape)\n",
        "\n",
        "plt.xlim([0,1])\n",
        "plt.ylim([0,10])\n",
        "\n",
        "plt.contourf(X,Y,z, 40, cmap='RdGy')\n",
        "plt.colorbar()\n",
        "plt.show()"
      ],
      "execution_count": 0,
      "outputs": [
        {
          "output_type": "display_data",
          "data": {
            "image/png": "[encoded data removed]",
            "text/plain": [
              "<Figure size 432x288 with 2 Axes>"
            ]
          },
          "metadata": {
            "tags": []
          }
        }
      ]
    }
  ]
}